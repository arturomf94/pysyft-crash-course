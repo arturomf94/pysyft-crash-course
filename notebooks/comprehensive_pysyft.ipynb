{
  "nbformat": 4,
  "nbformat_minor": 0,
  "metadata": {
    "colab": {
      "name": "comprehensive_pysyft.ipynb",
      "provenance": [],
      "collapsed_sections": [
        "gYj-VM58Ieq1"
      ],
      "authorship_tag": "ABX9TyOHznwf7IJONOM3x2qf98Uc",
      "include_colab_link": true
    },
    "kernelspec": {
      "name": "python3",
      "display_name": "Python 3"
    },
    "widgets": {
      "application/vnd.jupyter.widget-state+json": {
        "27f754d0c1a9403792626bd039c13a6c": {
          "model_module": "@jupyter-widgets/controls",
          "model_name": "HBoxModel",
          "state": {
            "_view_name": "HBoxView",
            "_dom_classes": [],
            "_model_name": "HBoxModel",
            "_view_module": "@jupyter-widgets/controls",
            "_model_module_version": "1.5.0",
            "_view_count": null,
            "_view_module_version": "1.5.0",
            "box_style": "",
            "layout": "IPY_MODEL_b2114f7c26c94b9dbfe6ccd380cb0981",
            "_model_module": "@jupyter-widgets/controls",
            "children": [
              "IPY_MODEL_3022e642ce444717805d247cdea0c901",
              "IPY_MODEL_7debf51c740248d89a00b52b88bc9f8a"
            ]
          }
        },
        "b2114f7c26c94b9dbfe6ccd380cb0981": {
          "model_module": "@jupyter-widgets/base",
          "model_name": "LayoutModel",
          "state": {
            "_view_name": "LayoutView",
            "grid_template_rows": null,
            "right": null,
            "justify_content": null,
            "_view_module": "@jupyter-widgets/base",
            "overflow": null,
            "_model_module_version": "1.2.0",
            "_view_count": null,
            "flex_flow": null,
            "width": null,
            "min_width": null,
            "border": null,
            "align_items": null,
            "bottom": null,
            "_model_module": "@jupyter-widgets/base",
            "top": null,
            "grid_column": null,
            "overflow_y": null,
            "overflow_x": null,
            "grid_auto_flow": null,
            "grid_area": null,
            "grid_template_columns": null,
            "flex": null,
            "_model_name": "LayoutModel",
            "justify_items": null,
            "grid_row": null,
            "max_height": null,
            "align_content": null,
            "visibility": null,
            "align_self": null,
            "height": null,
            "min_height": null,
            "padding": null,
            "grid_auto_rows": null,
            "grid_gap": null,
            "max_width": null,
            "order": null,
            "_view_module_version": "1.2.0",
            "grid_template_areas": null,
            "object_position": null,
            "object_fit": null,
            "grid_auto_columns": null,
            "margin": null,
            "display": null,
            "left": null
          }
        },
        "3022e642ce444717805d247cdea0c901": {
          "model_module": "@jupyter-widgets/controls",
          "model_name": "IntProgressModel",
          "state": {
            "_view_name": "ProgressView",
            "style": "IPY_MODEL_7dd9b68b244348da8561f176d9c1a51a",
            "_dom_classes": [],
            "description": "",
            "_model_name": "IntProgressModel",
            "bar_style": "info",
            "max": 1,
            "_view_module": "@jupyter-widgets/controls",
            "_model_module_version": "1.5.0",
            "value": 1,
            "_view_count": null,
            "_view_module_version": "1.5.0",
            "orientation": "horizontal",
            "min": 0,
            "description_tooltip": null,
            "_model_module": "@jupyter-widgets/controls",
            "layout": "IPY_MODEL_fb05b690c6d6492fbd6cb41ac498d2e7"
          }
        },
        "7debf51c740248d89a00b52b88bc9f8a": {
          "model_module": "@jupyter-widgets/controls",
          "model_name": "HTMLModel",
          "state": {
            "_view_name": "HTMLView",
            "style": "IPY_MODEL_f36be0bfbae54e469bbe66a907805e31",
            "_dom_classes": [],
            "description": "",
            "_model_name": "HTMLModel",
            "placeholder": "​",
            "_view_module": "@jupyter-widgets/controls",
            "_model_module_version": "1.5.0",
            "value": " 9920512/? [00:20&lt;00:00, 11907865.59it/s]",
            "_view_count": null,
            "_view_module_version": "1.5.0",
            "description_tooltip": null,
            "_model_module": "@jupyter-widgets/controls",
            "layout": "IPY_MODEL_ba4bef8b903c40bbab6bd84c81fb9d71"
          }
        },
        "7dd9b68b244348da8561f176d9c1a51a": {
          "model_module": "@jupyter-widgets/controls",
          "model_name": "ProgressStyleModel",
          "state": {
            "_view_name": "StyleView",
            "_model_name": "ProgressStyleModel",
            "description_width": "initial",
            "_view_module": "@jupyter-widgets/base",
            "_model_module_version": "1.5.0",
            "_view_count": null,
            "_view_module_version": "1.2.0",
            "bar_color": null,
            "_model_module": "@jupyter-widgets/controls"
          }
        },
        "fb05b690c6d6492fbd6cb41ac498d2e7": {
          "model_module": "@jupyter-widgets/base",
          "model_name": "LayoutModel",
          "state": {
            "_view_name": "LayoutView",
            "grid_template_rows": null,
            "right": null,
            "justify_content": null,
            "_view_module": "@jupyter-widgets/base",
            "overflow": null,
            "_model_module_version": "1.2.0",
            "_view_count": null,
            "flex_flow": null,
            "width": null,
            "min_width": null,
            "border": null,
            "align_items": null,
            "bottom": null,
            "_model_module": "@jupyter-widgets/base",
            "top": null,
            "grid_column": null,
            "overflow_y": null,
            "overflow_x": null,
            "grid_auto_flow": null,
            "grid_area": null,
            "grid_template_columns": null,
            "flex": null,
            "_model_name": "LayoutModel",
            "justify_items": null,
            "grid_row": null,
            "max_height": null,
            "align_content": null,
            "visibility": null,
            "align_self": null,
            "height": null,
            "min_height": null,
            "padding": null,
            "grid_auto_rows": null,
            "grid_gap": null,
            "max_width": null,
            "order": null,
            "_view_module_version": "1.2.0",
            "grid_template_areas": null,
            "object_position": null,
            "object_fit": null,
            "grid_auto_columns": null,
            "margin": null,
            "display": null,
            "left": null
          }
        },
        "f36be0bfbae54e469bbe66a907805e31": {
          "model_module": "@jupyter-widgets/controls",
          "model_name": "DescriptionStyleModel",
          "state": {
            "_view_name": "StyleView",
            "_model_name": "DescriptionStyleModel",
            "description_width": "",
            "_view_module": "@jupyter-widgets/base",
            "_model_module_version": "1.5.0",
            "_view_count": null,
            "_view_module_version": "1.2.0",
            "_model_module": "@jupyter-widgets/controls"
          }
        },
        "ba4bef8b903c40bbab6bd84c81fb9d71": {
          "model_module": "@jupyter-widgets/base",
          "model_name": "LayoutModel",
          "state": {
            "_view_name": "LayoutView",
            "grid_template_rows": null,
            "right": null,
            "justify_content": null,
            "_view_module": "@jupyter-widgets/base",
            "overflow": null,
            "_model_module_version": "1.2.0",
            "_view_count": null,
            "flex_flow": null,
            "width": null,
            "min_width": null,
            "border": null,
            "align_items": null,
            "bottom": null,
            "_model_module": "@jupyter-widgets/base",
            "top": null,
            "grid_column": null,
            "overflow_y": null,
            "overflow_x": null,
            "grid_auto_flow": null,
            "grid_area": null,
            "grid_template_columns": null,
            "flex": null,
            "_model_name": "LayoutModel",
            "justify_items": null,
            "grid_row": null,
            "max_height": null,
            "align_content": null,
            "visibility": null,
            "align_self": null,
            "height": null,
            "min_height": null,
            "padding": null,
            "grid_auto_rows": null,
            "grid_gap": null,
            "max_width": null,
            "order": null,
            "_view_module_version": "1.2.0",
            "grid_template_areas": null,
            "object_position": null,
            "object_fit": null,
            "grid_auto_columns": null,
            "margin": null,
            "display": null,
            "left": null
          }
        },
        "bd0a456e17944b03bf2267e093efba3c": {
          "model_module": "@jupyter-widgets/controls",
          "model_name": "HBoxModel",
          "state": {
            "_view_name": "HBoxView",
            "_dom_classes": [],
            "_model_name": "HBoxModel",
            "_view_module": "@jupyter-widgets/controls",
            "_model_module_version": "1.5.0",
            "_view_count": null,
            "_view_module_version": "1.5.0",
            "box_style": "",
            "layout": "IPY_MODEL_efe47e4fd0094ad59caf3c280d37ef44",
            "_model_module": "@jupyter-widgets/controls",
            "children": [
              "IPY_MODEL_5753c6d6caf9427eb376b84fe552a1d9",
              "IPY_MODEL_1dbda457de094d65b2c4aba74bbc986c"
            ]
          }
        },
        "efe47e4fd0094ad59caf3c280d37ef44": {
          "model_module": "@jupyter-widgets/base",
          "model_name": "LayoutModel",
          "state": {
            "_view_name": "LayoutView",
            "grid_template_rows": null,
            "right": null,
            "justify_content": null,
            "_view_module": "@jupyter-widgets/base",
            "overflow": null,
            "_model_module_version": "1.2.0",
            "_view_count": null,
            "flex_flow": null,
            "width": null,
            "min_width": null,
            "border": null,
            "align_items": null,
            "bottom": null,
            "_model_module": "@jupyter-widgets/base",
            "top": null,
            "grid_column": null,
            "overflow_y": null,
            "overflow_x": null,
            "grid_auto_flow": null,
            "grid_area": null,
            "grid_template_columns": null,
            "flex": null,
            "_model_name": "LayoutModel",
            "justify_items": null,
            "grid_row": null,
            "max_height": null,
            "align_content": null,
            "visibility": null,
            "align_self": null,
            "height": null,
            "min_height": null,
            "padding": null,
            "grid_auto_rows": null,
            "grid_gap": null,
            "max_width": null,
            "order": null,
            "_view_module_version": "1.2.0",
            "grid_template_areas": null,
            "object_position": null,
            "object_fit": null,
            "grid_auto_columns": null,
            "margin": null,
            "display": null,
            "left": null
          }
        },
        "5753c6d6caf9427eb376b84fe552a1d9": {
          "model_module": "@jupyter-widgets/controls",
          "model_name": "IntProgressModel",
          "state": {
            "_view_name": "ProgressView",
            "style": "IPY_MODEL_600e3dc9f9584963b69b8f91963333e3",
            "_dom_classes": [],
            "description": "  0%",
            "_model_name": "IntProgressModel",
            "bar_style": "info",
            "max": 1,
            "_view_module": "@jupyter-widgets/controls",
            "_model_module_version": "1.5.0",
            "value": 0,
            "_view_count": null,
            "_view_module_version": "1.5.0",
            "orientation": "horizontal",
            "min": 0,
            "description_tooltip": null,
            "_model_module": "@jupyter-widgets/controls",
            "layout": "IPY_MODEL_760e0211853741d4af52149d190b67e0"
          }
        },
        "1dbda457de094d65b2c4aba74bbc986c": {
          "model_module": "@jupyter-widgets/controls",
          "model_name": "HTMLModel",
          "state": {
            "_view_name": "HTMLView",
            "style": "IPY_MODEL_5ae88bc759024f18b77114d917c6e537",
            "_dom_classes": [],
            "description": "",
            "_model_name": "HTMLModel",
            "placeholder": "​",
            "_view_module": "@jupyter-widgets/controls",
            "_model_module_version": "1.5.0",
            "value": " 0/28881 [00:00&lt;?, ?it/s]",
            "_view_count": null,
            "_view_module_version": "1.5.0",
            "description_tooltip": null,
            "_model_module": "@jupyter-widgets/controls",
            "layout": "IPY_MODEL_293a11238b0349499568b6459f4710d7"
          }
        },
        "600e3dc9f9584963b69b8f91963333e3": {
          "model_module": "@jupyter-widgets/controls",
          "model_name": "ProgressStyleModel",
          "state": {
            "_view_name": "StyleView",
            "_model_name": "ProgressStyleModel",
            "description_width": "initial",
            "_view_module": "@jupyter-widgets/base",
            "_model_module_version": "1.5.0",
            "_view_count": null,
            "_view_module_version": "1.2.0",
            "bar_color": null,
            "_model_module": "@jupyter-widgets/controls"
          }
        },
        "760e0211853741d4af52149d190b67e0": {
          "model_module": "@jupyter-widgets/base",
          "model_name": "LayoutModel",
          "state": {
            "_view_name": "LayoutView",
            "grid_template_rows": null,
            "right": null,
            "justify_content": null,
            "_view_module": "@jupyter-widgets/base",
            "overflow": null,
            "_model_module_version": "1.2.0",
            "_view_count": null,
            "flex_flow": null,
            "width": null,
            "min_width": null,
            "border": null,
            "align_items": null,
            "bottom": null,
            "_model_module": "@jupyter-widgets/base",
            "top": null,
            "grid_column": null,
            "overflow_y": null,
            "overflow_x": null,
            "grid_auto_flow": null,
            "grid_area": null,
            "grid_template_columns": null,
            "flex": null,
            "_model_name": "LayoutModel",
            "justify_items": null,
            "grid_row": null,
            "max_height": null,
            "align_content": null,
            "visibility": null,
            "align_self": null,
            "height": null,
            "min_height": null,
            "padding": null,
            "grid_auto_rows": null,
            "grid_gap": null,
            "max_width": null,
            "order": null,
            "_view_module_version": "1.2.0",
            "grid_template_areas": null,
            "object_position": null,
            "object_fit": null,
            "grid_auto_columns": null,
            "margin": null,
            "display": null,
            "left": null
          }
        },
        "5ae88bc759024f18b77114d917c6e537": {
          "model_module": "@jupyter-widgets/controls",
          "model_name": "DescriptionStyleModel",
          "state": {
            "_view_name": "StyleView",
            "_model_name": "DescriptionStyleModel",
            "description_width": "",
            "_view_module": "@jupyter-widgets/base",
            "_model_module_version": "1.5.0",
            "_view_count": null,
            "_view_module_version": "1.2.0",
            "_model_module": "@jupyter-widgets/controls"
          }
        },
        "293a11238b0349499568b6459f4710d7": {
          "model_module": "@jupyter-widgets/base",
          "model_name": "LayoutModel",
          "state": {
            "_view_name": "LayoutView",
            "grid_template_rows": null,
            "right": null,
            "justify_content": null,
            "_view_module": "@jupyter-widgets/base",
            "overflow": null,
            "_model_module_version": "1.2.0",
            "_view_count": null,
            "flex_flow": null,
            "width": null,
            "min_width": null,
            "border": null,
            "align_items": null,
            "bottom": null,
            "_model_module": "@jupyter-widgets/base",
            "top": null,
            "grid_column": null,
            "overflow_y": null,
            "overflow_x": null,
            "grid_auto_flow": null,
            "grid_area": null,
            "grid_template_columns": null,
            "flex": null,
            "_model_name": "LayoutModel",
            "justify_items": null,
            "grid_row": null,
            "max_height": null,
            "align_content": null,
            "visibility": null,
            "align_self": null,
            "height": null,
            "min_height": null,
            "padding": null,
            "grid_auto_rows": null,
            "grid_gap": null,
            "max_width": null,
            "order": null,
            "_view_module_version": "1.2.0",
            "grid_template_areas": null,
            "object_position": null,
            "object_fit": null,
            "grid_auto_columns": null,
            "margin": null,
            "display": null,
            "left": null
          }
        },
        "39784bf95f9b44a9820518656a40a33a": {
          "model_module": "@jupyter-widgets/controls",
          "model_name": "HBoxModel",
          "state": {
            "_view_name": "HBoxView",
            "_dom_classes": [],
            "_model_name": "HBoxModel",
            "_view_module": "@jupyter-widgets/controls",
            "_model_module_version": "1.5.0",
            "_view_count": null,
            "_view_module_version": "1.5.0",
            "box_style": "",
            "layout": "IPY_MODEL_5bb46322bc57431980483b424be41ff4",
            "_model_module": "@jupyter-widgets/controls",
            "children": [
              "IPY_MODEL_ff98ac5b6bee4c17824f24ec8a7362e7",
              "IPY_MODEL_a18a14522bd046b681ef87cedc373752"
            ]
          }
        },
        "5bb46322bc57431980483b424be41ff4": {
          "model_module": "@jupyter-widgets/base",
          "model_name": "LayoutModel",
          "state": {
            "_view_name": "LayoutView",
            "grid_template_rows": null,
            "right": null,
            "justify_content": null,
            "_view_module": "@jupyter-widgets/base",
            "overflow": null,
            "_model_module_version": "1.2.0",
            "_view_count": null,
            "flex_flow": null,
            "width": null,
            "min_width": null,
            "border": null,
            "align_items": null,
            "bottom": null,
            "_model_module": "@jupyter-widgets/base",
            "top": null,
            "grid_column": null,
            "overflow_y": null,
            "overflow_x": null,
            "grid_auto_flow": null,
            "grid_area": null,
            "grid_template_columns": null,
            "flex": null,
            "_model_name": "LayoutModel",
            "justify_items": null,
            "grid_row": null,
            "max_height": null,
            "align_content": null,
            "visibility": null,
            "align_self": null,
            "height": null,
            "min_height": null,
            "padding": null,
            "grid_auto_rows": null,
            "grid_gap": null,
            "max_width": null,
            "order": null,
            "_view_module_version": "1.2.0",
            "grid_template_areas": null,
            "object_position": null,
            "object_fit": null,
            "grid_auto_columns": null,
            "margin": null,
            "display": null,
            "left": null
          }
        },
        "ff98ac5b6bee4c17824f24ec8a7362e7": {
          "model_module": "@jupyter-widgets/controls",
          "model_name": "IntProgressModel",
          "state": {
            "_view_name": "ProgressView",
            "style": "IPY_MODEL_fb8358bc2adc4a25883bd8d778a9278c",
            "_dom_classes": [],
            "description": "",
            "_model_name": "IntProgressModel",
            "bar_style": "info",
            "max": 1,
            "_view_module": "@jupyter-widgets/controls",
            "_model_module_version": "1.5.0",
            "value": 1,
            "_view_count": null,
            "_view_module_version": "1.5.0",
            "orientation": "horizontal",
            "min": 0,
            "description_tooltip": null,
            "_model_module": "@jupyter-widgets/controls",
            "layout": "IPY_MODEL_0690af37ee5d47709de16447599204ce"
          }
        },
        "a18a14522bd046b681ef87cedc373752": {
          "model_module": "@jupyter-widgets/controls",
          "model_name": "HTMLModel",
          "state": {
            "_view_name": "HTMLView",
            "style": "IPY_MODEL_4e32fbd9283c43b9b4f172e96ee02d70",
            "_dom_classes": [],
            "description": "",
            "_model_name": "HTMLModel",
            "placeholder": "​",
            "_view_module": "@jupyter-widgets/controls",
            "_model_module_version": "1.5.0",
            "value": " 1654784/? [00:19&lt;00:00, 15693259.76it/s]",
            "_view_count": null,
            "_view_module_version": "1.5.0",
            "description_tooltip": null,
            "_model_module": "@jupyter-widgets/controls",
            "layout": "IPY_MODEL_a4865c307dc44f9fbb4e47e6d199a7db"
          }
        },
        "fb8358bc2adc4a25883bd8d778a9278c": {
          "model_module": "@jupyter-widgets/controls",
          "model_name": "ProgressStyleModel",
          "state": {
            "_view_name": "StyleView",
            "_model_name": "ProgressStyleModel",
            "description_width": "initial",
            "_view_module": "@jupyter-widgets/base",
            "_model_module_version": "1.5.0",
            "_view_count": null,
            "_view_module_version": "1.2.0",
            "bar_color": null,
            "_model_module": "@jupyter-widgets/controls"
          }
        },
        "0690af37ee5d47709de16447599204ce": {
          "model_module": "@jupyter-widgets/base",
          "model_name": "LayoutModel",
          "state": {
            "_view_name": "LayoutView",
            "grid_template_rows": null,
            "right": null,
            "justify_content": null,
            "_view_module": "@jupyter-widgets/base",
            "overflow": null,
            "_model_module_version": "1.2.0",
            "_view_count": null,
            "flex_flow": null,
            "width": null,
            "min_width": null,
            "border": null,
            "align_items": null,
            "bottom": null,
            "_model_module": "@jupyter-widgets/base",
            "top": null,
            "grid_column": null,
            "overflow_y": null,
            "overflow_x": null,
            "grid_auto_flow": null,
            "grid_area": null,
            "grid_template_columns": null,
            "flex": null,
            "_model_name": "LayoutModel",
            "justify_items": null,
            "grid_row": null,
            "max_height": null,
            "align_content": null,
            "visibility": null,
            "align_self": null,
            "height": null,
            "min_height": null,
            "padding": null,
            "grid_auto_rows": null,
            "grid_gap": null,
            "max_width": null,
            "order": null,
            "_view_module_version": "1.2.0",
            "grid_template_areas": null,
            "object_position": null,
            "object_fit": null,
            "grid_auto_columns": null,
            "margin": null,
            "display": null,
            "left": null
          }
        },
        "4e32fbd9283c43b9b4f172e96ee02d70": {
          "model_module": "@jupyter-widgets/controls",
          "model_name": "DescriptionStyleModel",
          "state": {
            "_view_name": "StyleView",
            "_model_name": "DescriptionStyleModel",
            "description_width": "",
            "_view_module": "@jupyter-widgets/base",
            "_model_module_version": "1.5.0",
            "_view_count": null,
            "_view_module_version": "1.2.0",
            "_model_module": "@jupyter-widgets/controls"
          }
        },
        "a4865c307dc44f9fbb4e47e6d199a7db": {
          "model_module": "@jupyter-widgets/base",
          "model_name": "LayoutModel",
          "state": {
            "_view_name": "LayoutView",
            "grid_template_rows": null,
            "right": null,
            "justify_content": null,
            "_view_module": "@jupyter-widgets/base",
            "overflow": null,
            "_model_module_version": "1.2.0",
            "_view_count": null,
            "flex_flow": null,
            "width": null,
            "min_width": null,
            "border": null,
            "align_items": null,
            "bottom": null,
            "_model_module": "@jupyter-widgets/base",
            "top": null,
            "grid_column": null,
            "overflow_y": null,
            "overflow_x": null,
            "grid_auto_flow": null,
            "grid_area": null,
            "grid_template_columns": null,
            "flex": null,
            "_model_name": "LayoutModel",
            "justify_items": null,
            "grid_row": null,
            "max_height": null,
            "align_content": null,
            "visibility": null,
            "align_self": null,
            "height": null,
            "min_height": null,
            "padding": null,
            "grid_auto_rows": null,
            "grid_gap": null,
            "max_width": null,
            "order": null,
            "_view_module_version": "1.2.0",
            "grid_template_areas": null,
            "object_position": null,
            "object_fit": null,
            "grid_auto_columns": null,
            "margin": null,
            "display": null,
            "left": null
          }
        },
        "30302415a5db4215800e16b89b55474e": {
          "model_module": "@jupyter-widgets/controls",
          "model_name": "HBoxModel",
          "state": {
            "_view_name": "HBoxView",
            "_dom_classes": [],
            "_model_name": "HBoxModel",
            "_view_module": "@jupyter-widgets/controls",
            "_model_module_version": "1.5.0",
            "_view_count": null,
            "_view_module_version": "1.5.0",
            "box_style": "",
            "layout": "IPY_MODEL_12f065a7e63c4de2ba9c65e2e759b450",
            "_model_module": "@jupyter-widgets/controls",
            "children": [
              "IPY_MODEL_1e4e841b83bd40dc992ef383338569b1",
              "IPY_MODEL_764be18435b2412e80a5cd4dde2f50b2"
            ]
          }
        },
        "12f065a7e63c4de2ba9c65e2e759b450": {
          "model_module": "@jupyter-widgets/base",
          "model_name": "LayoutModel",
          "state": {
            "_view_name": "LayoutView",
            "grid_template_rows": null,
            "right": null,
            "justify_content": null,
            "_view_module": "@jupyter-widgets/base",
            "overflow": null,
            "_model_module_version": "1.2.0",
            "_view_count": null,
            "flex_flow": null,
            "width": null,
            "min_width": null,
            "border": null,
            "align_items": null,
            "bottom": null,
            "_model_module": "@jupyter-widgets/base",
            "top": null,
            "grid_column": null,
            "overflow_y": null,
            "overflow_x": null,
            "grid_auto_flow": null,
            "grid_area": null,
            "grid_template_columns": null,
            "flex": null,
            "_model_name": "LayoutModel",
            "justify_items": null,
            "grid_row": null,
            "max_height": null,
            "align_content": null,
            "visibility": null,
            "align_self": null,
            "height": null,
            "min_height": null,
            "padding": null,
            "grid_auto_rows": null,
            "grid_gap": null,
            "max_width": null,
            "order": null,
            "_view_module_version": "1.2.0",
            "grid_template_areas": null,
            "object_position": null,
            "object_fit": null,
            "grid_auto_columns": null,
            "margin": null,
            "display": null,
            "left": null
          }
        },
        "1e4e841b83bd40dc992ef383338569b1": {
          "model_module": "@jupyter-widgets/controls",
          "model_name": "IntProgressModel",
          "state": {
            "_view_name": "ProgressView",
            "style": "IPY_MODEL_51b49806ccc044b5b9c91eebc40f426e",
            "_dom_classes": [],
            "description": "  0%",
            "_model_name": "IntProgressModel",
            "bar_style": "info",
            "max": 1,
            "_view_module": "@jupyter-widgets/controls",
            "_model_module_version": "1.5.0",
            "value": 0,
            "_view_count": null,
            "_view_module_version": "1.5.0",
            "orientation": "horizontal",
            "min": 0,
            "description_tooltip": null,
            "_model_module": "@jupyter-widgets/controls",
            "layout": "IPY_MODEL_4a478bf3673e455099cd1df10f33f6b7"
          }
        },
        "764be18435b2412e80a5cd4dde2f50b2": {
          "model_module": "@jupyter-widgets/controls",
          "model_name": "HTMLModel",
          "state": {
            "_view_name": "HTMLView",
            "style": "IPY_MODEL_dd4cb90fcf5143cea605fc8a07cb9054",
            "_dom_classes": [],
            "description": "",
            "_model_name": "HTMLModel",
            "placeholder": "​",
            "_view_module": "@jupyter-widgets/controls",
            "_model_module_version": "1.5.0",
            "value": " 0/4542 [00:00&lt;?, ?it/s]",
            "_view_count": null,
            "_view_module_version": "1.5.0",
            "description_tooltip": null,
            "_model_module": "@jupyter-widgets/controls",
            "layout": "IPY_MODEL_a3a4989b4f6b4c20828f9eac360c7d1a"
          }
        },
        "51b49806ccc044b5b9c91eebc40f426e": {
          "model_module": "@jupyter-widgets/controls",
          "model_name": "ProgressStyleModel",
          "state": {
            "_view_name": "StyleView",
            "_model_name": "ProgressStyleModel",
            "description_width": "initial",
            "_view_module": "@jupyter-widgets/base",
            "_model_module_version": "1.5.0",
            "_view_count": null,
            "_view_module_version": "1.2.0",
            "bar_color": null,
            "_model_module": "@jupyter-widgets/controls"
          }
        },
        "4a478bf3673e455099cd1df10f33f6b7": {
          "model_module": "@jupyter-widgets/base",
          "model_name": "LayoutModel",
          "state": {
            "_view_name": "LayoutView",
            "grid_template_rows": null,
            "right": null,
            "justify_content": null,
            "_view_module": "@jupyter-widgets/base",
            "overflow": null,
            "_model_module_version": "1.2.0",
            "_view_count": null,
            "flex_flow": null,
            "width": null,
            "min_width": null,
            "border": null,
            "align_items": null,
            "bottom": null,
            "_model_module": "@jupyter-widgets/base",
            "top": null,
            "grid_column": null,
            "overflow_y": null,
            "overflow_x": null,
            "grid_auto_flow": null,
            "grid_area": null,
            "grid_template_columns": null,
            "flex": null,
            "_model_name": "LayoutModel",
            "justify_items": null,
            "grid_row": null,
            "max_height": null,
            "align_content": null,
            "visibility": null,
            "align_self": null,
            "height": null,
            "min_height": null,
            "padding": null,
            "grid_auto_rows": null,
            "grid_gap": null,
            "max_width": null,
            "order": null,
            "_view_module_version": "1.2.0",
            "grid_template_areas": null,
            "object_position": null,
            "object_fit": null,
            "grid_auto_columns": null,
            "margin": null,
            "display": null,
            "left": null
          }
        },
        "dd4cb90fcf5143cea605fc8a07cb9054": {
          "model_module": "@jupyter-widgets/controls",
          "model_name": "DescriptionStyleModel",
          "state": {
            "_view_name": "StyleView",
            "_model_name": "DescriptionStyleModel",
            "description_width": "",
            "_view_module": "@jupyter-widgets/base",
            "_model_module_version": "1.5.0",
            "_view_count": null,
            "_view_module_version": "1.2.0",
            "_model_module": "@jupyter-widgets/controls"
          }
        },
        "a3a4989b4f6b4c20828f9eac360c7d1a": {
          "model_module": "@jupyter-widgets/base",
          "model_name": "LayoutModel",
          "state": {
            "_view_name": "LayoutView",
            "grid_template_rows": null,
            "right": null,
            "justify_content": null,
            "_view_module": "@jupyter-widgets/base",
            "overflow": null,
            "_model_module_version": "1.2.0",
            "_view_count": null,
            "flex_flow": null,
            "width": null,
            "min_width": null,
            "border": null,
            "align_items": null,
            "bottom": null,
            "_model_module": "@jupyter-widgets/base",
            "top": null,
            "grid_column": null,
            "overflow_y": null,
            "overflow_x": null,
            "grid_auto_flow": null,
            "grid_area": null,
            "grid_template_columns": null,
            "flex": null,
            "_model_name": "LayoutModel",
            "justify_items": null,
            "grid_row": null,
            "max_height": null,
            "align_content": null,
            "visibility": null,
            "align_self": null,
            "height": null,
            "min_height": null,
            "padding": null,
            "grid_auto_rows": null,
            "grid_gap": null,
            "max_width": null,
            "order": null,
            "_view_module_version": "1.2.0",
            "grid_template_areas": null,
            "object_position": null,
            "object_fit": null,
            "grid_auto_columns": null,
            "margin": null,
            "display": null,
            "left": null
          }
        }
      }
    }
  },
  "cells": [
    {
      "cell_type": "markdown",
      "metadata": {
        "id": "view-in-github",
        "colab_type": "text"
      },
      "source": [
        "<a href=\"https://colab.research.google.com/github/arturomf94/pysyft-crash-course/blob/master/notebooks/comprehensive_pysyft.ipynb\" target=\"_parent\"><img src=\"https://colab.research.google.com/assets/colab-badge.svg\" alt=\"Open In Colab\"/></a>"
      ]
    },
    {
      "cell_type": "code",
      "metadata": {
        "id": "U3Z5_OjIzRpL",
        "colab_type": "code",
        "outputId": "26851cec-3767-4f54-f641-4bd325cfde34",
        "colab": {
          "base_uri": "https://localhost:8080/",
          "height": 925
        }
      },
      "source": [
        "!pip install 'syft[udacity]'"
      ],
      "execution_count": 0,
      "outputs": [
        {
          "output_type": "stream",
          "text": [
            "Requirement already satisfied: syft[udacity] in /usr/local/lib/python3.6/dist-packages (0.2.4)\n",
            "Requirement already satisfied: requests~=2.22.0 in /usr/local/lib/python3.6/dist-packages (from syft[udacity]) (2.22.0)\n",
            "Requirement already satisfied: msgpack~=1.0.0 in /usr/local/lib/python3.6/dist-packages (from syft[udacity]) (1.0.0)\n",
            "Requirement already satisfied: flask-socketio~=4.2.1 in /usr/local/lib/python3.6/dist-packages (from syft[udacity]) (4.2.1)\n",
            "Requirement already satisfied: phe~=1.4.0 in /usr/local/lib/python3.6/dist-packages (from syft[udacity]) (1.4.0)\n",
            "Requirement already satisfied: torch~=1.4.0 in /usr/local/lib/python3.6/dist-packages (from syft[udacity]) (1.4.0)\n",
            "Requirement already satisfied: Pillow~=6.2.2 in /usr/local/lib/python3.6/dist-packages (from syft[udacity]) (6.2.2)\n",
            "Requirement already satisfied: tornado==4.5.3 in /usr/local/lib/python3.6/dist-packages (from syft[udacity]) (4.5.3)\n",
            "Requirement already satisfied: lz4~=3.0.2 in /usr/local/lib/python3.6/dist-packages (from syft[udacity]) (3.0.2)\n",
            "Requirement already satisfied: Flask~=1.1.1 in /usr/local/lib/python3.6/dist-packages (from syft[udacity]) (1.1.1)\n",
            "Requirement already satisfied: torchvision~=0.5.0 in /usr/local/lib/python3.6/dist-packages (from syft[udacity]) (0.5.0)\n",
            "Requirement already satisfied: tblib~=1.6.0 in /usr/local/lib/python3.6/dist-packages (from syft[udacity]) (1.6.0)\n",
            "Requirement already satisfied: scipy~=1.4.1 in /usr/local/lib/python3.6/dist-packages (from syft[udacity]) (1.4.1)\n",
            "Requirement already satisfied: numpy~=1.18.1 in /usr/local/lib/python3.6/dist-packages (from syft[udacity]) (1.18.2)\n",
            "Requirement already satisfied: syft-proto~=0.2.5.a1 in /usr/local/lib/python3.6/dist-packages (from syft[udacity]) (0.2.5a1)\n",
            "Requirement already satisfied: websockets~=8.1.0 in /usr/local/lib/python3.6/dist-packages (from syft[udacity]) (8.1)\n",
            "Requirement already satisfied: websocket-client~=0.57.0 in /usr/local/lib/python3.6/dist-packages (from syft[udacity]) (0.57.0)\n",
            "Requirement already satisfied: tf-encrypted<0.6.0!=0.5.7,>=0.5.4; extra == \"udacity\" in /usr/local/lib/python3.6/dist-packages (from syft[udacity]) (0.5.9)\n",
            "Requirement already satisfied: urllib3!=1.25.0,!=1.25.1,<1.26,>=1.21.1 in /usr/local/lib/python3.6/dist-packages (from requests~=2.22.0->syft[udacity]) (1.24.3)\n",
            "Requirement already satisfied: certifi>=2017.4.17 in /usr/local/lib/python3.6/dist-packages (from requests~=2.22.0->syft[udacity]) (2019.11.28)\n",
            "Requirement already satisfied: idna<2.9,>=2.5 in /usr/local/lib/python3.6/dist-packages (from requests~=2.22.0->syft[udacity]) (2.8)\n",
            "Requirement already satisfied: chardet<3.1.0,>=3.0.2 in /usr/local/lib/python3.6/dist-packages (from requests~=2.22.0->syft[udacity]) (3.0.4)\n",
            "Requirement already satisfied: python-socketio>=4.3.0 in /usr/local/lib/python3.6/dist-packages (from flask-socketio~=4.2.1->syft[udacity]) (4.5.1)\n",
            "Requirement already satisfied: click>=5.1 in /usr/local/lib/python3.6/dist-packages (from Flask~=1.1.1->syft[udacity]) (7.1.1)\n",
            "Requirement already satisfied: Werkzeug>=0.15 in /usr/local/lib/python3.6/dist-packages (from Flask~=1.1.1->syft[udacity]) (1.0.1)\n",
            "Requirement already satisfied: Jinja2>=2.10.1 in /usr/local/lib/python3.6/dist-packages (from Flask~=1.1.1->syft[udacity]) (2.11.1)\n",
            "Requirement already satisfied: itsdangerous>=0.24 in /usr/local/lib/python3.6/dist-packages (from Flask~=1.1.1->syft[udacity]) (1.1.0)\n",
            "Requirement already satisfied: six in /usr/local/lib/python3.6/dist-packages (from torchvision~=0.5.0->syft[udacity]) (1.12.0)\n",
            "Requirement already satisfied: protobuf>=3.11.1 in /usr/local/lib/python3.6/dist-packages (from syft-proto~=0.2.5.a1->syft[udacity]) (3.11.3)\n",
            "Requirement already satisfied: pyyaml>=5.1 in /usr/local/lib/python3.6/dist-packages (from tf-encrypted<0.6.0!=0.5.7,>=0.5.4; extra == \"udacity\"->syft[udacity]) (5.3.1)\n",
            "Requirement already satisfied: tensorflow<2,>=1.12.0 in /usr/local/lib/python3.6/dist-packages (from tf-encrypted<0.6.0!=0.5.7,>=0.5.4; extra == \"udacity\"->syft[udacity]) (1.15.2)\n",
            "Requirement already satisfied: python-engineio>=3.9.0 in /usr/local/lib/python3.6/dist-packages (from python-socketio>=4.3.0->flask-socketio~=4.2.1->syft[udacity]) (3.12.1)\n",
            "Requirement already satisfied: MarkupSafe>=0.23 in /usr/local/lib/python3.6/dist-packages (from Jinja2>=2.10.1->Flask~=1.1.1->syft[udacity]) (1.1.1)\n",
            "Requirement already satisfied: setuptools in /usr/local/lib/python3.6/dist-packages (from protobuf>=3.11.1->syft-proto~=0.2.5.a1->syft[udacity]) (46.0.0)\n",
            "Requirement already satisfied: absl-py>=0.7.0 in /usr/local/lib/python3.6/dist-packages (from tensorflow<2,>=1.12.0->tf-encrypted<0.6.0!=0.5.7,>=0.5.4; extra == \"udacity\"->syft[udacity]) (0.9.0)\n",
            "Requirement already satisfied: tensorflow-estimator==1.15.1 in /usr/local/lib/python3.6/dist-packages (from tensorflow<2,>=1.12.0->tf-encrypted<0.6.0!=0.5.7,>=0.5.4; extra == \"udacity\"->syft[udacity]) (1.15.1)\n",
            "Requirement already satisfied: gast==0.2.2 in /usr/local/lib/python3.6/dist-packages (from tensorflow<2,>=1.12.0->tf-encrypted<0.6.0!=0.5.7,>=0.5.4; extra == \"udacity\"->syft[udacity]) (0.2.2)\n",
            "Requirement already satisfied: keras-applications>=1.0.8 in /usr/local/lib/python3.6/dist-packages (from tensorflow<2,>=1.12.0->tf-encrypted<0.6.0!=0.5.7,>=0.5.4; extra == \"udacity\"->syft[udacity]) (1.0.8)\n",
            "Requirement already satisfied: google-pasta>=0.1.6 in /usr/local/lib/python3.6/dist-packages (from tensorflow<2,>=1.12.0->tf-encrypted<0.6.0!=0.5.7,>=0.5.4; extra == \"udacity\"->syft[udacity]) (0.2.0)\n",
            "Requirement already satisfied: opt-einsum>=2.3.2 in /usr/local/lib/python3.6/dist-packages (from tensorflow<2,>=1.12.0->tf-encrypted<0.6.0!=0.5.7,>=0.5.4; extra == \"udacity\"->syft[udacity]) (3.2.0)\n",
            "Requirement already satisfied: termcolor>=1.1.0 in /usr/local/lib/python3.6/dist-packages (from tensorflow<2,>=1.12.0->tf-encrypted<0.6.0!=0.5.7,>=0.5.4; extra == \"udacity\"->syft[udacity]) (1.1.0)\n",
            "Requirement already satisfied: wrapt>=1.11.1 in /usr/local/lib/python3.6/dist-packages (from tensorflow<2,>=1.12.0->tf-encrypted<0.6.0!=0.5.7,>=0.5.4; extra == \"udacity\"->syft[udacity]) (1.12.1)\n",
            "Requirement already satisfied: keras-preprocessing>=1.0.5 in /usr/local/lib/python3.6/dist-packages (from tensorflow<2,>=1.12.0->tf-encrypted<0.6.0!=0.5.7,>=0.5.4; extra == \"udacity\"->syft[udacity]) (1.1.0)\n",
            "Requirement already satisfied: wheel>=0.26; python_version >= \"3\" in /usr/local/lib/python3.6/dist-packages (from tensorflow<2,>=1.12.0->tf-encrypted<0.6.0!=0.5.7,>=0.5.4; extra == \"udacity\"->syft[udacity]) (0.34.2)\n",
            "Requirement already satisfied: grpcio>=1.8.6 in /usr/local/lib/python3.6/dist-packages (from tensorflow<2,>=1.12.0->tf-encrypted<0.6.0!=0.5.7,>=0.5.4; extra == \"udacity\"->syft[udacity]) (1.27.2)\n",
            "Requirement already satisfied: tensorboard<1.16.0,>=1.15.0 in /usr/local/lib/python3.6/dist-packages (from tensorflow<2,>=1.12.0->tf-encrypted<0.6.0!=0.5.7,>=0.5.4; extra == \"udacity\"->syft[udacity]) (1.15.0)\n",
            "Requirement already satisfied: astor>=0.6.0 in /usr/local/lib/python3.6/dist-packages (from tensorflow<2,>=1.12.0->tf-encrypted<0.6.0!=0.5.7,>=0.5.4; extra == \"udacity\"->syft[udacity]) (0.8.1)\n",
            "Requirement already satisfied: h5py in /usr/local/lib/python3.6/dist-packages (from keras-applications>=1.0.8->tensorflow<2,>=1.12.0->tf-encrypted<0.6.0!=0.5.7,>=0.5.4; extra == \"udacity\"->syft[udacity]) (2.10.0)\n",
            "Requirement already satisfied: markdown>=2.6.8 in /usr/local/lib/python3.6/dist-packages (from tensorboard<1.16.0,>=1.15.0->tensorflow<2,>=1.12.0->tf-encrypted<0.6.0!=0.5.7,>=0.5.4; extra == \"udacity\"->syft[udacity]) (3.2.1)\n",
            "TensorFlow 1.x selected.\n"
          ],
          "name": "stdout"
        }
      ]
    },
    {
      "cell_type": "markdown",
      "metadata": {
        "id": "aBKGxIbYpAPs",
        "colab_type": "text"
      },
      "source": [
        "# **Intro**\n",
        "\n",
        "![alt text](https://github.com/arturomf94/pysyft-crash-course/raw/master/docs/openmined.png)"
      ]
    },
    {
      "cell_type": "markdown",
      "metadata": {
        "id": "cFSN4ehbpO9X",
        "colab_type": "text"
      },
      "source": [
        "**PySyft** is a tool for privacy-preserving, decentralized deep learning. \n",
        "\n",
        "This is a comprehensive, step-by-step guide to the basic concepts in PySyft. Most of the code here is originally from [the tutorials](https://github.com/OpenMined/PySyft/tree/master/examples/tutorials). A detailed explanation of the concepts treated here can be found there, along with extra resources."
      ]
    },
    {
      "cell_type": "markdown",
      "metadata": {
        "id": "FbwnTUelpnP2",
        "colab_type": "text"
      },
      "source": [
        ""
      ]
    },
    {
      "cell_type": "markdown",
      "metadata": {
        "id": "xW0qeA5w8o-2",
        "colab_type": "text"
      },
      "source": [
        "# Basics"
      ]
    },
    {
      "cell_type": "markdown",
      "metadata": {
        "id": "y4wn95jn9D6H",
        "colab_type": "text"
      },
      "source": [
        "## Setup"
      ]
    },
    {
      "cell_type": "code",
      "metadata": {
        "id": "o5QaEBWR8oMy",
        "colab_type": "code",
        "outputId": "9784b079-5701-47a9-81bd-8c09bf657d76",
        "colab": {
          "base_uri": "https://localhost:8080/",
          "height": 108
        }
      },
      "source": [
        "import sys\n",
        "\n",
        "import torch\n",
        "from torch.nn import Parameter\n",
        "import torch.nn as nn\n",
        "import torch.nn.functional as F\n",
        "\n",
        "import syft as sy\n",
        "hook = sy.TorchHook(torch)\n",
        "\n",
        "torch.tensor([1,2,3,4,5])"
      ],
      "execution_count": 0,
      "outputs": [
        {
          "output_type": "stream",
          "text": [
            "Falling back to insecure randomness since the required custom op could not be found for the installed version of TensorFlow. Fix this by compiling custom ops. Missing file was '/usr/local/lib/python3.6/dist-packages/tf_encrypted/operations/secure_random/secure_random_module_tf_1.15.2.so'\n"
          ],
          "name": "stderr"
        },
        {
          "output_type": "stream",
          "text": [
            "WARNING:tensorflow:From /usr/local/lib/python3.6/dist-packages/tf_encrypted/session.py:24: The name tf.Session is deprecated. Please use tf.compat.v1.Session instead.\n",
            "\n"
          ],
          "name": "stdout"
        },
        {
          "output_type": "execute_result",
          "data": {
            "text/plain": [
              "tensor([1, 2, 3, 4, 5])"
            ]
          },
          "metadata": {
            "tags": []
          },
          "execution_count": 2
        }
      ]
    },
    {
      "cell_type": "markdown",
      "metadata": {
        "id": "O1dVJSdU9RFS",
        "colab_type": "text"
      },
      "source": [
        "## Remote Tensors"
      ]
    },
    {
      "cell_type": "code",
      "metadata": {
        "id": "PWC9nREN8-Hm",
        "colab_type": "code",
        "outputId": "742bf85d-9af9-498a-92dc-411324c9563e",
        "colab": {
          "base_uri": "https://localhost:8080/",
          "height": 35
        }
      },
      "source": [
        "x = torch.tensor([1,2,3,4,5])\n",
        "y = x + x\n",
        "print(y)"
      ],
      "execution_count": 0,
      "outputs": [
        {
          "output_type": "stream",
          "text": [
            "tensor([ 2,  4,  6,  8, 10])\n"
          ],
          "name": "stdout"
        }
      ]
    },
    {
      "cell_type": "code",
      "metadata": {
        "id": "lSY-bDbZ-GpC",
        "colab_type": "code",
        "colab": {}
      },
      "source": [
        "bob = sy.VirtualWorker(hook, id=\"bob\")"
      ],
      "execution_count": 0,
      "outputs": []
    },
    {
      "cell_type": "code",
      "metadata": {
        "id": "r2wriO8X-Ja9",
        "colab_type": "code",
        "colab": {}
      },
      "source": [
        "x = torch.tensor([1,2,3,4,5])\n",
        "y = torch.tensor([1,1,1,1,1])"
      ],
      "execution_count": 0,
      "outputs": []
    },
    {
      "cell_type": "code",
      "metadata": {
        "id": "YgK-CrxS-Jd_",
        "colab_type": "code",
        "colab": {}
      },
      "source": [
        "x_ptr = x.send(bob)\n",
        "y_ptr = y.send(bob)"
      ],
      "execution_count": 0,
      "outputs": []
    },
    {
      "cell_type": "code",
      "metadata": {
        "id": "CfyzI0Na-aVE",
        "colab_type": "code",
        "outputId": "fa5e4909-c3bd-4d63-fd87-7332db35e01b",
        "colab": {
          "base_uri": "https://localhost:8080/",
          "height": 35
        }
      },
      "source": [
        "x_ptr"
      ],
      "execution_count": 0,
      "outputs": [
        {
          "output_type": "execute_result",
          "data": {
            "text/plain": [
              "(Wrapper)>[PointerTensor | me:28120199206 -> bob:62328455535]"
            ]
          },
          "metadata": {
            "tags": []
          },
          "execution_count": 7
        }
      ]
    },
    {
      "cell_type": "code",
      "metadata": {
        "id": "uafjOcxW-bVq",
        "colab_type": "code",
        "outputId": "e3e9bd25-719d-4a03-b510-34e449fb9fae",
        "colab": {
          "base_uri": "https://localhost:8080/",
          "height": 55
        }
      },
      "source": [
        "bob._objects"
      ],
      "execution_count": 0,
      "outputs": [
        {
          "output_type": "execute_result",
          "data": {
            "text/plain": [
              "{60645563057: tensor([1, 1, 1, 1, 1]), 62328455535: tensor([1, 2, 3, 4, 5])}"
            ]
          },
          "metadata": {
            "tags": []
          },
          "execution_count": 8
        }
      ]
    },
    {
      "cell_type": "code",
      "metadata": {
        "id": "OhIIUyYC-dyh",
        "colab_type": "code",
        "colab": {}
      },
      "source": [
        "z = x_ptr + x_ptr"
      ],
      "execution_count": 0,
      "outputs": []
    },
    {
      "cell_type": "code",
      "metadata": {
        "id": "9WCB4oWL-egm",
        "colab_type": "code",
        "outputId": "09d97210-36fa-4599-d71e-34ed65a4f844",
        "colab": {
          "base_uri": "https://localhost:8080/",
          "height": 35
        }
      },
      "source": [
        "z"
      ],
      "execution_count": 0,
      "outputs": [
        {
          "output_type": "execute_result",
          "data": {
            "text/plain": [
              "(Wrapper)>[PointerTensor | me:11085720335 -> bob:96064038205]"
            ]
          },
          "metadata": {
            "tags": []
          },
          "execution_count": 10
        }
      ]
    },
    {
      "cell_type": "code",
      "metadata": {
        "id": "WsHTnf8_-gOB",
        "colab_type": "code",
        "outputId": "b580f794-778f-42a4-b137-028cdc4ecb4d",
        "colab": {
          "base_uri": "https://localhost:8080/",
          "height": 70
        }
      },
      "source": [
        "bob._objects"
      ],
      "execution_count": 0,
      "outputs": [
        {
          "output_type": "execute_result",
          "data": {
            "text/plain": [
              "{60645563057: tensor([1, 1, 1, 1, 1]),\n",
              " 62328455535: tensor([1, 2, 3, 4, 5]),\n",
              " 96064038205: tensor([ 2,  4,  6,  8, 10])}"
            ]
          },
          "metadata": {
            "tags": []
          },
          "execution_count": 11
        }
      ]
    },
    {
      "cell_type": "code",
      "metadata": {
        "id": "ZOqfRVp3-6GO",
        "colab_type": "code",
        "outputId": "0c31f20b-86a7-464e-fcd5-33533ff96e83",
        "colab": {
          "base_uri": "https://localhost:8080/",
          "height": 35
        }
      },
      "source": [
        "x_ptr"
      ],
      "execution_count": 0,
      "outputs": [
        {
          "output_type": "execute_result",
          "data": {
            "text/plain": [
              "(Wrapper)>[PointerTensor | me:28120199206 -> bob:62328455535]"
            ]
          },
          "metadata": {
            "tags": []
          },
          "execution_count": 12
        }
      ]
    },
    {
      "cell_type": "code",
      "metadata": {
        "id": "8OMKJkOa-8BZ",
        "colab_type": "code",
        "outputId": "ff2e15b2-b797-4e91-f953-c33d14afa153",
        "colab": {
          "base_uri": "https://localhost:8080/",
          "height": 35
        }
      },
      "source": [
        "x_ptr.location"
      ],
      "execution_count": 0,
      "outputs": [
        {
          "output_type": "execute_result",
          "data": {
            "text/plain": [
              "<VirtualWorker id:bob #objects:3>"
            ]
          },
          "metadata": {
            "tags": []
          },
          "execution_count": 13
        }
      ]
    },
    {
      "cell_type": "code",
      "metadata": {
        "id": "jhGvp4Xu-81_",
        "colab_type": "code",
        "outputId": "69f386e9-f972-43e4-c672-2be01e18e0af",
        "colab": {
          "base_uri": "https://localhost:8080/",
          "height": 35
        }
      },
      "source": [
        "bob"
      ],
      "execution_count": 0,
      "outputs": [
        {
          "output_type": "execute_result",
          "data": {
            "text/plain": [
              "<VirtualWorker id:bob #objects:3>"
            ]
          },
          "metadata": {
            "tags": []
          },
          "execution_count": 14
        }
      ]
    },
    {
      "cell_type": "code",
      "metadata": {
        "id": "vx5m7XEt--m4",
        "colab_type": "code",
        "outputId": "a927dbc8-629b-43e2-9b9e-4d3a2a433ec2",
        "colab": {
          "base_uri": "https://localhost:8080/",
          "height": 35
        }
      },
      "source": [
        "bob == x_ptr.location"
      ],
      "execution_count": 0,
      "outputs": [
        {
          "output_type": "execute_result",
          "data": {
            "text/plain": [
              "True"
            ]
          },
          "metadata": {
            "tags": []
          },
          "execution_count": 15
        }
      ]
    },
    {
      "cell_type": "code",
      "metadata": {
        "id": "6k4Ce-Vr--py",
        "colab_type": "code",
        "outputId": "467172b5-9960-4167-89d0-70ac57cdc09e",
        "colab": {
          "base_uri": "https://localhost:8080/",
          "height": 35
        }
      },
      "source": [
        "x_ptr.id_at_location"
      ],
      "execution_count": 0,
      "outputs": [
        {
          "output_type": "execute_result",
          "data": {
            "text/plain": [
              "62328455535"
            ]
          },
          "metadata": {
            "tags": []
          },
          "execution_count": 16
        }
      ]
    },
    {
      "cell_type": "code",
      "metadata": {
        "id": "AcW2cPY---vi",
        "colab_type": "code",
        "outputId": "76796aa1-649e-4e6c-972c-474ad8995999",
        "colab": {
          "base_uri": "https://localhost:8080/",
          "height": 35
        }
      },
      "source": [
        "x_ptr.owner"
      ],
      "execution_count": 0,
      "outputs": [
        {
          "output_type": "execute_result",
          "data": {
            "text/plain": [
              "<VirtualWorker id:me #objects:0>"
            ]
          },
          "metadata": {
            "tags": []
          },
          "execution_count": 17
        }
      ]
    },
    {
      "cell_type": "code",
      "metadata": {
        "id": "Nll2RIFV_DWK",
        "colab_type": "code",
        "outputId": "08d2a5d8-35fa-4e42-862a-d3dc61f08cd9",
        "colab": {
          "base_uri": "https://localhost:8080/",
          "height": 35
        }
      },
      "source": [
        "x_ptr"
      ],
      "execution_count": 0,
      "outputs": [
        {
          "output_type": "execute_result",
          "data": {
            "text/plain": [
              "(Wrapper)>[PointerTensor | me:28120199206 -> bob:62328455535]"
            ]
          },
          "metadata": {
            "tags": []
          },
          "execution_count": 18
        }
      ]
    },
    {
      "cell_type": "code",
      "metadata": {
        "id": "_8bNu78z_Ffb",
        "colab_type": "code",
        "outputId": "6deeab2f-6f75-4199-842f-f14d296311da",
        "colab": {
          "base_uri": "https://localhost:8080/",
          "height": 35
        }
      },
      "source": [
        "x_ptr.get()"
      ],
      "execution_count": 0,
      "outputs": [
        {
          "output_type": "execute_result",
          "data": {
            "text/plain": [
              "tensor([1, 2, 3, 4, 5])"
            ]
          },
          "metadata": {
            "tags": []
          },
          "execution_count": 19
        }
      ]
    },
    {
      "cell_type": "code",
      "metadata": {
        "id": "G_-5LWEH_GfA",
        "colab_type": "code",
        "outputId": "8359e071-69b4-4d08-8fbf-d7752adc8db3",
        "colab": {
          "base_uri": "https://localhost:8080/",
          "height": 35
        }
      },
      "source": [
        "y_ptr"
      ],
      "execution_count": 0,
      "outputs": [
        {
          "output_type": "execute_result",
          "data": {
            "text/plain": [
              "(Wrapper)>[PointerTensor | me:58353314446 -> bob:60645563057]"
            ]
          },
          "metadata": {
            "tags": []
          },
          "execution_count": 20
        }
      ]
    },
    {
      "cell_type": "code",
      "metadata": {
        "id": "xPbdi-BH_J2N",
        "colab_type": "code",
        "outputId": "1b3ed88c-8c5e-40ad-d44c-9150fd2907eb",
        "colab": {
          "base_uri": "https://localhost:8080/",
          "height": 35
        }
      },
      "source": [
        "y_ptr.get()"
      ],
      "execution_count": 0,
      "outputs": [
        {
          "output_type": "execute_result",
          "data": {
            "text/plain": [
              "tensor([1, 1, 1, 1, 1])"
            ]
          },
          "metadata": {
            "tags": []
          },
          "execution_count": 21
        }
      ]
    },
    {
      "cell_type": "code",
      "metadata": {
        "id": "XUEKIYCY_LOS",
        "colab_type": "code",
        "outputId": "9c8099c0-a9fb-45c8-e408-0671f6ba8dcd",
        "colab": {
          "base_uri": "https://localhost:8080/",
          "height": 35
        }
      },
      "source": [
        "z.get()"
      ],
      "execution_count": 0,
      "outputs": [
        {
          "output_type": "execute_result",
          "data": {
            "text/plain": [
              "tensor([ 2,  4,  6,  8, 10])"
            ]
          },
          "metadata": {
            "tags": []
          },
          "execution_count": 22
        }
      ]
    },
    {
      "cell_type": "code",
      "metadata": {
        "id": "MtRWcqCE_MtJ",
        "colab_type": "code",
        "outputId": "414b561a-c0fa-4e68-8b47-d8e32d6f7936",
        "colab": {
          "base_uri": "https://localhost:8080/",
          "height": 35
        }
      },
      "source": [
        "bob._objects"
      ],
      "execution_count": 0,
      "outputs": [
        {
          "output_type": "execute_result",
          "data": {
            "text/plain": [
              "{}"
            ]
          },
          "metadata": {
            "tags": []
          },
          "execution_count": 23
        }
      ]
    },
    {
      "cell_type": "markdown",
      "metadata": {
        "id": "CjTSkU659TqW",
        "colab_type": "text"
      },
      "source": [
        "## Pointers"
      ]
    },
    {
      "cell_type": "code",
      "metadata": {
        "id": "DARK4kTn8_P9",
        "colab_type": "code",
        "colab": {}
      },
      "source": [
        "x = torch.tensor([1,2,3,4,5]).send(bob)\n",
        "y = torch.tensor([1,1,1,1,1]).send(bob)"
      ],
      "execution_count": 0,
      "outputs": []
    },
    {
      "cell_type": "code",
      "metadata": {
        "id": "hQsTbeBa_oXu",
        "colab_type": "code",
        "colab": {}
      },
      "source": [
        "z = x + y"
      ],
      "execution_count": 0,
      "outputs": []
    },
    {
      "cell_type": "code",
      "metadata": {
        "id": "U__f15Ru_qDJ",
        "colab_type": "code",
        "outputId": "9889c9f2-278b-4714-f532-44fdc81141b5",
        "colab": {
          "base_uri": "https://localhost:8080/",
          "height": 35
        }
      },
      "source": [
        "z"
      ],
      "execution_count": 0,
      "outputs": [
        {
          "output_type": "execute_result",
          "data": {
            "text/plain": [
              "(Wrapper)>[PointerTensor | me:37596671072 -> bob:39497819208]"
            ]
          },
          "metadata": {
            "tags": []
          },
          "execution_count": 26
        }
      ]
    },
    {
      "cell_type": "code",
      "metadata": {
        "id": "j1cWR5TH_sRQ",
        "colab_type": "code",
        "outputId": "4d2a9145-5167-4b93-fc1e-1508bb94ada6",
        "colab": {
          "base_uri": "https://localhost:8080/",
          "height": 35
        }
      },
      "source": [
        "z.get()"
      ],
      "execution_count": 0,
      "outputs": [
        {
          "output_type": "execute_result",
          "data": {
            "text/plain": [
              "tensor([2, 3, 4, 5, 6])"
            ]
          },
          "metadata": {
            "tags": []
          },
          "execution_count": 27
        }
      ]
    },
    {
      "cell_type": "code",
      "metadata": {
        "id": "dbVGhsYd_uZq",
        "colab_type": "code",
        "outputId": "1338655e-cc90-4489-c65b-0359d9901a2b",
        "colab": {
          "base_uri": "https://localhost:8080/",
          "height": 35
        }
      },
      "source": [
        "x"
      ],
      "execution_count": 0,
      "outputs": [
        {
          "output_type": "execute_result",
          "data": {
            "text/plain": [
              "(Wrapper)>[PointerTensor | me:33056540189 -> bob:58760922238]"
            ]
          },
          "metadata": {
            "tags": []
          },
          "execution_count": 28
        }
      ]
    },
    {
      "cell_type": "code",
      "metadata": {
        "id": "SJo9kCSM_vsS",
        "colab_type": "code",
        "outputId": "659c9575-6067-46eb-942a-e34f9f35c4e1",
        "colab": {
          "base_uri": "https://localhost:8080/",
          "height": 35
        }
      },
      "source": [
        "y"
      ],
      "execution_count": 0,
      "outputs": [
        {
          "output_type": "execute_result",
          "data": {
            "text/plain": [
              "(Wrapper)>[PointerTensor | me:63115171859 -> bob:20883767229]"
            ]
          },
          "metadata": {
            "tags": []
          },
          "execution_count": 29
        }
      ]
    },
    {
      "cell_type": "code",
      "metadata": {
        "id": "VyZOvTuO_wgr",
        "colab_type": "code",
        "outputId": "0255858f-81a0-4f87-9c11-c6bf98b5b81d",
        "colab": {
          "base_uri": "https://localhost:8080/",
          "height": 35
        }
      },
      "source": [
        "z = torch.add(x,y); z"
      ],
      "execution_count": 0,
      "outputs": [
        {
          "output_type": "execute_result",
          "data": {
            "text/plain": [
              "(Wrapper)>[PointerTensor | me:33701615306 -> bob:89204595672]"
            ]
          },
          "metadata": {
            "tags": []
          },
          "execution_count": 30
        }
      ]
    },
    {
      "cell_type": "code",
      "metadata": {
        "id": "mG0qUF3KHqq4",
        "colab_type": "code",
        "outputId": "70db578e-89fd-4905-881b-a28b05afb23b",
        "colab": {
          "base_uri": "https://localhost:8080/",
          "height": 35
        }
      },
      "source": [
        "z.get()"
      ],
      "execution_count": 0,
      "outputs": [
        {
          "output_type": "execute_result",
          "data": {
            "text/plain": [
              "tensor([2, 3, 4, 5, 6])"
            ]
          },
          "metadata": {
            "tags": []
          },
          "execution_count": 31
        }
      ]
    },
    {
      "cell_type": "code",
      "metadata": {
        "id": "W1h3c_cpHt6k",
        "colab_type": "code",
        "colab": {}
      },
      "source": [
        "x = torch.tensor([1,2,3,4,5.], requires_grad=True).send(bob)\n",
        "y = torch.tensor([1,1,1,1,1.], requires_grad=True).send(bob)"
      ],
      "execution_count": 0,
      "outputs": []
    },
    {
      "cell_type": "code",
      "metadata": {
        "id": "bZ1zwK7SHv3m",
        "colab_type": "code",
        "colab": {}
      },
      "source": [
        "z = (x + y).sum()"
      ],
      "execution_count": 0,
      "outputs": []
    },
    {
      "cell_type": "code",
      "metadata": {
        "id": "94VfBoDkHyZK",
        "colab_type": "code",
        "outputId": "b12df5cd-11c7-46de-ff2b-3ef912d1a92a",
        "colab": {
          "base_uri": "https://localhost:8080/",
          "height": 35
        }
      },
      "source": [
        "z.backward()"
      ],
      "execution_count": 0,
      "outputs": [
        {
          "output_type": "execute_result",
          "data": {
            "text/plain": [
              "(Wrapper)>[PointerTensor | me:74105025412 -> bob:25312146529]"
            ]
          },
          "metadata": {
            "tags": []
          },
          "execution_count": 34
        }
      ]
    },
    {
      "cell_type": "code",
      "metadata": {
        "id": "4mo0_SLvH0vw",
        "colab_type": "code",
        "colab": {}
      },
      "source": [
        "x = x.get()"
      ],
      "execution_count": 0,
      "outputs": []
    },
    {
      "cell_type": "code",
      "metadata": {
        "id": "NW4vmo1hH21Z",
        "colab_type": "code",
        "outputId": "e1b28e2f-24c5-46c4-9223-8532ac414bd7",
        "colab": {
          "base_uri": "https://localhost:8080/",
          "height": 35
        }
      },
      "source": [
        "x"
      ],
      "execution_count": 0,
      "outputs": [
        {
          "output_type": "execute_result",
          "data": {
            "text/plain": [
              "tensor([1., 2., 3., 4., 5.], requires_grad=True)"
            ]
          },
          "metadata": {
            "tags": []
          },
          "execution_count": 36
        }
      ]
    },
    {
      "cell_type": "code",
      "metadata": {
        "id": "zEGtSP5zH4A_",
        "colab_type": "code",
        "outputId": "19fd6cfa-1773-4d91-d589-e41e115ea0ba",
        "colab": {
          "base_uri": "https://localhost:8080/",
          "height": 35
        }
      },
      "source": [
        "x.grad"
      ],
      "execution_count": 0,
      "outputs": [
        {
          "output_type": "execute_result",
          "data": {
            "text/plain": [
              "tensor([1., 1., 1., 1., 1.])"
            ]
          },
          "metadata": {
            "tags": []
          },
          "execution_count": 37
        }
      ]
    },
    {
      "cell_type": "code",
      "metadata": {
        "id": "q37jeugJhtGx",
        "colab_type": "code",
        "colab": {}
      },
      "source": [
        "%reset -f"
      ],
      "execution_count": 0,
      "outputs": []
    },
    {
      "cell_type": "markdown",
      "metadata": {
        "id": "XbJ5guT2IXIk",
        "colab_type": "text"
      },
      "source": [
        "# Federated Learning"
      ]
    },
    {
      "cell_type": "markdown",
      "metadata": {
        "id": "d8xNUqc6cTwo",
        "colab_type": "text"
      },
      "source": [
        "## Intro"
      ]
    },
    {
      "cell_type": "code",
      "metadata": {
        "id": "Aa7Rz52qb-JQ",
        "colab_type": "code",
        "colab": {}
      },
      "source": [
        "import torch\n",
        "from torch import nn\n",
        "from torch import optim"
      ],
      "execution_count": 0,
      "outputs": []
    },
    {
      "cell_type": "code",
      "metadata": {
        "id": "Bnq7a3yKb_ix",
        "colab_type": "code",
        "colab": {}
      },
      "source": [
        "# A Toy Dataset\n",
        "data = torch.tensor([[0,0],[0,1],[1,0],[1,1.]])\n",
        "target = torch.tensor([[0],[0],[1],[1.]])\n",
        "\n",
        "# A Toy Model\n",
        "model = nn.Linear(2,1)\n",
        "\n",
        "def train():\n",
        "    # Training Logic\n",
        "    opt = optim.SGD(params=model.parameters(),lr=0.1)\n",
        "    for iter in range(20):\n",
        "\n",
        "        # 1) erase previous gradients (if they exist)\n",
        "        opt.zero_grad()\n",
        "\n",
        "        # 2) make a prediction\n",
        "        pred = model(data)\n",
        "\n",
        "        # 3) calculate how much we missed\n",
        "        loss = ((pred - target)**2).sum()\n",
        "\n",
        "        # 4) figure out which weights caused us to miss\n",
        "        loss.backward()\n",
        "\n",
        "        # 5) change those weights\n",
        "        opt.step()\n",
        "\n",
        "        # 6) print our progress\n",
        "        print(loss.data)"
      ],
      "execution_count": 0,
      "outputs": []
    },
    {
      "cell_type": "code",
      "metadata": {
        "id": "HEI0gG2dcBa9",
        "colab_type": "code",
        "outputId": "646eacd0-7e92-4226-bb29-330b4704ea91",
        "colab": {
          "base_uri": "https://localhost:8080/",
          "height": 372
        }
      },
      "source": [
        "train()"
      ],
      "execution_count": 0,
      "outputs": [
        {
          "output_type": "stream",
          "text": [
            "tensor(0.2956)\n",
            "tensor(0.1848)\n",
            "tensor(0.1180)\n",
            "tensor(0.0756)\n",
            "tensor(0.0485)\n",
            "tensor(0.0311)\n",
            "tensor(0.0199)\n",
            "tensor(0.0128)\n",
            "tensor(0.0082)\n",
            "tensor(0.0053)\n",
            "tensor(0.0034)\n",
            "tensor(0.0022)\n",
            "tensor(0.0014)\n",
            "tensor(0.0009)\n",
            "tensor(0.0006)\n",
            "tensor(0.0004)\n",
            "tensor(0.0002)\n",
            "tensor(0.0002)\n",
            "tensor(0.0001)\n",
            "tensor(6.7231e-05)\n"
          ],
          "name": "stdout"
        }
      ]
    },
    {
      "cell_type": "code",
      "metadata": {
        "id": "et3FTq2ZcGJ1",
        "colab_type": "code",
        "outputId": "6dffd88a-8d7f-404f-b31d-46979be9b155",
        "colab": {
          "base_uri": "https://localhost:8080/",
          "height": 35
        }
      },
      "source": [
        "import syft as sy\n",
        "hook = sy.TorchHook(torch)"
      ],
      "execution_count": 0,
      "outputs": [
        {
          "output_type": "stream",
          "text": [
            "WARNING:root:Torch was already hooked... skipping hooking process\n"
          ],
          "name": "stderr"
        }
      ]
    },
    {
      "cell_type": "code",
      "metadata": {
        "id": "yuDT5TdXcHx6",
        "colab_type": "code",
        "colab": {}
      },
      "source": [
        "# create a couple workers\n",
        "\n",
        "bob = sy.VirtualWorker(hook, id=\"bob\")\n",
        "alice = sy.VirtualWorker(hook, id=\"alice\")"
      ],
      "execution_count": 0,
      "outputs": []
    },
    {
      "cell_type": "code",
      "metadata": {
        "id": "E5yuLRoqcJFC",
        "colab_type": "code",
        "colab": {}
      },
      "source": [
        "# A Toy Dataset\n",
        "data = torch.tensor([[0,0],[0,1],[1,0],[1,1.]], requires_grad=True)\n",
        "target = torch.tensor([[0],[0],[1],[1.]], requires_grad=True)\n",
        "\n",
        "# get pointers to training data on each worker by\n",
        "# sending some training data to bob and alice\n",
        "data_bob = data[0:2]\n",
        "target_bob = target[0:2]\n",
        "\n",
        "data_alice = data[2:]\n",
        "target_alice = target[2:]\n",
        "\n",
        "# Iniitalize A Toy Model\n",
        "model = nn.Linear(2,1)\n",
        "\n",
        "data_bob = data_bob.send(bob)\n",
        "data_alice = data_alice.send(alice)\n",
        "target_bob = target_bob.send(bob)\n",
        "target_alice = target_alice.send(alice)\n",
        "\n",
        "# organize pointers into a list\n",
        "datasets = [(data_bob,target_bob),(data_alice,target_alice)]"
      ],
      "execution_count": 0,
      "outputs": []
    },
    {
      "cell_type": "code",
      "metadata": {
        "id": "7FNsmT78cMWp",
        "colab_type": "code",
        "colab": {}
      },
      "source": [
        "from syft.federated.floptimizer import Optims\n",
        "workers = ['bob', 'alice']\n",
        "optims = Optims(workers, optim=optim.Adam(params=model.parameters(),lr=0.1))"
      ],
      "execution_count": 0,
      "outputs": []
    },
    {
      "cell_type": "code",
      "metadata": {
        "id": "152oOy4AcNxo",
        "colab_type": "code",
        "colab": {}
      },
      "source": [
        "def train():\n",
        "    # Training Logic\n",
        "    for iter in range(10):\n",
        "        \n",
        "        # NEW) iterate through each worker's dataset\n",
        "        for data,target in datasets:\n",
        "            \n",
        "            # NEW) send model to correct worker\n",
        "            model.send(data.location)\n",
        "            \n",
        "            #Call the optimizer for the worker using get_optim\n",
        "            opt = optims.get_optim(data.location.id)\n",
        "            #print(data.location.id)\n",
        "\n",
        "            # 1) erase previous gradients (if they exist)\n",
        "            opt.zero_grad()\n",
        "\n",
        "            # 2) make a prediction\n",
        "            pred = model(data)\n",
        "\n",
        "            # 3) calculate how much we missed\n",
        "            loss = ((pred - target)**2).sum()\n",
        "\n",
        "            # 4) figure out which weights caused us to miss\n",
        "            loss.backward()\n",
        "\n",
        "            # 5) change those weights\n",
        "            opt.step()\n",
        "            \n",
        "            # NEW) get model (with gradients)\n",
        "            model.get()\n",
        "\n",
        "            # 6) print our progress\n",
        "            print(loss.get()) # NEW) slight edit... need to call .get() on loss\\\n",
        "    \n",
        "# federated averaging"
      ],
      "execution_count": 0,
      "outputs": []
    },
    {
      "cell_type": "code",
      "metadata": {
        "id": "OpoVbSJZcQVN",
        "colab_type": "code",
        "outputId": "11dab684-a786-4fce-d80f-0716b298aa9b",
        "colab": {
          "base_uri": "https://localhost:8080/",
          "height": 372
        }
      },
      "source": [
        "train()"
      ],
      "execution_count": 0,
      "outputs": [
        {
          "output_type": "stream",
          "text": [
            "tensor(0.1555, requires_grad=True)\n",
            "tensor(1.8964, requires_grad=True)\n",
            "tensor(0.1289, requires_grad=True)\n",
            "tensor(1.0328, requires_grad=True)\n",
            "tensor(0.2476, requires_grad=True)\n",
            "tensor(0.5976, requires_grad=True)\n",
            "tensor(0.3456, requires_grad=True)\n",
            "tensor(0.3595, requires_grad=True)\n",
            "tensor(0.3930, requires_grad=True)\n",
            "tensor(0.2245, requires_grad=True)\n",
            "tensor(0.3923, requires_grad=True)\n",
            "tensor(0.1469, requires_grad=True)\n",
            "tensor(0.3513, requires_grad=True)\n",
            "tensor(0.1002, requires_grad=True)\n",
            "tensor(0.2823, requires_grad=True)\n",
            "tensor(0.0688, requires_grad=True)\n",
            "tensor(0.2005, requires_grad=True)\n",
            "tensor(0.0455, requires_grad=True)\n",
            "tensor(0.1217, requires_grad=True)\n",
            "tensor(0.0284, requires_grad=True)\n"
          ],
          "name": "stdout"
        }
      ]
    },
    {
      "cell_type": "code",
      "metadata": {
        "id": "bocRNRvLhgyE",
        "colab_type": "code",
        "colab": {}
      },
      "source": [
        "%reset -f"
      ],
      "execution_count": 0,
      "outputs": []
    },
    {
      "cell_type": "markdown",
      "metadata": {
        "id": "W27S3b1MJD55",
        "colab_type": "text"
      },
      "source": [
        "## Aggregation"
      ]
    },
    {
      "cell_type": "code",
      "metadata": {
        "id": "QU2qgjx_ePkO",
        "colab_type": "code",
        "outputId": "317f3b6b-ff5e-494f-8811-819bc76ed139",
        "colab": {
          "base_uri": "https://localhost:8080/",
          "height": 35
        }
      },
      "source": [
        "import torch\n",
        "import syft as sy\n",
        "hook = sy.TorchHook(torch)"
      ],
      "execution_count": 0,
      "outputs": [
        {
          "output_type": "stream",
          "text": [
            "WARNING:root:Torch was already hooked... skipping hooking process\n"
          ],
          "name": "stderr"
        }
      ]
    },
    {
      "cell_type": "code",
      "metadata": {
        "id": "hFB_P-C9eSD5",
        "colab_type": "code",
        "colab": {}
      },
      "source": [
        "bob = sy.VirtualWorker(hook, id='bob')\n",
        "alice = sy.VirtualWorker(hook, id='alice')"
      ],
      "execution_count": 0,
      "outputs": []
    },
    {
      "cell_type": "code",
      "metadata": {
        "id": "BsPVsss6eUBB",
        "colab_type": "code",
        "outputId": "553637e0-9a7d-4582-988f-b06220b7f9f3",
        "colab": {
          "base_uri": "https://localhost:8080/",
          "height": 35
        }
      },
      "source": [
        "# this is a local tensor\n",
        "x = torch.tensor([1,2,3,4]); x"
      ],
      "execution_count": 0,
      "outputs": [
        {
          "output_type": "execute_result",
          "data": {
            "text/plain": [
              "tensor([1, 2, 3, 4])"
            ]
          },
          "metadata": {
            "tags": []
          },
          "execution_count": 51
        }
      ]
    },
    {
      "cell_type": "code",
      "metadata": {
        "id": "IqD1IO4QeXmw",
        "colab_type": "code",
        "outputId": "50916f4c-ba35-47c7-c8f6-5a1b3fadf5e3",
        "colab": {
          "base_uri": "https://localhost:8080/",
          "height": 35
        }
      },
      "source": [
        "# this sends the local tensor to Bob\n",
        "x_ptr = x.send(bob)\n",
        "\n",
        "# this is now a pointer\n",
        "x_ptr"
      ],
      "execution_count": 0,
      "outputs": [
        {
          "output_type": "execute_result",
          "data": {
            "text/plain": [
              "(Wrapper)>[PointerTensor | me:44411603547 -> bob:17315478130]"
            ]
          },
          "metadata": {
            "tags": []
          },
          "execution_count": 52
        }
      ]
    },
    {
      "cell_type": "code",
      "metadata": {
        "id": "wqzKg3bwgcYt",
        "colab_type": "code",
        "outputId": "d88f0441-d394-4476-f0ed-75ee93a1b72b",
        "colab": {
          "base_uri": "https://localhost:8080/",
          "height": 35
        }
      },
      "source": [
        "# now we can SEND THE POINTER to alice!!!\n",
        "pointer_to_x_ptr = x_ptr.send(alice)\n",
        "\n",
        "pointer_to_x_ptr"
      ],
      "execution_count": 0,
      "outputs": [
        {
          "output_type": "execute_result",
          "data": {
            "text/plain": [
              "(Wrapper)>[PointerTensor | me:79110793566 -> alice:44411603547]"
            ]
          },
          "metadata": {
            "tags": []
          },
          "execution_count": 53
        }
      ]
    },
    {
      "cell_type": "code",
      "metadata": {
        "id": "qUBHkIdGgeE-",
        "colab_type": "code",
        "outputId": "ab383bf6-9250-4e84-d924-da08cd7299cf",
        "colab": {
          "base_uri": "https://localhost:8080/",
          "height": 35
        }
      },
      "source": [
        "# As you can see above, Bob still has the actual data (data is always stored in a LocalTensor type). \n",
        "bob._objects"
      ],
      "execution_count": 0,
      "outputs": [
        {
          "output_type": "execute_result",
          "data": {
            "text/plain": [
              "{17315478130: tensor([1, 2, 3, 4])}"
            ]
          },
          "metadata": {
            "tags": []
          },
          "execution_count": 54
        }
      ]
    },
    {
      "cell_type": "code",
      "metadata": {
        "id": "a1PBTq0Jgfhm",
        "colab_type": "code",
        "outputId": "041675e9-064a-4c11-ac8e-57ea4d2ac8a8",
        "colab": {
          "base_uri": "https://localhost:8080/",
          "height": 35
        }
      },
      "source": [
        "# and we can use .get() to get x_ptr back from Alice\n",
        "x_ptr = pointer_to_x_ptr.get()\n",
        "x_ptr"
      ],
      "execution_count": 0,
      "outputs": [
        {
          "output_type": "execute_result",
          "data": {
            "text/plain": [
              "(Wrapper)>[PointerTensor | me:44411603547 -> bob:17315478130]"
            ]
          },
          "metadata": {
            "tags": []
          },
          "execution_count": 55
        }
      ]
    },
    {
      "cell_type": "code",
      "metadata": {
        "id": "ngOkEzXagkou",
        "colab_type": "code",
        "outputId": "02aaac35-14bb-41d7-f791-0512d99da249",
        "colab": {
          "base_uri": "https://localhost:8080/",
          "height": 35
        }
      },
      "source": [
        "# and then we can use x_ptr to get x back from Bob!\n",
        "x = x_ptr.get()\n",
        "x"
      ],
      "execution_count": 0,
      "outputs": [
        {
          "output_type": "execute_result",
          "data": {
            "text/plain": [
              "tensor([1, 2, 3, 4])"
            ]
          },
          "metadata": {
            "tags": []
          },
          "execution_count": 56
        }
      ]
    },
    {
      "cell_type": "code",
      "metadata": {
        "id": "RnJK65BTh3f1",
        "colab_type": "code",
        "outputId": "f89e9028-c8c1-4d0f-9f5c-2f95190f122b",
        "colab": {
          "base_uri": "https://localhost:8080/",
          "height": 35
        }
      },
      "source": [
        "bob._objects"
      ],
      "execution_count": 0,
      "outputs": [
        {
          "output_type": "execute_result",
          "data": {
            "text/plain": [
              "{}"
            ]
          },
          "metadata": {
            "tags": []
          },
          "execution_count": 57
        }
      ]
    },
    {
      "cell_type": "code",
      "metadata": {
        "id": "-U1d4evNh4r4",
        "colab_type": "code",
        "outputId": "f484ad87-c696-4a84-9b38-1f191a7f7ae2",
        "colab": {
          "base_uri": "https://localhost:8080/",
          "height": 35
        }
      },
      "source": [
        "alice._objects"
      ],
      "execution_count": 0,
      "outputs": [
        {
          "output_type": "execute_result",
          "data": {
            "text/plain": [
              "{}"
            ]
          },
          "metadata": {
            "tags": []
          },
          "execution_count": 58
        }
      ]
    },
    {
      "cell_type": "code",
      "metadata": {
        "id": "8P8cCANYh6SY",
        "colab_type": "code",
        "colab": {}
      },
      "source": [
        "p2p2x = torch.tensor([1,2,3,4,5]).send(bob).send(alice)\n",
        "\n",
        "y = p2p2x + p2p2x"
      ],
      "execution_count": 0,
      "outputs": []
    },
    {
      "cell_type": "code",
      "metadata": {
        "id": "Zxn-IAUPh8Cu",
        "colab_type": "code",
        "outputId": "cdd19146-1c81-4e7d-d483-df5ccdacf724",
        "colab": {
          "base_uri": "https://localhost:8080/",
          "height": 53
        }
      },
      "source": [
        "bob._objects"
      ],
      "execution_count": 0,
      "outputs": [
        {
          "output_type": "execute_result",
          "data": {
            "text/plain": [
              "{2864754701: tensor([ 2,  4,  6,  8, 10]),\n",
              " 90281436240: tensor([1, 2, 3, 4, 5])}"
            ]
          },
          "metadata": {
            "tags": []
          },
          "execution_count": 60
        }
      ]
    },
    {
      "cell_type": "code",
      "metadata": {
        "id": "_E23CJnRiD5y",
        "colab_type": "code",
        "outputId": "0f86ff71-a0db-44b6-de08-459fe42a8d98",
        "colab": {
          "base_uri": "https://localhost:8080/",
          "height": 73
        }
      },
      "source": [
        "alice._objects"
      ],
      "execution_count": 0,
      "outputs": [
        {
          "output_type": "execute_result",
          "data": {
            "text/plain": [
              "{6187838214: (Wrapper)>[PointerTensor | alice:6187838214 -> bob:90281436240],\n",
              " 22705716963: (Wrapper)>[PointerTensor | alice:22705716963 -> bob:2864754701]}"
            ]
          },
          "metadata": {
            "tags": []
          },
          "execution_count": 61
        }
      ]
    },
    {
      "cell_type": "code",
      "metadata": {
        "id": "Ah-9lpbLiFMk",
        "colab_type": "code",
        "outputId": "738e77c3-e56e-462e-e109-3bb885b5d9e7",
        "colab": {
          "base_uri": "https://localhost:8080/",
          "height": 35
        }
      },
      "source": [
        "y.get().get()"
      ],
      "execution_count": 0,
      "outputs": [
        {
          "output_type": "execute_result",
          "data": {
            "text/plain": [
              "tensor([ 2,  4,  6,  8, 10])"
            ]
          },
          "metadata": {
            "tags": []
          },
          "execution_count": 62
        }
      ]
    },
    {
      "cell_type": "code",
      "metadata": {
        "id": "AA9z2mXdiGt4",
        "colab_type": "code",
        "outputId": "1e5fa4e3-c86b-451f-b4d2-59cb481a4b76",
        "colab": {
          "base_uri": "https://localhost:8080/",
          "height": 35
        }
      },
      "source": [
        "bob._objects"
      ],
      "execution_count": 0,
      "outputs": [
        {
          "output_type": "execute_result",
          "data": {
            "text/plain": [
              "{90281436240: tensor([1, 2, 3, 4, 5])}"
            ]
          },
          "metadata": {
            "tags": []
          },
          "execution_count": 63
        }
      ]
    },
    {
      "cell_type": "code",
      "metadata": {
        "id": "9TryjN6XiIT9",
        "colab_type": "code",
        "outputId": "e8c436c8-ac14-458b-b02f-407c47c95e0e",
        "colab": {
          "base_uri": "https://localhost:8080/",
          "height": 55
        }
      },
      "source": [
        "alice._objects"
      ],
      "execution_count": 0,
      "outputs": [
        {
          "output_type": "execute_result",
          "data": {
            "text/plain": [
              "{6187838214: (Wrapper)>[PointerTensor | alice:6187838214 -> bob:90281436240]}"
            ]
          },
          "metadata": {
            "tags": []
          },
          "execution_count": 64
        }
      ]
    },
    {
      "cell_type": "code",
      "metadata": {
        "id": "rHAnIyZAiJxP",
        "colab_type": "code",
        "outputId": "003bd131-eea8-4bda-8605-5e0d657b518f",
        "colab": {
          "base_uri": "https://localhost:8080/",
          "height": 35
        }
      },
      "source": [
        "p2p2x.get().get()"
      ],
      "execution_count": 0,
      "outputs": [
        {
          "output_type": "execute_result",
          "data": {
            "text/plain": [
              "tensor([1, 2, 3, 4, 5])"
            ]
          },
          "metadata": {
            "tags": []
          },
          "execution_count": 65
        }
      ]
    },
    {
      "cell_type": "code",
      "metadata": {
        "id": "pp7NOmdwiMIU",
        "colab_type": "code",
        "outputId": "1bc3584c-740d-4b66-b6d9-bfcf3503d295",
        "colab": {
          "base_uri": "https://localhost:8080/",
          "height": 35
        }
      },
      "source": [
        "bob._objects"
      ],
      "execution_count": 0,
      "outputs": [
        {
          "output_type": "execute_result",
          "data": {
            "text/plain": [
              "{}"
            ]
          },
          "metadata": {
            "tags": []
          },
          "execution_count": 66
        }
      ]
    },
    {
      "cell_type": "code",
      "metadata": {
        "id": "qpi7JC2riONE",
        "colab_type": "code",
        "outputId": "eddc9ed2-e753-4e76-a00e-3ec0888ee923",
        "colab": {
          "base_uri": "https://localhost:8080/",
          "height": 35
        }
      },
      "source": [
        "alice._objects"
      ],
      "execution_count": 0,
      "outputs": [
        {
          "output_type": "execute_result",
          "data": {
            "text/plain": [
              "{}"
            ]
          },
          "metadata": {
            "tags": []
          },
          "execution_count": 67
        }
      ]
    },
    {
      "cell_type": "code",
      "metadata": {
        "id": "b34BwiYOiQLY",
        "colab_type": "code",
        "colab": {}
      },
      "source": [
        "# x is now a pointer to the data which lives on Bob's machine\n",
        "x = torch.tensor([1,2,3,4,5]).send(bob)"
      ],
      "execution_count": 0,
      "outputs": []
    },
    {
      "cell_type": "code",
      "metadata": {
        "id": "1xJ3Ry4SiRjq",
        "colab_type": "code",
        "outputId": "9bb15594-d9e1-4275-fac8-1897586ddaa7",
        "colab": {
          "base_uri": "https://localhost:8080/",
          "height": 53
        }
      },
      "source": [
        "print('  bob:', bob._objects)\n",
        "print('alice:',alice._objects)"
      ],
      "execution_count": 0,
      "outputs": [
        {
          "output_type": "stream",
          "text": [
            "  bob: {67087745702: tensor([1, 2, 3, 4, 5])}\n",
            "alice: {}\n"
          ],
          "name": "stdout"
        }
      ]
    },
    {
      "cell_type": "code",
      "metadata": {
        "id": "FJQM0zD6iS0T",
        "colab_type": "code",
        "colab": {}
      },
      "source": [
        "x = x.move(alice)"
      ],
      "execution_count": 0,
      "outputs": []
    },
    {
      "cell_type": "code",
      "metadata": {
        "id": "Bx7k2lFFiU8A",
        "colab_type": "code",
        "outputId": "c43e4bd0-7db0-4f76-ba9d-83df3c7696b2",
        "colab": {
          "base_uri": "https://localhost:8080/",
          "height": 53
        }
      },
      "source": [
        "print('  bob:', bob._objects)\n",
        "print('alice:',alice._objects)"
      ],
      "execution_count": 0,
      "outputs": [
        {
          "output_type": "stream",
          "text": [
            "  bob: {}\n",
            "alice: {67087745702: tensor([1, 2, 3, 4, 5])}\n"
          ],
          "name": "stdout"
        }
      ]
    },
    {
      "cell_type": "code",
      "metadata": {
        "id": "ODsAtUOQiWKr",
        "colab_type": "code",
        "outputId": "b3fc3f53-4a73-4513-c8c3-d9cc9a9a2cd8",
        "colab": {
          "base_uri": "https://localhost:8080/",
          "height": 35
        }
      },
      "source": [
        "x"
      ],
      "execution_count": 0,
      "outputs": [
        {
          "output_type": "execute_result",
          "data": {
            "text/plain": [
              "(Wrapper)>[PointerTensor | me:25632996799 -> alice:67087745702]"
            ]
          },
          "metadata": {
            "tags": []
          },
          "execution_count": 72
        }
      ]
    },
    {
      "cell_type": "code",
      "metadata": {
        "id": "RmRmaLqZhYnD",
        "colab_type": "code",
        "colab": {}
      },
      "source": [
        "%reset -f"
      ],
      "execution_count": 0,
      "outputs": []
    },
    {
      "cell_type": "markdown",
      "metadata": {
        "id": "d3zj4TQHJFCo",
        "colab_type": "text"
      },
      "source": [
        "## Trusted Aggregator"
      ]
    },
    {
      "cell_type": "code",
      "metadata": {
        "id": "JkmKvQmQjHVt",
        "colab_type": "code",
        "outputId": "f2df44be-1751-4b90-b1e9-43a44a76d596",
        "colab": {
          "base_uri": "https://localhost:8080/",
          "height": 35
        }
      },
      "source": [
        "import torch\n",
        "import syft as sy\n",
        "import copy\n",
        "hook = sy.TorchHook(torch)\n",
        "from torch import nn, optim"
      ],
      "execution_count": 0,
      "outputs": [
        {
          "output_type": "stream",
          "text": [
            "WARNING:root:Torch was already hooked... skipping hooking process\n"
          ],
          "name": "stderr"
        }
      ]
    },
    {
      "cell_type": "code",
      "metadata": {
        "id": "hNZwgDicjJL-",
        "colab_type": "code",
        "colab": {}
      },
      "source": [
        "# create a couple workers\n",
        "\n",
        "bob = sy.VirtualWorker(hook, id=\"bob\")\n",
        "alice = sy.VirtualWorker(hook, id=\"alice\")\n",
        "secure_worker = sy.VirtualWorker(hook, id=\"secure_worker\")\n",
        "\n",
        "\n",
        "# A Toy Dataset\n",
        "data = torch.tensor([[0,0],[0,1],[1,0],[1,1.]], requires_grad=True)\n",
        "target = torch.tensor([[0],[0],[1],[1.]], requires_grad=True)\n",
        "\n",
        "# get pointers to training data on each worker by\n",
        "# sending some training data to bob and alice\n",
        "bobs_data = data[0:2].send(bob)\n",
        "bobs_target = target[0:2].send(bob)\n",
        "\n",
        "alices_data = data[2:].send(alice)\n",
        "alices_target = target[2:].send(alice)"
      ],
      "execution_count": 0,
      "outputs": []
    },
    {
      "cell_type": "code",
      "metadata": {
        "id": "ihnEuk2IjOnm",
        "colab_type": "code",
        "colab": {}
      },
      "source": [
        "# Iniitalize A Toy Model\n",
        "model = nn.Linear(2,1)"
      ],
      "execution_count": 0,
      "outputs": []
    },
    {
      "cell_type": "code",
      "metadata": {
        "id": "sa5d18-QjQWK",
        "colab_type": "code",
        "colab": {}
      },
      "source": [
        "bobs_model = model.copy().send(bob)\n",
        "alices_model = model.copy().send(alice)\n",
        "\n",
        "bobs_opt = optim.SGD(params=bobs_model.parameters(),lr=0.1)\n",
        "alices_opt = optim.SGD(params=alices_model.parameters(),lr=0.1)"
      ],
      "execution_count": 0,
      "outputs": []
    },
    {
      "cell_type": "code",
      "metadata": {
        "id": "Nmltjd4LjTW_",
        "colab_type": "code",
        "outputId": "3bd40ee7-d428-4645-8540-1015966b6960",
        "colab": {
          "base_uri": "https://localhost:8080/",
          "height": 195
        }
      },
      "source": [
        "for i in range(10):\n",
        "\n",
        "    # Train Bob's Model\n",
        "    bobs_opt.zero_grad()\n",
        "    bobs_pred = bobs_model(bobs_data)\n",
        "    bobs_loss = ((bobs_pred - bobs_target)**2).sum()\n",
        "    bobs_loss.backward()\n",
        "\n",
        "    bobs_opt.step()\n",
        "    bobs_loss = bobs_loss.get().data\n",
        "\n",
        "    # Train Alice's Model\n",
        "    alices_opt.zero_grad()\n",
        "    alices_pred = alices_model(alices_data)\n",
        "    alices_loss = ((alices_pred - alices_target)**2).sum()\n",
        "    alices_loss.backward()\n",
        "\n",
        "    alices_opt.step()\n",
        "    alices_loss = alices_loss.get().data\n",
        "    \n",
        "    print(\"Bob:\" + str(bobs_loss) + \" Alice:\" + str(alices_loss))"
      ],
      "execution_count": 0,
      "outputs": [
        {
          "output_type": "stream",
          "text": [
            "Bob:tensor(0.2246) Alice:tensor(5.9897)\n",
            "Bob:tensor(0.0513) Alice:tensor(0.0830)\n",
            "Bob:tensor(0.0119) Alice:tensor(0.0314)\n",
            "Bob:tensor(0.0029) Alice:tensor(0.0258)\n",
            "Bob:tensor(0.0008) Alice:tensor(0.0215)\n",
            "Bob:tensor(0.0003) Alice:tensor(0.0179)\n",
            "Bob:tensor(0.0002) Alice:tensor(0.0149)\n",
            "Bob:tensor(0.0002) Alice:tensor(0.0124)\n",
            "Bob:tensor(0.0001) Alice:tensor(0.0103)\n",
            "Bob:tensor(0.0001) Alice:tensor(0.0086)\n"
          ],
          "name": "stdout"
        }
      ]
    },
    {
      "cell_type": "code",
      "metadata": {
        "id": "5eJ3TnRrjWhP",
        "colab_type": "code",
        "colab": {}
      },
      "source": [
        "alices_model.move(secure_worker)"
      ],
      "execution_count": 0,
      "outputs": []
    },
    {
      "cell_type": "code",
      "metadata": {
        "id": "nTLXtV5WjZbs",
        "colab_type": "code",
        "colab": {}
      },
      "source": [
        "bobs_model.move(secure_worker)"
      ],
      "execution_count": 0,
      "outputs": []
    },
    {
      "cell_type": "code",
      "metadata": {
        "id": "ftcbbmvEjb5h",
        "colab_type": "code",
        "colab": {}
      },
      "source": [
        "with torch.no_grad():\n",
        "    model.weight.set_(((alices_model.weight.data + bobs_model.weight.data) / 2).get())\n",
        "    model.bias.set_(((alices_model.bias.data + bobs_model.bias.data) / 2).get())"
      ],
      "execution_count": 0,
      "outputs": []
    },
    {
      "cell_type": "code",
      "metadata": {
        "id": "dUrU7VCWjdMc",
        "colab_type": "code",
        "outputId": "09771c0a-c41d-4ab0-f462-0ed14943003e",
        "colab": {
          "base_uri": "https://localhost:8080/",
          "height": 195
        }
      },
      "source": [
        "iterations = 10\n",
        "worker_iters = 5\n",
        "\n",
        "for a_iter in range(iterations):\n",
        "    \n",
        "    bobs_model = model.copy().send(bob)\n",
        "    alices_model = model.copy().send(alice)\n",
        "\n",
        "    bobs_opt = optim.SGD(params=bobs_model.parameters(),lr=0.1)\n",
        "    alices_opt = optim.SGD(params=alices_model.parameters(),lr=0.1)\n",
        "\n",
        "    for wi in range(worker_iters):\n",
        "\n",
        "        # Train Bob's Model\n",
        "        bobs_opt.zero_grad()\n",
        "        bobs_pred = bobs_model(bobs_data)\n",
        "        bobs_loss = ((bobs_pred - bobs_target)**2).sum()\n",
        "        bobs_loss.backward()\n",
        "\n",
        "        bobs_opt.step()\n",
        "        bobs_loss = bobs_loss.get().data\n",
        "\n",
        "        # Train Alice's Model\n",
        "        alices_opt.zero_grad()\n",
        "        alices_pred = alices_model(alices_data)\n",
        "        alices_loss = ((alices_pred - alices_target)**2).sum()\n",
        "        alices_loss.backward()\n",
        "\n",
        "        alices_opt.step()\n",
        "        alices_loss = alices_loss.get().data\n",
        "    \n",
        "    alices_model.move(secure_worker)\n",
        "    bobs_model.move(secure_worker)\n",
        "    with torch.no_grad():\n",
        "        model.weight.set_(((alices_model.weight.data + bobs_model.weight.data) / 2).get())\n",
        "        model.bias.set_(((alices_model.bias.data + bobs_model.bias.data) / 2).get())\n",
        "    \n",
        "    print(\"Bob:\" + str(bobs_loss) + \" Alice:\" + str(alices_loss))"
      ],
      "execution_count": 0,
      "outputs": [
        {
          "output_type": "stream",
          "text": [
            "Bob:tensor(0.0018) Alice:tensor(0.0135)\n",
            "Bob:tensor(0.0035) Alice:tensor(0.0073)\n",
            "Bob:tensor(0.0042) Alice:tensor(0.0037)\n",
            "Bob:tensor(0.0044) Alice:tensor(0.0019)\n",
            "Bob:tensor(0.0041) Alice:tensor(0.0010)\n",
            "Bob:tensor(0.0036) Alice:tensor(0.0005)\n",
            "Bob:tensor(0.0031) Alice:tensor(0.0003)\n",
            "Bob:tensor(0.0025) Alice:tensor(0.0002)\n",
            "Bob:tensor(0.0021) Alice:tensor(0.0001)\n",
            "Bob:tensor(0.0016) Alice:tensor(7.1089e-05)\n"
          ],
          "name": "stdout"
        }
      ]
    },
    {
      "cell_type": "code",
      "metadata": {
        "id": "BJtAkkSejit1",
        "colab_type": "code",
        "colab": {}
      },
      "source": [
        "preds = model(data)\n",
        "loss = ((preds - target) ** 2).sum()"
      ],
      "execution_count": 0,
      "outputs": []
    },
    {
      "cell_type": "code",
      "metadata": {
        "id": "IbqsvvRUjjut",
        "colab_type": "code",
        "outputId": "71c66460-c264-496a-ec96-1ae15255e06a",
        "colab": {
          "base_uri": "https://localhost:8080/",
          "height": 177
        }
      },
      "source": [
        "print(preds)\n",
        "print(target)\n",
        "print(loss.data)"
      ],
      "execution_count": 0,
      "outputs": [
        {
          "output_type": "stream",
          "text": [
            "tensor([[0.1180],\n",
            "        [0.0989],\n",
            "        [0.8747],\n",
            "        [0.8556]], grad_fn=<AddmmBackward>)\n",
            "tensor([[0.],\n",
            "        [0.],\n",
            "        [1.],\n",
            "        [1.]], requires_grad=True)\n",
            "tensor(0.0603)\n"
          ],
          "name": "stdout"
        }
      ]
    },
    {
      "cell_type": "code",
      "metadata": {
        "id": "9F0sjWelkPAB",
        "colab_type": "code",
        "colab": {}
      },
      "source": [
        "%reset -f"
      ],
      "execution_count": 0,
      "outputs": []
    },
    {
      "cell_type": "markdown",
      "metadata": {
        "id": "gYj-VM58Ieq1",
        "colab_type": "text"
      },
      "source": [
        "# Encrypted Programs"
      ]
    },
    {
      "cell_type": "code",
      "metadata": {
        "id": "j0DVr1QAjqCM",
        "colab_type": "code",
        "colab": {}
      },
      "source": [
        "Q = 1234567891011"
      ],
      "execution_count": 0,
      "outputs": []
    },
    {
      "cell_type": "code",
      "metadata": {
        "id": "SYatAjELjsXU",
        "colab_type": "code",
        "colab": {}
      },
      "source": [
        "x = 25"
      ],
      "execution_count": 0,
      "outputs": []
    },
    {
      "cell_type": "code",
      "metadata": {
        "id": "7ZLguCG5juKL",
        "colab_type": "code",
        "colab": {}
      },
      "source": [
        "import random\n",
        "\n",
        "def encrypt(x):\n",
        "    share_a = random.randint(-Q,Q)\n",
        "    share_b = random.randint(-Q,Q)\n",
        "    share_c = (x - share_a - share_b) % Q\n",
        "    return (share_a, share_b,  share_c)"
      ],
      "execution_count": 0,
      "outputs": []
    },
    {
      "cell_type": "code",
      "metadata": {
        "id": "cPfkSpLwjv8b",
        "colab_type": "code",
        "outputId": "7562767d-b297-4e15-9405-7be0b2bafdfc",
        "colab": {
          "base_uri": "https://localhost:8080/",
          "height": 35
        }
      },
      "source": [
        "encrypt(x)"
      ],
      "execution_count": 0,
      "outputs": [
        {
          "output_type": "execute_result",
          "data": {
            "text/plain": [
              "(-520169851765, -324163672501, 844333524291)"
            ]
          },
          "metadata": {
            "tags": []
          },
          "execution_count": 89
        }
      ]
    },
    {
      "cell_type": "code",
      "metadata": {
        "id": "NVRBLN3wjxrs",
        "colab_type": "code",
        "colab": {}
      },
      "source": [
        "def decrypt(*shares):\n",
        "    return sum(shares) % Q"
      ],
      "execution_count": 0,
      "outputs": []
    },
    {
      "cell_type": "code",
      "metadata": {
        "id": "rA-ZPM4tjzis",
        "colab_type": "code",
        "colab": {}
      },
      "source": [
        "a,b,c = encrypt(25)"
      ],
      "execution_count": 0,
      "outputs": []
    },
    {
      "cell_type": "code",
      "metadata": {
        "id": "Fu30o590j1ta",
        "colab_type": "code",
        "outputId": "7f16a988-8ca4-4739-c465-e5ddb45d84fc",
        "colab": {
          "base_uri": "https://localhost:8080/",
          "height": 35
        }
      },
      "source": [
        "decrypt(a, b, c)"
      ],
      "execution_count": 0,
      "outputs": [
        {
          "output_type": "execute_result",
          "data": {
            "text/plain": [
              "25"
            ]
          },
          "metadata": {
            "tags": []
          },
          "execution_count": 92
        }
      ]
    },
    {
      "cell_type": "code",
      "metadata": {
        "id": "DMPgcPi4j4Dm",
        "colab_type": "code",
        "outputId": "6528fa10-2991-4b3e-a54f-d42fa03337a1",
        "colab": {
          "base_uri": "https://localhost:8080/",
          "height": 35
        }
      },
      "source": [
        "decrypt(a, b)"
      ],
      "execution_count": 0,
      "outputs": [
        {
          "output_type": "execute_result",
          "data": {
            "text/plain": [
              "728570765909"
            ]
          },
          "metadata": {
            "tags": []
          },
          "execution_count": 93
        }
      ]
    },
    {
      "cell_type": "code",
      "metadata": {
        "id": "jzbuZm3gj8Ad",
        "colab_type": "code",
        "colab": {}
      },
      "source": [
        "x = encrypt(25)\n",
        "y = encrypt(5)"
      ],
      "execution_count": 0,
      "outputs": []
    },
    {
      "cell_type": "code",
      "metadata": {
        "id": "eXZWjcebj9vZ",
        "colab_type": "code",
        "colab": {}
      },
      "source": [
        "def add(x, y):\n",
        "    z = list()\n",
        "    # the first worker adds their shares together\n",
        "    z.append((x[0] + y[0]) % Q)\n",
        "    \n",
        "    # the second worker adds their shares together\n",
        "    z.append((x[1] + y[1]) % Q)\n",
        "    \n",
        "    # the third worker adds their shares together\n",
        "    z.append((x[2] + y[2]) % Q)\n",
        "    \n",
        "    return z"
      ],
      "execution_count": 0,
      "outputs": []
    },
    {
      "cell_type": "code",
      "metadata": {
        "id": "K78mdIIzj-qY",
        "colab_type": "code",
        "outputId": "65df9a01-f03a-49cf-8876-3772e94d4209",
        "colab": {
          "base_uri": "https://localhost:8080/",
          "height": 35
        }
      },
      "source": [
        "decrypt(*add(x,y))"
      ],
      "execution_count": 0,
      "outputs": [
        {
          "output_type": "execute_result",
          "data": {
            "text/plain": [
              "30"
            ]
          },
          "metadata": {
            "tags": []
          },
          "execution_count": 96
        }
      ]
    },
    {
      "cell_type": "code",
      "metadata": {
        "id": "XKiAild2kBqD",
        "colab_type": "code",
        "outputId": "0c6c068c-da8d-49c1-ec80-8185c1b5035c",
        "colab": {
          "base_uri": "https://localhost:8080/",
          "height": 35
        }
      },
      "source": [
        "import torch\n",
        "import syft as sy\n",
        "hook = sy.TorchHook(torch)\n",
        "\n",
        "bob = sy.VirtualWorker(hook, id=\"bob\")\n",
        "alice = sy.VirtualWorker(hook, id=\"alice\")\n",
        "bill = sy.VirtualWorker(hook, id=\"bill\")"
      ],
      "execution_count": 0,
      "outputs": [
        {
          "output_type": "stream",
          "text": [
            "WARNING:root:Torch was already hooked... skipping hooking process\n"
          ],
          "name": "stderr"
        }
      ]
    },
    {
      "cell_type": "code",
      "metadata": {
        "id": "Ys8VppG4kC0U",
        "colab_type": "code",
        "colab": {}
      },
      "source": [
        "x = torch.tensor([25])"
      ],
      "execution_count": 0,
      "outputs": []
    },
    {
      "cell_type": "code",
      "metadata": {
        "id": "j8ZLW21qkFI-",
        "colab_type": "code",
        "outputId": "7a3ea698-2a5e-4d19-b6bc-22de985b5578",
        "colab": {
          "base_uri": "https://localhost:8080/",
          "height": 35
        }
      },
      "source": [
        "x"
      ],
      "execution_count": 0,
      "outputs": [
        {
          "output_type": "execute_result",
          "data": {
            "text/plain": [
              "tensor([25])"
            ]
          },
          "metadata": {
            "tags": []
          },
          "execution_count": 99
        }
      ]
    },
    {
      "cell_type": "code",
      "metadata": {
        "id": "quI5-T57kHtq",
        "colab_type": "code",
        "colab": {}
      },
      "source": [
        "encrypted_x = x.share(bob, alice, bill)"
      ],
      "execution_count": 0,
      "outputs": []
    },
    {
      "cell_type": "code",
      "metadata": {
        "id": "Rx7Tg-KHkJAq",
        "colab_type": "code",
        "outputId": "174dbbfc-28de-4e25-a4a4-8c4c936141b0",
        "colab": {
          "base_uri": "https://localhost:8080/",
          "height": 35
        }
      },
      "source": [
        "encrypted_x.get()"
      ],
      "execution_count": 0,
      "outputs": [
        {
          "output_type": "execute_result",
          "data": {
            "text/plain": [
              "tensor([25])"
            ]
          },
          "metadata": {
            "tags": []
          },
          "execution_count": 101
        }
      ]
    },
    {
      "cell_type": "code",
      "metadata": {
        "id": "HeT6ys7SkK6U",
        "colab_type": "code",
        "outputId": "5359ba31-d582-4f6a-98f3-640f825192e1",
        "colab": {
          "base_uri": "https://localhost:8080/",
          "height": 35
        }
      },
      "source": [
        "bob._objects"
      ],
      "execution_count": 0,
      "outputs": [
        {
          "output_type": "execute_result",
          "data": {
            "text/plain": [
              "{}"
            ]
          },
          "metadata": {
            "tags": []
          },
          "execution_count": 102
        }
      ]
    },
    {
      "cell_type": "code",
      "metadata": {
        "id": "B1dEk9gVkdWU",
        "colab_type": "code",
        "colab": {}
      },
      "source": [
        "x = torch.tensor([25]).share(bob, alice, bill)"
      ],
      "execution_count": 0,
      "outputs": []
    },
    {
      "cell_type": "code",
      "metadata": {
        "id": "QbrlxBnKkeyK",
        "colab_type": "code",
        "outputId": "3301cfe4-add8-4bac-d4a9-a4e5d7dc4fa8",
        "colab": {
          "base_uri": "https://localhost:8080/",
          "height": 35
        }
      },
      "source": [
        "# Bob's share\n",
        "bobs_share = list(bob._objects.values())[0]\n",
        "bobs_share"
      ],
      "execution_count": 0,
      "outputs": [
        {
          "output_type": "execute_result",
          "data": {
            "text/plain": [
              "tensor([2025019120486417337])"
            ]
          },
          "metadata": {
            "tags": []
          },
          "execution_count": 104
        }
      ]
    },
    {
      "cell_type": "code",
      "metadata": {
        "id": "3AKBKTnFkgbe",
        "colab_type": "code",
        "outputId": "448d7374-a3e9-4c1c-c00b-896587a96349",
        "colab": {
          "base_uri": "https://localhost:8080/",
          "height": 35
        }
      },
      "source": [
        "# Alice's share\n",
        "alices_share = list(alice._objects.values())[0]\n",
        "alices_share"
      ],
      "execution_count": 0,
      "outputs": [
        {
          "output_type": "execute_result",
          "data": {
            "text/plain": [
              "tensor([3234094629210624288])"
            ]
          },
          "metadata": {
            "tags": []
          },
          "execution_count": 105
        }
      ]
    },
    {
      "cell_type": "code",
      "metadata": {
        "id": "f55AmPhxkiHk",
        "colab_type": "code",
        "outputId": "0f77eed7-d2cc-4fb2-b059-a902611d0c2e",
        "colab": {
          "base_uri": "https://localhost:8080/",
          "height": 35
        }
      },
      "source": [
        "# Bill's share\n",
        "bills_share = list(bill._objects.values())[0]\n",
        "bills_share"
      ],
      "execution_count": 0,
      "outputs": [
        {
          "output_type": "execute_result",
          "data": {
            "text/plain": [
              "tensor([3964258287157734208])"
            ]
          },
          "metadata": {
            "tags": []
          },
          "execution_count": 106
        }
      ]
    },
    {
      "cell_type": "code",
      "metadata": {
        "id": "xeUs2f53kjmC",
        "colab_type": "code",
        "outputId": "5b030c22-7b69-4d47-ed84-28db5531843d",
        "colab": {
          "base_uri": "https://localhost:8080/",
          "height": 35
        }
      },
      "source": [
        "Q = x.child.field\n",
        "\n",
        "(bobs_share + alices_share + bills_share) % Q"
      ],
      "execution_count": 0,
      "outputs": [
        {
          "output_type": "execute_result",
          "data": {
            "text/plain": [
              "tensor([25])"
            ]
          },
          "metadata": {
            "tags": []
          },
          "execution_count": 107
        }
      ]
    },
    {
      "cell_type": "code",
      "metadata": {
        "id": "DGFTm691kmFG",
        "colab_type": "code",
        "colab": {}
      },
      "source": [
        "x = torch.tensor([25]).share(bob,alice)\n",
        "y = torch.tensor([5]).share(bob,alice)"
      ],
      "execution_count": 0,
      "outputs": []
    },
    {
      "cell_type": "code",
      "metadata": {
        "id": "WDVrAj42kn00",
        "colab_type": "code",
        "outputId": "1e917d3b-f374-428b-d76a-db955fa92489",
        "colab": {
          "base_uri": "https://localhost:8080/",
          "height": 35
        }
      },
      "source": [
        "z = x + y\n",
        "z.get()"
      ],
      "execution_count": 0,
      "outputs": [
        {
          "output_type": "execute_result",
          "data": {
            "text/plain": [
              "tensor([30])"
            ]
          },
          "metadata": {
            "tags": []
          },
          "execution_count": 109
        }
      ]
    },
    {
      "cell_type": "code",
      "metadata": {
        "id": "cQiZhT87kpV8",
        "colab_type": "code",
        "outputId": "2a3c9485-36e7-4645-8b09-e78058f73a6b",
        "colab": {
          "base_uri": "https://localhost:8080/",
          "height": 35
        }
      },
      "source": [
        "z = x - y\n",
        "z.get()"
      ],
      "execution_count": 0,
      "outputs": [
        {
          "output_type": "execute_result",
          "data": {
            "text/plain": [
              "tensor([20])"
            ]
          },
          "metadata": {
            "tags": []
          },
          "execution_count": 110
        }
      ]
    },
    {
      "cell_type": "code",
      "metadata": {
        "id": "zgdXG4BLkuAH",
        "colab_type": "code",
        "colab": {}
      },
      "source": [
        "crypto_provider = sy.VirtualWorker(hook, id=\"crypto_provider\")"
      ],
      "execution_count": 0,
      "outputs": []
    },
    {
      "cell_type": "code",
      "metadata": {
        "id": "yRAbysa8kwmL",
        "colab_type": "code",
        "colab": {}
      },
      "source": [
        "x = torch.tensor([25]).share(bob,alice, crypto_provider=crypto_provider)\n",
        "y = torch.tensor([5]).share(bob,alice, crypto_provider=crypto_provider)"
      ],
      "execution_count": 0,
      "outputs": []
    },
    {
      "cell_type": "code",
      "metadata": {
        "id": "BKOrZU91k0Hv",
        "colab_type": "code",
        "outputId": "fe4abd7a-f8d3-4fb3-9908-00a76a3bc1d6",
        "colab": {
          "base_uri": "https://localhost:8080/",
          "height": 35
        }
      },
      "source": [
        "# multiplication\n",
        "\n",
        "z = x * y\n",
        "z.get()"
      ],
      "execution_count": 0,
      "outputs": [
        {
          "output_type": "execute_result",
          "data": {
            "text/plain": [
              "tensor([125])"
            ]
          },
          "metadata": {
            "tags": []
          },
          "execution_count": 113
        }
      ]
    },
    {
      "cell_type": "code",
      "metadata": {
        "id": "0aRAMbHpk3Z8",
        "colab_type": "code",
        "colab": {}
      },
      "source": [
        "x = torch.tensor([[1, 2],[3,4]]).share(bob,alice, crypto_provider=crypto_provider)\n",
        "y = torch.tensor([[2, 0],[0,2]]).share(bob,alice, crypto_provider=crypto_provider)"
      ],
      "execution_count": 0,
      "outputs": []
    },
    {
      "cell_type": "code",
      "metadata": {
        "id": "K8_JfR6Pk45n",
        "colab_type": "code",
        "outputId": "0c33a58e-5d5b-49e1-d3bb-4aa43dbd5cd4",
        "colab": {
          "base_uri": "https://localhost:8080/",
          "height": 53
        }
      },
      "source": [
        "# matrix multiplication\n",
        "\n",
        "z = x.mm(y)\n",
        "z.get()"
      ],
      "execution_count": 0,
      "outputs": [
        {
          "output_type": "execute_result",
          "data": {
            "text/plain": [
              "tensor([[2, 4],\n",
              "        [6, 8]])"
            ]
          },
          "metadata": {
            "tags": []
          },
          "execution_count": 115
        }
      ]
    },
    {
      "cell_type": "code",
      "metadata": {
        "id": "7oZtrmJtk_4N",
        "colab_type": "code",
        "colab": {}
      },
      "source": [
        "x = torch.tensor([25]).share(bob,alice, crypto_provider=crypto_provider)\n",
        "y = torch.tensor([5]).share(bob,alice, crypto_provider=crypto_provider)"
      ],
      "execution_count": 0,
      "outputs": []
    },
    {
      "cell_type": "code",
      "metadata": {
        "id": "gDwWx-V9lArH",
        "colab_type": "code",
        "outputId": "d2fc2699-82ef-4dc8-edc4-e996581a7c1f",
        "colab": {
          "base_uri": "https://localhost:8080/",
          "height": 35
        }
      },
      "source": [
        "z = x > y\n",
        "z.get()"
      ],
      "execution_count": 0,
      "outputs": [
        {
          "output_type": "execute_result",
          "data": {
            "text/plain": [
              "tensor([1])"
            ]
          },
          "metadata": {
            "tags": []
          },
          "execution_count": 117
        }
      ]
    },
    {
      "cell_type": "code",
      "metadata": {
        "id": "Tlrvmr4TlCPb",
        "colab_type": "code",
        "outputId": "4da9a91e-3339-46a5-8c93-fd53c8f76580",
        "colab": {
          "base_uri": "https://localhost:8080/",
          "height": 35
        }
      },
      "source": [
        "z = x <= y\n",
        "z.get()"
      ],
      "execution_count": 0,
      "outputs": [
        {
          "output_type": "execute_result",
          "data": {
            "text/plain": [
              "tensor([0])"
            ]
          },
          "metadata": {
            "tags": []
          },
          "execution_count": 118
        }
      ]
    },
    {
      "cell_type": "code",
      "metadata": {
        "id": "dy-WMnuvlE0m",
        "colab_type": "code",
        "outputId": "7fb8d85d-c2dd-4cde-d051-0caf836eeb8c",
        "colab": {
          "base_uri": "https://localhost:8080/",
          "height": 35
        }
      },
      "source": [
        "z = x == y\n",
        "z.get()"
      ],
      "execution_count": 0,
      "outputs": [
        {
          "output_type": "execute_result",
          "data": {
            "text/plain": [
              "tensor([0])"
            ]
          },
          "metadata": {
            "tags": []
          },
          "execution_count": 119
        }
      ]
    },
    {
      "cell_type": "code",
      "metadata": {
        "id": "H-oa-DQ1lGFO",
        "colab_type": "code",
        "outputId": "1f49d5e0-35eb-4099-99ac-25f6b39e017c",
        "colab": {
          "base_uri": "https://localhost:8080/",
          "height": 35
        }
      },
      "source": [
        "z = x == y + 20\n",
        "z.get()"
      ],
      "execution_count": 0,
      "outputs": [
        {
          "output_type": "execute_result",
          "data": {
            "text/plain": [
              "tensor([1])"
            ]
          },
          "metadata": {
            "tags": []
          },
          "execution_count": 120
        }
      ]
    },
    {
      "cell_type": "code",
      "metadata": {
        "id": "MvWRxxRZlHzn",
        "colab_type": "code",
        "outputId": "403210c0-5800-4339-e866-bf3da8a843f6",
        "colab": {
          "base_uri": "https://localhost:8080/",
          "height": 35
        }
      },
      "source": [
        "x = torch.tensor([2, 3, 4, 1]).share(bob,alice, crypto_provider=crypto_provider)\n",
        "x.max().get()"
      ],
      "execution_count": 0,
      "outputs": [
        {
          "output_type": "execute_result",
          "data": {
            "text/plain": [
              "tensor([4])"
            ]
          },
          "metadata": {
            "tags": []
          },
          "execution_count": 121
        }
      ]
    },
    {
      "cell_type": "code",
      "metadata": {
        "id": "K2GhADGGlJDr",
        "colab_type": "code",
        "outputId": "d15bd8f5-d12b-444b-dbcf-f03205b141a1",
        "colab": {
          "base_uri": "https://localhost:8080/",
          "height": 35
        }
      },
      "source": [
        "x = torch.tensor([[2, 3], [4, 1]]).share(bob,alice, crypto_provider=crypto_provider)\n",
        "max_values, max_ids = x.max(dim=0)\n",
        "max_values.get()"
      ],
      "execution_count": 0,
      "outputs": [
        {
          "output_type": "execute_result",
          "data": {
            "text/plain": [
              "tensor([4, 3])"
            ]
          },
          "metadata": {
            "tags": []
          },
          "execution_count": 122
        }
      ]
    },
    {
      "cell_type": "code",
      "metadata": {
        "id": "V0yO5zfDlbfy",
        "colab_type": "code",
        "colab": {}
      },
      "source": [
        "%reset -f"
      ],
      "execution_count": 0,
      "outputs": []
    },
    {
      "cell_type": "markdown",
      "metadata": {
        "id": "i-sBRk15LkOX",
        "colab_type": "text"
      },
      "source": [
        "# Examples"
      ]
    },
    {
      "cell_type": "markdown",
      "metadata": {
        "id": "QoqFH4pawsxs",
        "colab_type": "text"
      },
      "source": [
        "## Encrypted NN on Encrypted Data"
      ]
    },
    {
      "cell_type": "code",
      "metadata": {
        "id": "Wmy13ZXytjtz",
        "colab_type": "code",
        "colab": {}
      },
      "source": [
        "import torch\n",
        "import torch.nn as nn\n",
        "import torch.nn.functional as F\n",
        "import torch.optim as optim\n",
        "import syft as sy"
      ],
      "execution_count": 0,
      "outputs": []
    },
    {
      "cell_type": "code",
      "metadata": {
        "id": "bTZhHNwXtlJg",
        "colab_type": "code",
        "outputId": "1a38f9a1-1b9e-450c-abf4-e4e697d5b38c",
        "colab": {
          "base_uri": "https://localhost:8080/",
          "height": 35
        }
      },
      "source": [
        "# Set everything up\n",
        "hook = sy.TorchHook(torch) \n",
        "\n",
        "alice = sy.VirtualWorker(id=\"alice\", hook=hook)\n",
        "bob = sy.VirtualWorker(id=\"bob\", hook=hook)\n",
        "james = sy.VirtualWorker(id=\"james\", hook=hook)"
      ],
      "execution_count": 0,
      "outputs": [
        {
          "output_type": "stream",
          "text": [
            "WARNING:root:Torch was already hooked... skipping hooking process\n"
          ],
          "name": "stderr"
        }
      ]
    },
    {
      "cell_type": "code",
      "metadata": {
        "id": "SqjIInbGtpog",
        "colab_type": "code",
        "colab": {}
      },
      "source": [
        "# A Toy Dataset\n",
        "data = torch.tensor([[0,0],[0,1],[1,0],[1,1.]])\n",
        "target = torch.tensor([[0],[0],[1],[1.]])\n",
        "\n",
        "# A Toy Model\n",
        "class Net(nn.Module):\n",
        "    def __init__(self):\n",
        "        super(Net, self).__init__()\n",
        "        self.fc1 = nn.Linear(2, 2)\n",
        "        self.fc2 = nn.Linear(2, 1)\n",
        "\n",
        "    def forward(self, x):\n",
        "        x = self.fc1(x)\n",
        "        x = F.relu(x)\n",
        "        x = self.fc2(x)\n",
        "        return x\n",
        "model = Net()"
      ],
      "execution_count": 0,
      "outputs": []
    },
    {
      "cell_type": "code",
      "metadata": {
        "id": "9An3tqALtr6z",
        "colab_type": "code",
        "colab": {}
      },
      "source": [
        "# We encode everything\n",
        "data = data.fix_precision().share(bob, alice, crypto_provider=james, requires_grad=True)\n",
        "target = target.fix_precision().share(bob, alice, crypto_provider=james, requires_grad=True)\n",
        "model = model.fix_precision().share(bob, alice, crypto_provider=james, requires_grad=True)"
      ],
      "execution_count": 0,
      "outputs": []
    },
    {
      "cell_type": "code",
      "metadata": {
        "id": "hA5mi96xttVw",
        "colab_type": "code",
        "outputId": "225acb54-0440-4bf6-b1f4-ea0b2d9325ea",
        "colab": {
          "base_uri": "https://localhost:8080/",
          "height": 88
        }
      },
      "source": [
        "print(data)"
      ],
      "execution_count": 0,
      "outputs": [
        {
          "output_type": "stream",
          "text": [
            "(Wrapper)>AutogradTensor>FixedPrecisionTensor>[AdditiveSharingTensor]\n",
            "\t-> [PointerTensor | me:94460833089 -> bob:44520530275]\n",
            "\t-> [PointerTensor | me:82868518778 -> alice:16024253777]\n",
            "\t*crypto provider: james*\n"
          ],
          "name": "stdout"
        }
      ]
    },
    {
      "cell_type": "code",
      "metadata": {
        "id": "EyTTS3l3tvnY",
        "colab_type": "code",
        "outputId": "f4427f74-278a-41c0-ea11-e326c04aac98",
        "colab": {
          "base_uri": "https://localhost:8080/",
          "height": 372
        }
      },
      "source": [
        "opt = optim.SGD(params=model.parameters(),lr=0.1).fix_precision()\n",
        "\n",
        "for iter in range(20):\n",
        "    # 1) erase previous gradients (if they exist)\n",
        "    opt.zero_grad()\n",
        "\n",
        "    # 2) make a prediction\n",
        "    pred = model(data)\n",
        "\n",
        "    # 3) calculate how much we missed\n",
        "    loss = ((pred - target)**2).sum()\n",
        "\n",
        "    # 4) figure out which weights caused us to miss\n",
        "    loss.backward()\n",
        "\n",
        "    # 5) change those weights\n",
        "    opt.step()\n",
        "\n",
        "    # 6) print our progress\n",
        "    print(loss.get().float_precision())"
      ],
      "execution_count": 0,
      "outputs": [
        {
          "output_type": "stream",
          "text": [
            "tensor(1.3200)\n",
            "tensor(1.1790)\n",
            "tensor(1.1370)\n",
            "tensor(1.1040)\n",
            "tensor(1.0800)\n",
            "tensor(1.0590)\n",
            "tensor(1.0420)\n",
            "tensor(1.0300)\n",
            "tensor(1.0190)\n",
            "tensor(1.0100)\n",
            "tensor(1.0010)\n",
            "tensor(0.9970)\n",
            "tensor(0.9880)\n",
            "tensor(0.9820)\n",
            "tensor(0.9770)\n",
            "tensor(0.9700)\n",
            "tensor(0.9630)\n",
            "tensor(0.9580)\n",
            "tensor(0.9540)\n",
            "tensor(0.9440)\n"
          ],
          "name": "stdout"
        }
      ]
    },
    {
      "cell_type": "code",
      "metadata": {
        "id": "rP5VZX25wjvU",
        "colab_type": "code",
        "colab": {}
      },
      "source": [
        "%reset -f"
      ],
      "execution_count": 0,
      "outputs": []
    },
    {
      "cell_type": "markdown",
      "metadata": {
        "id": "I84JKSqMwnpE",
        "colab_type": "text"
      },
      "source": [
        "## Secure Deep Learning"
      ]
    },
    {
      "cell_type": "code",
      "metadata": {
        "id": "O7Rk369_ldd4",
        "colab_type": "code",
        "outputId": "b28a592b-57d0-423b-f238-deeaec11dde9",
        "colab": {
          "base_uri": "https://localhost:8080/",
          "height": 35
        }
      },
      "source": [
        "# Maybe we need to restart the runtime here\n",
        "epochs = 10\n",
        "n_test_batches = 200\n",
        "import torch\n",
        "import torch.nn as nn\n",
        "import torch.nn.functional as F\n",
        "import torch.optim as optim\n",
        "%tensorflow_version 1.x\n",
        "import tensorflow\n",
        "from torchvision import datasets, transforms"
      ],
      "execution_count": 0,
      "outputs": [
        {
          "output_type": "stream",
          "text": [
            "TensorFlow 1.x selected.\n"
          ],
          "name": "stdout"
        }
      ]
    },
    {
      "cell_type": "code",
      "metadata": {
        "id": "hLKwjDM-lgFz",
        "colab_type": "code",
        "outputId": "dbb97f44-1a8c-436a-f49d-8fd8096c7d96",
        "colab": {
          "base_uri": "https://localhost:8080/",
          "height": 90
        }
      },
      "source": [
        "import syft as sy\n",
        "hook = sy.TorchHook(torch) \n",
        "client = sy.VirtualWorker(hook, id=\"client\")\n",
        "bob = sy.VirtualWorker(hook, id=\"bob\")\n",
        "alice = sy.VirtualWorker(hook, id=\"alice\")\n",
        "crypto_provider = sy.VirtualWorker(hook, id=\"crypto_provider\")"
      ],
      "execution_count": 0,
      "outputs": [
        {
          "output_type": "stream",
          "text": [
            "Falling back to insecure randomness since the required custom op could not be found for the installed version of TensorFlow. Fix this by compiling custom ops. Missing file was '/usr/local/lib/python3.6/dist-packages/tf_encrypted/operations/secure_random/secure_random_module_tf_1.15.2.so'\n"
          ],
          "name": "stderr"
        },
        {
          "output_type": "stream",
          "text": [
            "WARNING:tensorflow:From /usr/local/lib/python3.6/dist-packages/tf_encrypted/session.py:24: The name tf.Session is deprecated. Please use tf.compat.v1.Session instead.\n",
            "\n"
          ],
          "name": "stdout"
        }
      ]
    },
    {
      "cell_type": "code",
      "metadata": {
        "id": "5S8fM6drm-IL",
        "colab_type": "code",
        "colab": {}
      },
      "source": [
        "class Arguments():\n",
        "    def __init__(self):\n",
        "        self.batch_size = 64\n",
        "        self.test_batch_size = 50\n",
        "        self.epochs = epochs\n",
        "        self.lr = 0.001\n",
        "        self.log_interval = 100\n",
        "\n",
        "args = Arguments()"
      ],
      "execution_count": 0,
      "outputs": []
    },
    {
      "cell_type": "code",
      "metadata": {
        "id": "iOlFLCNBm_qf",
        "colab_type": "code",
        "outputId": "f23fff19-e3e3-4d1f-f92c-af6be2d7bbb1",
        "colab": {
          "base_uri": "https://localhost:8080/",
          "height": 343,
          "referenced_widgets": [
            "27f754d0c1a9403792626bd039c13a6c",
            "b2114f7c26c94b9dbfe6ccd380cb0981",
            "3022e642ce444717805d247cdea0c901",
            "7debf51c740248d89a00b52b88bc9f8a",
            "7dd9b68b244348da8561f176d9c1a51a",
            "fb05b690c6d6492fbd6cb41ac498d2e7",
            "f36be0bfbae54e469bbe66a907805e31",
            "ba4bef8b903c40bbab6bd84c81fb9d71",
            "bd0a456e17944b03bf2267e093efba3c",
            "efe47e4fd0094ad59caf3c280d37ef44",
            "5753c6d6caf9427eb376b84fe552a1d9",
            "1dbda457de094d65b2c4aba74bbc986c",
            "600e3dc9f9584963b69b8f91963333e3",
            "760e0211853741d4af52149d190b67e0",
            "5ae88bc759024f18b77114d917c6e537",
            "293a11238b0349499568b6459f4710d7",
            "39784bf95f9b44a9820518656a40a33a",
            "5bb46322bc57431980483b424be41ff4",
            "ff98ac5b6bee4c17824f24ec8a7362e7",
            "a18a14522bd046b681ef87cedc373752",
            "fb8358bc2adc4a25883bd8d778a9278c",
            "0690af37ee5d47709de16447599204ce",
            "4e32fbd9283c43b9b4f172e96ee02d70",
            "a4865c307dc44f9fbb4e47e6d199a7db",
            "30302415a5db4215800e16b89b55474e",
            "12f065a7e63c4de2ba9c65e2e759b450",
            "1e4e841b83bd40dc992ef383338569b1",
            "764be18435b2412e80a5cd4dde2f50b2",
            "51b49806ccc044b5b9c91eebc40f426e",
            "4a478bf3673e455099cd1df10f33f6b7",
            "dd4cb90fcf5143cea605fc8a07cb9054",
            "a3a4989b4f6b4c20828f9eac360c7d1a"
          ]
        }
      },
      "source": [
        "train_loader = torch.utils.data.DataLoader(\n",
        "    datasets.MNIST('../data', train=True, download=True,\n",
        "                   transform=transforms.Compose([\n",
        "                       transforms.ToTensor(),\n",
        "                       transforms.Normalize((0.1307,), (0.3081,))\n",
        "                   ])),\n",
        "    batch_size=args.batch_size, shuffle=True)"
      ],
      "execution_count": 0,
      "outputs": [
        {
          "output_type": "stream",
          "text": [
            "Downloading http://yann.lecun.com/exdb/mnist/train-images-idx3-ubyte.gz to ../data/MNIST/raw/train-images-idx3-ubyte.gz\n"
          ],
          "name": "stdout"
        },
        {
          "output_type": "display_data",
          "data": {
            "application/vnd.jupyter.widget-view+json": {
              "model_id": "27f754d0c1a9403792626bd039c13a6c",
              "version_minor": 0,
              "version_major": 2
            },
            "text/plain": [
              "HBox(children=(IntProgress(value=1, bar_style='info', max=1), HTML(value='')))"
            ]
          },
          "metadata": {
            "tags": []
          }
        },
        {
          "output_type": "stream",
          "text": [
            "Extracting ../data/MNIST/raw/train-images-idx3-ubyte.gz to ../data/MNIST/raw\n",
            "Downloading http://yann.lecun.com/exdb/mnist/train-labels-idx1-ubyte.gz to ../data/MNIST/raw/train-labels-idx1-ubyte.gz\n"
          ],
          "name": "stdout"
        },
        {
          "output_type": "display_data",
          "data": {
            "application/vnd.jupyter.widget-view+json": {
              "model_id": "bd0a456e17944b03bf2267e093efba3c",
              "version_minor": 0,
              "version_major": 2
            },
            "text/plain": [
              "HBox(children=(IntProgress(value=1, bar_style='info', max=1), HTML(value='')))"
            ]
          },
          "metadata": {
            "tags": []
          }
        },
        {
          "output_type": "stream",
          "text": [
            "Extracting ../data/MNIST/raw/train-labels-idx1-ubyte.gz to ../data/MNIST/raw\n",
            "Downloading http://yann.lecun.com/exdb/mnist/t10k-images-idx3-ubyte.gz to ../data/MNIST/raw/t10k-images-idx3-ubyte.gz\n"
          ],
          "name": "stdout"
        },
        {
          "output_type": "display_data",
          "data": {
            "application/vnd.jupyter.widget-view+json": {
              "model_id": "39784bf95f9b44a9820518656a40a33a",
              "version_minor": 0,
              "version_major": 2
            },
            "text/plain": [
              "HBox(children=(IntProgress(value=1, bar_style='info', max=1), HTML(value='')))"
            ]
          },
          "metadata": {
            "tags": []
          }
        },
        {
          "output_type": "stream",
          "text": [
            "Extracting ../data/MNIST/raw/t10k-images-idx3-ubyte.gz to ../data/MNIST/raw\n",
            "Downloading http://yann.lecun.com/exdb/mnist/t10k-labels-idx1-ubyte.gz to ../data/MNIST/raw/t10k-labels-idx1-ubyte.gz\n"
          ],
          "name": "stdout"
        },
        {
          "output_type": "display_data",
          "data": {
            "application/vnd.jupyter.widget-view+json": {
              "model_id": "30302415a5db4215800e16b89b55474e",
              "version_minor": 0,
              "version_major": 2
            },
            "text/plain": [
              "HBox(children=(IntProgress(value=1, bar_style='info', max=1), HTML(value='')))"
            ]
          },
          "metadata": {
            "tags": []
          }
        },
        {
          "output_type": "stream",
          "text": [
            "Extracting ../data/MNIST/raw/t10k-labels-idx1-ubyte.gz to ../data/MNIST/raw\n",
            "Processing...\n",
            "Done!\n"
          ],
          "name": "stdout"
        }
      ]
    },
    {
      "cell_type": "code",
      "metadata": {
        "id": "nYUqFZkUnCKk",
        "colab_type": "code",
        "colab": {}
      },
      "source": [
        "test_loader = torch.utils.data.DataLoader(\n",
        "    datasets.MNIST('../data', train=False,\n",
        "                   transform=transforms.Compose([\n",
        "                       transforms.ToTensor(),\n",
        "                       transforms.Normalize((0.1307,), (0.3081,))\n",
        "                   ])),\n",
        "    batch_size=args.test_batch_size, shuffle=True)\n",
        "\n",
        "private_test_loader = []\n",
        "for data, target in test_loader:\n",
        "    private_test_loader.append((\n",
        "        data.fix_precision().share(alice, bob, crypto_provider=crypto_provider),\n",
        "        target.fix_precision().share(alice, bob, crypto_provider=crypto_provider)\n",
        "    ))"
      ],
      "execution_count": 0,
      "outputs": []
    },
    {
      "cell_type": "code",
      "metadata": {
        "id": "oJ7VCvRonEp1",
        "colab_type": "code",
        "colab": {}
      },
      "source": [
        "class Net(nn.Module):\n",
        "    def __init__(self):\n",
        "        super(Net, self).__init__()\n",
        "        self.fc1 = nn.Linear(784, 500)\n",
        "        self.fc2 = nn.Linear(500, 10)\n",
        "\n",
        "    def forward(self, x):\n",
        "        x = x.view(-1, 784)\n",
        "        x = self.fc1(x)\n",
        "        x = F.relu(x)\n",
        "        x = self.fc2(x)\n",
        "        return x"
      ],
      "execution_count": 0,
      "outputs": []
    },
    {
      "cell_type": "code",
      "metadata": {
        "id": "ElTdbgMYnGqm",
        "colab_type": "code",
        "colab": {}
      },
      "source": [
        "def train(args, model, train_loader, optimizer, epoch):\n",
        "    model.train()\n",
        "    for batch_idx, (data, target) in enumerate(train_loader):\n",
        "        optimizer.zero_grad()\n",
        "        output = model(data)\n",
        "        output = F.log_softmax(output, dim=1)\n",
        "        loss = F.nll_loss(output, target)\n",
        "        loss.backward()\n",
        "        optimizer.step()\n",
        "        if batch_idx % args.log_interval == 0:\n",
        "            print('Train Epoch: {} [{}/{} ({:.0f}%)]\\tLoss: {:.6f}'.format(\n",
        "                epoch, batch_idx * args.batch_size, len(train_loader) * args.batch_size,\n",
        "                100. * batch_idx / len(train_loader), loss.item()))"
      ],
      "execution_count": 0,
      "outputs": []
    },
    {
      "cell_type": "code",
      "metadata": {
        "id": "TUdZveTrnI1z",
        "colab_type": "code",
        "outputId": "6d9349d1-0de8-4760-a479-932f6bdd4f47",
        "colab": {
          "base_uri": "https://localhost:8080/",
          "height": 1000
        }
      },
      "source": [
        "model = Net()\n",
        "optimizer = torch.optim.Adam(model.parameters(), lr=args.lr)\n",
        "\n",
        "for epoch in range(1, args.epochs + 1):\n",
        "    train(args, model, train_loader, optimizer, epoch)"
      ],
      "execution_count": 0,
      "outputs": [
        {
          "output_type": "stream",
          "text": [
            "Train Epoch: 1 [0/60032 (0%)]\tLoss: 2.289751\n",
            "Train Epoch: 1 [6400/60032 (11%)]\tLoss: 0.292684\n",
            "Train Epoch: 1 [12800/60032 (21%)]\tLoss: 0.218543\n",
            "Train Epoch: 1 [19200/60032 (32%)]\tLoss: 0.171335\n",
            "Train Epoch: 1 [25600/60032 (43%)]\tLoss: 0.162887\n",
            "Train Epoch: 1 [32000/60032 (53%)]\tLoss: 0.057719\n",
            "Train Epoch: 1 [38400/60032 (64%)]\tLoss: 0.112598\n",
            "Train Epoch: 1 [44800/60032 (75%)]\tLoss: 0.123485\n",
            "Train Epoch: 1 [51200/60032 (85%)]\tLoss: 0.100780\n",
            "Train Epoch: 1 [57600/60032 (96%)]\tLoss: 0.091225\n",
            "Train Epoch: 2 [0/60032 (0%)]\tLoss: 0.010778\n",
            "Train Epoch: 2 [6400/60032 (11%)]\tLoss: 0.231165\n",
            "Train Epoch: 2 [12800/60032 (21%)]\tLoss: 0.020719\n",
            "Train Epoch: 2 [19200/60032 (32%)]\tLoss: 0.093004\n",
            "Train Epoch: 2 [25600/60032 (43%)]\tLoss: 0.074038\n",
            "Train Epoch: 2 [32000/60032 (53%)]\tLoss: 0.027573\n",
            "Train Epoch: 2 [38400/60032 (64%)]\tLoss: 0.103252\n",
            "Train Epoch: 2 [44800/60032 (75%)]\tLoss: 0.160862\n",
            "Train Epoch: 2 [51200/60032 (85%)]\tLoss: 0.135319\n",
            "Train Epoch: 2 [57600/60032 (96%)]\tLoss: 0.207912\n",
            "Train Epoch: 3 [0/60032 (0%)]\tLoss: 0.039228\n",
            "Train Epoch: 3 [6400/60032 (11%)]\tLoss: 0.022575\n",
            "Train Epoch: 3 [12800/60032 (21%)]\tLoss: 0.051683\n",
            "Train Epoch: 3 [19200/60032 (32%)]\tLoss: 0.026294\n",
            "Train Epoch: 3 [25600/60032 (43%)]\tLoss: 0.007125\n",
            "Train Epoch: 3 [32000/60032 (53%)]\tLoss: 0.074664\n",
            "Train Epoch: 3 [38400/60032 (64%)]\tLoss: 0.135523\n",
            "Train Epoch: 3 [44800/60032 (75%)]\tLoss: 0.069549\n",
            "Train Epoch: 3 [51200/60032 (85%)]\tLoss: 0.062935\n",
            "Train Epoch: 3 [57600/60032 (96%)]\tLoss: 0.040441\n",
            "Train Epoch: 4 [0/60032 (0%)]\tLoss: 0.067498\n",
            "Train Epoch: 4 [6400/60032 (11%)]\tLoss: 0.008465\n",
            "Train Epoch: 4 [12800/60032 (21%)]\tLoss: 0.018526\n",
            "Train Epoch: 4 [19200/60032 (32%)]\tLoss: 0.009880\n",
            "Train Epoch: 4 [25600/60032 (43%)]\tLoss: 0.005185\n",
            "Train Epoch: 4 [32000/60032 (53%)]\tLoss: 0.044300\n",
            "Train Epoch: 4 [38400/60032 (64%)]\tLoss: 0.065911\n",
            "Train Epoch: 4 [44800/60032 (75%)]\tLoss: 0.006550\n",
            "Train Epoch: 4 [51200/60032 (85%)]\tLoss: 0.047796\n",
            "Train Epoch: 4 [57600/60032 (96%)]\tLoss: 0.016934\n",
            "Train Epoch: 5 [0/60032 (0%)]\tLoss: 0.008494\n",
            "Train Epoch: 5 [6400/60032 (11%)]\tLoss: 0.026024\n",
            "Train Epoch: 5 [12800/60032 (21%)]\tLoss: 0.029134\n",
            "Train Epoch: 5 [19200/60032 (32%)]\tLoss: 0.017241\n",
            "Train Epoch: 5 [25600/60032 (43%)]\tLoss: 0.024696\n",
            "Train Epoch: 5 [32000/60032 (53%)]\tLoss: 0.057342\n",
            "Train Epoch: 5 [38400/60032 (64%)]\tLoss: 0.069751\n",
            "Train Epoch: 5 [44800/60032 (75%)]\tLoss: 0.034113\n",
            "Train Epoch: 5 [51200/60032 (85%)]\tLoss: 0.058985\n",
            "Train Epoch: 5 [57600/60032 (96%)]\tLoss: 0.008762\n",
            "Train Epoch: 6 [0/60032 (0%)]\tLoss: 0.088434\n",
            "Train Epoch: 6 [6400/60032 (11%)]\tLoss: 0.001585\n",
            "Train Epoch: 6 [12800/60032 (21%)]\tLoss: 0.005597\n",
            "Train Epoch: 6 [19200/60032 (32%)]\tLoss: 0.024463\n",
            "Train Epoch: 6 [25600/60032 (43%)]\tLoss: 0.029976\n",
            "Train Epoch: 6 [32000/60032 (53%)]\tLoss: 0.005010\n",
            "Train Epoch: 6 [38400/60032 (64%)]\tLoss: 0.022458\n",
            "Train Epoch: 6 [44800/60032 (75%)]\tLoss: 0.033398\n",
            "Train Epoch: 6 [51200/60032 (85%)]\tLoss: 0.018046\n",
            "Train Epoch: 6 [57600/60032 (96%)]\tLoss: 0.009322\n",
            "Train Epoch: 7 [0/60032 (0%)]\tLoss: 0.011133\n",
            "Train Epoch: 7 [6400/60032 (11%)]\tLoss: 0.000674\n",
            "Train Epoch: 7 [12800/60032 (21%)]\tLoss: 0.002439\n",
            "Train Epoch: 7 [19200/60032 (32%)]\tLoss: 0.012397\n",
            "Train Epoch: 7 [25600/60032 (43%)]\tLoss: 0.035449\n",
            "Train Epoch: 7 [32000/60032 (53%)]\tLoss: 0.002095\n",
            "Train Epoch: 7 [38400/60032 (64%)]\tLoss: 0.003759\n",
            "Train Epoch: 7 [44800/60032 (75%)]\tLoss: 0.006998\n",
            "Train Epoch: 7 [51200/60032 (85%)]\tLoss: 0.021066\n",
            "Train Epoch: 7 [57600/60032 (96%)]\tLoss: 0.008723\n",
            "Train Epoch: 8 [0/60032 (0%)]\tLoss: 0.002879\n",
            "Train Epoch: 8 [6400/60032 (11%)]\tLoss: 0.009136\n",
            "Train Epoch: 8 [12800/60032 (21%)]\tLoss: 0.003678\n",
            "Train Epoch: 8 [19200/60032 (32%)]\tLoss: 0.007788\n",
            "Train Epoch: 8 [25600/60032 (43%)]\tLoss: 0.063351\n",
            "Train Epoch: 8 [32000/60032 (53%)]\tLoss: 0.016674\n",
            "Train Epoch: 8 [38400/60032 (64%)]\tLoss: 0.023116\n",
            "Train Epoch: 8 [44800/60032 (75%)]\tLoss: 0.027880\n",
            "Train Epoch: 8 [51200/60032 (85%)]\tLoss: 0.001321\n",
            "Train Epoch: 8 [57600/60032 (96%)]\tLoss: 0.016292\n",
            "Train Epoch: 9 [0/60032 (0%)]\tLoss: 0.004766\n",
            "Train Epoch: 9 [6400/60032 (11%)]\tLoss: 0.013842\n",
            "Train Epoch: 9 [12800/60032 (21%)]\tLoss: 0.063487\n",
            "Train Epoch: 9 [19200/60032 (32%)]\tLoss: 0.000566\n",
            "Train Epoch: 9 [25600/60032 (43%)]\tLoss: 0.030078\n",
            "Train Epoch: 9 [32000/60032 (53%)]\tLoss: 0.014819\n",
            "Train Epoch: 9 [38400/60032 (64%)]\tLoss: 0.005072\n",
            "Train Epoch: 9 [44800/60032 (75%)]\tLoss: 0.007877\n",
            "Train Epoch: 9 [51200/60032 (85%)]\tLoss: 0.000475\n",
            "Train Epoch: 9 [57600/60032 (96%)]\tLoss: 0.002567\n",
            "Train Epoch: 10 [0/60032 (0%)]\tLoss: 0.030132\n",
            "Train Epoch: 10 [6400/60032 (11%)]\tLoss: 0.053838\n",
            "Train Epoch: 10 [12800/60032 (21%)]\tLoss: 0.001576\n",
            "Train Epoch: 10 [19200/60032 (32%)]\tLoss: 0.004906\n",
            "Train Epoch: 10 [25600/60032 (43%)]\tLoss: 0.002140\n",
            "Train Epoch: 10 [32000/60032 (53%)]\tLoss: 0.000622\n",
            "Train Epoch: 10 [38400/60032 (64%)]\tLoss: 0.035319\n",
            "Train Epoch: 10 [44800/60032 (75%)]\tLoss: 0.000629\n",
            "Train Epoch: 10 [51200/60032 (85%)]\tLoss: 0.027131\n",
            "Train Epoch: 10 [57600/60032 (96%)]\tLoss: 0.053887\n"
          ],
          "name": "stdout"
        }
      ]
    },
    {
      "cell_type": "code",
      "metadata": {
        "id": "MALkf_lDnL3_",
        "colab_type": "code",
        "colab": {}
      },
      "source": [
        "def test(args, model, test_loader):\n",
        "    model.eval()\n",
        "    test_loss = 0\n",
        "    correct = 0\n",
        "    with torch.no_grad():\n",
        "        for data, target in test_loader:\n",
        "            output = model(data)\n",
        "            output = F.log_softmax(output, dim=1)\n",
        "            test_loss += F.nll_loss(output, target, reduction='sum').item() # sum up batch loss\n",
        "            pred = output.argmax(1, keepdim=True) # get the index of the max log-probability \n",
        "            correct += pred.eq(target.view_as(pred)).sum().item()\n",
        "\n",
        "    test_loss /= len(test_loader.dataset)\n",
        "\n",
        "    print('\\nTest set: Average loss: {:.4f}, Accuracy: {}/{} ({:.0f}%)\\n'.format(\n",
        "        test_loss, correct, len(test_loader.dataset),\n",
        "        100. * correct / len(test_loader.dataset)))"
      ],
      "execution_count": 0,
      "outputs": []
    },
    {
      "cell_type": "code",
      "metadata": {
        "id": "71YhFTYQnOLf",
        "colab_type": "code",
        "outputId": "0003b661-cc4b-4c57-e62a-7ec8a75d4e7e",
        "colab": {
          "base_uri": "https://localhost:8080/",
          "height": 70
        }
      },
      "source": [
        "test(args, model, test_loader)"
      ],
      "execution_count": 0,
      "outputs": [
        {
          "output_type": "stream",
          "text": [
            "\n",
            "Test set: Average loss: 0.0836, Accuracy: 9817/10000 (98%)\n",
            "\n"
          ],
          "name": "stdout"
        }
      ]
    },
    {
      "cell_type": "code",
      "metadata": {
        "id": "oKcml8HJnd5w",
        "colab_type": "code",
        "outputId": "0c833d28-b63e-4d6b-d42b-7c70875cc03c",
        "colab": {
          "base_uri": "https://localhost:8080/",
          "height": 88
        }
      },
      "source": [
        "model.fix_precision().share(alice, bob, crypto_provider=crypto_provider)"
      ],
      "execution_count": 0,
      "outputs": [
        {
          "output_type": "execute_result",
          "data": {
            "text/plain": [
              "Net(\n",
              "  (fc1): Linear(in_features=784, out_features=500, bias=True)\n",
              "  (fc2): Linear(in_features=500, out_features=10, bias=True)\n",
              ")"
            ]
          },
          "metadata": {
            "tags": []
          },
          "execution_count": 11
        }
      ]
    },
    {
      "cell_type": "code",
      "metadata": {
        "id": "eRpsPvcfnfes",
        "colab_type": "code",
        "colab": {}
      },
      "source": [
        "def test(args, model, test_loader):\n",
        "    model.eval()\n",
        "    n_correct_priv = 0\n",
        "    n_total = 0\n",
        "    with torch.no_grad():\n",
        "        for data, target in test_loader[:n_test_batches]:\n",
        "            output = model(data)\n",
        "            pred = output.argmax(dim=1) \n",
        "            n_correct_priv += pred.eq(target.view_as(pred)).sum()\n",
        "            n_total += args.test_batch_size\n",
        "# This 'test' function performs the encrypted evaluation. The model weights, the data inputs, the prediction and the target used for scoring are all encrypted!\n",
        "\n",
        "# However as you can observe, the syntax is very similar to normal PyTorch testing! Nice!\n",
        "\n",
        "# The only thing we decrypt from the server side is the final score at the end of our 200 items batches to verify predictions were on average good.      \n",
        "            n_correct = n_correct_priv.copy().get().float_precision().long().item()\n",
        "    \n",
        "            print('Test set: Accuracy: {}/{} ({:.0f}%)'.format(\n",
        "                n_correct, n_total,\n",
        "                100. * n_correct / n_total))"
      ],
      "execution_count": 0,
      "outputs": []
    },
    {
      "cell_type": "code",
      "metadata": {
        "id": "qMsXPbPFnhYY",
        "colab_type": "code",
        "outputId": "d8786852-05d1-4c13-b9c4-28a74fe3d00e",
        "colab": {
          "base_uri": "https://localhost:8080/",
          "height": 1000
        }
      },
      "source": [
        "test(args, model, private_test_loader)"
      ],
      "execution_count": 0,
      "outputs": [
        {
          "output_type": "stream",
          "text": [
            "Test set: Accuracy: 49/50 (98%)\n",
            "Test set: Accuracy: 99/100 (99%)\n",
            "Test set: Accuracy: 148/150 (99%)\n",
            "Test set: Accuracy: 198/200 (99%)\n",
            "Test set: Accuracy: 247/250 (99%)\n",
            "Test set: Accuracy: 297/300 (99%)\n",
            "Test set: Accuracy: 347/350 (99%)\n",
            "Test set: Accuracy: 397/400 (99%)\n",
            "Test set: Accuracy: 446/450 (99%)\n",
            "Test set: Accuracy: 496/500 (99%)\n",
            "Test set: Accuracy: 546/550 (99%)\n",
            "Test set: Accuracy: 592/600 (99%)\n",
            "Test set: Accuracy: 640/650 (98%)\n",
            "Test set: Accuracy: 690/700 (99%)\n",
            "Test set: Accuracy: 739/750 (99%)\n",
            "Test set: Accuracy: 789/800 (99%)\n",
            "Test set: Accuracy: 838/850 (99%)\n",
            "Test set: Accuracy: 886/900 (98%)\n",
            "Test set: Accuracy: 936/950 (99%)\n",
            "Test set: Accuracy: 984/1000 (98%)\n",
            "Test set: Accuracy: 1033/1050 (98%)\n",
            "Test set: Accuracy: 1081/1100 (98%)\n",
            "Test set: Accuracy: 1131/1150 (98%)\n",
            "Test set: Accuracy: 1180/1200 (98%)\n",
            "Test set: Accuracy: 1229/1250 (98%)\n",
            "Test set: Accuracy: 1279/1300 (98%)\n",
            "Test set: Accuracy: 1327/1350 (98%)\n",
            "Test set: Accuracy: 1376/1400 (98%)\n",
            "Test set: Accuracy: 1425/1450 (98%)\n",
            "Test set: Accuracy: 1474/1500 (98%)\n",
            "Test set: Accuracy: 1524/1550 (98%)\n",
            "Test set: Accuracy: 1573/1600 (98%)\n",
            "Test set: Accuracy: 1621/1650 (98%)\n",
            "Test set: Accuracy: 1671/1700 (98%)\n",
            "Test set: Accuracy: 1721/1750 (98%)\n",
            "Test set: Accuracy: 1769/1800 (98%)\n",
            "Test set: Accuracy: 1818/1850 (98%)\n",
            "Test set: Accuracy: 1868/1900 (98%)\n",
            "Test set: Accuracy: 1917/1950 (98%)\n",
            "Test set: Accuracy: 1966/2000 (98%)\n",
            "Test set: Accuracy: 2014/2050 (98%)\n",
            "Test set: Accuracy: 2063/2100 (98%)\n",
            "Test set: Accuracy: 2112/2150 (98%)\n",
            "Test set: Accuracy: 2162/2200 (98%)\n",
            "Test set: Accuracy: 2211/2250 (98%)\n",
            "Test set: Accuracy: 2261/2300 (98%)\n",
            "Test set: Accuracy: 2307/2350 (98%)\n",
            "Test set: Accuracy: 2355/2400 (98%)\n",
            "Test set: Accuracy: 2405/2450 (98%)\n",
            "Test set: Accuracy: 2455/2500 (98%)\n",
            "Test set: Accuracy: 2505/2550 (98%)\n",
            "Test set: Accuracy: 2554/2600 (98%)\n",
            "Test set: Accuracy: 2604/2650 (98%)\n",
            "Test set: Accuracy: 2651/2700 (98%)\n",
            "Test set: Accuracy: 2701/2750 (98%)\n",
            "Test set: Accuracy: 2751/2800 (98%)\n",
            "Test set: Accuracy: 2801/2850 (98%)\n",
            "Test set: Accuracy: 2850/2900 (98%)\n",
            "Test set: Accuracy: 2899/2950 (98%)\n",
            "Test set: Accuracy: 2949/3000 (98%)\n",
            "Test set: Accuracy: 2998/3050 (98%)\n",
            "Test set: Accuracy: 3046/3100 (98%)\n",
            "Test set: Accuracy: 3095/3150 (98%)\n",
            "Test set: Accuracy: 3142/3200 (98%)\n",
            "Test set: Accuracy: 3192/3250 (98%)\n",
            "Test set: Accuracy: 3240/3300 (98%)\n",
            "Test set: Accuracy: 3289/3350 (98%)\n",
            "Test set: Accuracy: 3337/3400 (98%)\n",
            "Test set: Accuracy: 3385/3450 (98%)\n",
            "Test set: Accuracy: 3435/3500 (98%)\n",
            "Test set: Accuracy: 3485/3550 (98%)\n",
            "Test set: Accuracy: 3535/3600 (98%)\n",
            "Test set: Accuracy: 3585/3650 (98%)\n",
            "Test set: Accuracy: 3633/3700 (98%)\n",
            "Test set: Accuracy: 3683/3750 (98%)\n",
            "Test set: Accuracy: 3731/3800 (98%)\n",
            "Test set: Accuracy: 3781/3850 (98%)\n",
            "Test set: Accuracy: 3829/3900 (98%)\n",
            "Test set: Accuracy: 3877/3950 (98%)\n",
            "Test set: Accuracy: 3926/4000 (98%)\n",
            "Test set: Accuracy: 3975/4050 (98%)\n",
            "Test set: Accuracy: 4024/4100 (98%)\n",
            "Test set: Accuracy: 4074/4150 (98%)\n",
            "Test set: Accuracy: 4124/4200 (98%)\n",
            "Test set: Accuracy: 4171/4250 (98%)\n",
            "Test set: Accuracy: 4221/4300 (98%)\n",
            "Test set: Accuracy: 4271/4350 (98%)\n",
            "Test set: Accuracy: 4320/4400 (98%)\n",
            "Test set: Accuracy: 4369/4450 (98%)\n",
            "Test set: Accuracy: 4419/4500 (98%)\n",
            "Test set: Accuracy: 4467/4550 (98%)\n",
            "Test set: Accuracy: 4516/4600 (98%)\n",
            "Test set: Accuracy: 4565/4650 (98%)\n",
            "Test set: Accuracy: 4614/4700 (98%)\n",
            "Test set: Accuracy: 4664/4750 (98%)\n",
            "Test set: Accuracy: 4714/4800 (98%)\n",
            "Test set: Accuracy: 4762/4850 (98%)\n",
            "Test set: Accuracy: 4810/4900 (98%)\n",
            "Test set: Accuracy: 4859/4950 (98%)\n",
            "Test set: Accuracy: 4909/5000 (98%)\n",
            "Test set: Accuracy: 4956/5050 (98%)\n",
            "Test set: Accuracy: 5006/5100 (98%)\n",
            "Test set: Accuracy: 5056/5150 (98%)\n",
            "Test set: Accuracy: 5103/5200 (98%)\n",
            "Test set: Accuracy: 5151/5250 (98%)\n",
            "Test set: Accuracy: 5200/5300 (98%)\n",
            "Test set: Accuracy: 5250/5350 (98%)\n",
            "Test set: Accuracy: 5299/5400 (98%)\n",
            "Test set: Accuracy: 5349/5450 (98%)\n",
            "Test set: Accuracy: 5398/5500 (98%)\n",
            "Test set: Accuracy: 5448/5550 (98%)\n",
            "Test set: Accuracy: 5498/5600 (98%)\n",
            "Test set: Accuracy: 5547/5650 (98%)\n",
            "Test set: Accuracy: 5597/5700 (98%)\n",
            "Test set: Accuracy: 5645/5750 (98%)\n",
            "Test set: Accuracy: 5694/5800 (98%)\n",
            "Test set: Accuracy: 5743/5850 (98%)\n",
            "Test set: Accuracy: 5793/5900 (98%)\n",
            "Test set: Accuracy: 5841/5950 (98%)\n",
            "Test set: Accuracy: 5889/6000 (98%)\n",
            "Test set: Accuracy: 5937/6050 (98%)\n",
            "Test set: Accuracy: 5985/6100 (98%)\n",
            "Test set: Accuracy: 6035/6150 (98%)\n",
            "Test set: Accuracy: 6085/6200 (98%)\n",
            "Test set: Accuracy: 6134/6250 (98%)\n",
            "Test set: Accuracy: 6184/6300 (98%)\n",
            "Test set: Accuracy: 6234/6350 (98%)\n",
            "Test set: Accuracy: 6283/6400 (98%)\n",
            "Test set: Accuracy: 6333/6450 (98%)\n",
            "Test set: Accuracy: 6382/6500 (98%)\n",
            "Test set: Accuracy: 6432/6550 (98%)\n",
            "Test set: Accuracy: 6481/6600 (98%)\n",
            "Test set: Accuracy: 6530/6650 (98%)\n",
            "Test set: Accuracy: 6580/6700 (98%)\n",
            "Test set: Accuracy: 6627/6750 (98%)\n",
            "Test set: Accuracy: 6677/6800 (98%)\n",
            "Test set: Accuracy: 6727/6850 (98%)\n",
            "Test set: Accuracy: 6776/6900 (98%)\n",
            "Test set: Accuracy: 6825/6950 (98%)\n",
            "Test set: Accuracy: 6875/7000 (98%)\n",
            "Test set: Accuracy: 6924/7050 (98%)\n",
            "Test set: Accuracy: 6973/7100 (98%)\n",
            "Test set: Accuracy: 7022/7150 (98%)\n",
            "Test set: Accuracy: 7071/7200 (98%)\n",
            "Test set: Accuracy: 7121/7250 (98%)\n",
            "Test set: Accuracy: 7171/7300 (98%)\n",
            "Test set: Accuracy: 7220/7350 (98%)\n",
            "Test set: Accuracy: 7270/7400 (98%)\n",
            "Test set: Accuracy: 7319/7450 (98%)\n",
            "Test set: Accuracy: 7368/7500 (98%)\n",
            "Test set: Accuracy: 7417/7550 (98%)\n",
            "Test set: Accuracy: 7466/7600 (98%)\n",
            "Test set: Accuracy: 7513/7650 (98%)\n",
            "Test set: Accuracy: 7563/7700 (98%)\n",
            "Test set: Accuracy: 7612/7750 (98%)\n",
            "Test set: Accuracy: 7661/7800 (98%)\n",
            "Test set: Accuracy: 7711/7850 (98%)\n",
            "Test set: Accuracy: 7761/7900 (98%)\n",
            "Test set: Accuracy: 7809/7950 (98%)\n",
            "Test set: Accuracy: 7859/8000 (98%)\n",
            "Test set: Accuracy: 7908/8050 (98%)\n",
            "Test set: Accuracy: 7957/8100 (98%)\n",
            "Test set: Accuracy: 8006/8150 (98%)\n",
            "Test set: Accuracy: 8056/8200 (98%)\n",
            "Test set: Accuracy: 8105/8250 (98%)\n",
            "Test set: Accuracy: 8155/8300 (98%)\n",
            "Test set: Accuracy: 8204/8350 (98%)\n",
            "Test set: Accuracy: 8254/8400 (98%)\n",
            "Test set: Accuracy: 8304/8450 (98%)\n",
            "Test set: Accuracy: 8354/8500 (98%)\n",
            "Test set: Accuracy: 8404/8550 (98%)\n",
            "Test set: Accuracy: 8452/8600 (98%)\n",
            "Test set: Accuracy: 8501/8650 (98%)\n",
            "Test set: Accuracy: 8550/8700 (98%)\n",
            "Test set: Accuracy: 8600/8750 (98%)\n",
            "Test set: Accuracy: 8650/8800 (98%)\n",
            "Test set: Accuracy: 8700/8850 (98%)\n",
            "Test set: Accuracy: 8749/8900 (98%)\n",
            "Test set: Accuracy: 8797/8950 (98%)\n",
            "Test set: Accuracy: 8846/9000 (98%)\n",
            "Test set: Accuracy: 8896/9050 (98%)\n",
            "Test set: Accuracy: 8946/9100 (98%)\n",
            "Test set: Accuracy: 8993/9150 (98%)\n",
            "Test set: Accuracy: 9043/9200 (98%)\n",
            "Test set: Accuracy: 9091/9250 (98%)\n",
            "Test set: Accuracy: 9140/9300 (98%)\n",
            "Test set: Accuracy: 9188/9350 (98%)\n",
            "Test set: Accuracy: 9236/9400 (98%)\n",
            "Test set: Accuracy: 9283/9450 (98%)\n",
            "Test set: Accuracy: 9333/9500 (98%)\n",
            "Test set: Accuracy: 9381/9550 (98%)\n",
            "Test set: Accuracy: 9427/9600 (98%)\n",
            "Test set: Accuracy: 9475/9650 (98%)\n",
            "Test set: Accuracy: 9523/9700 (98%)\n",
            "Test set: Accuracy: 9571/9750 (98%)\n",
            "Test set: Accuracy: 9621/9800 (98%)\n",
            "Test set: Accuracy: 9669/9850 (98%)\n",
            "Test set: Accuracy: 9718/9900 (98%)\n",
            "Test set: Accuracy: 9768/9950 (98%)\n",
            "Test set: Accuracy: 9817/10000 (98%)\n"
          ],
          "name": "stdout"
        }
      ]
    }
  ]
}