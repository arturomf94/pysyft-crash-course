{
  "nbformat": 4,
  "nbformat_minor": 0,
  "metadata": {
    "colab": {
      "name": "comprehensive_pysyft.ipynb",
      "provenance": [],
      "collapsed_sections": [],
      "authorship_tag": "ABX9TyOnnu91dcKvwtaMh/YHoeuL",
      "include_colab_link": true
    },
    "kernelspec": {
      "name": "python3",
      "display_name": "Python 3"
    }
  },
  "cells": [
    {
      "cell_type": "markdown",
      "metadata": {
        "id": "view-in-github",
        "colab_type": "text"
      },
      "source": [
        "<a href=\"https://colab.research.google.com/github/arturomf94/pysyft-crash-course/blob/master/notebooks/comprehensive_pysyft.ipynb\" target=\"_parent\"><img src=\"https://colab.research.google.com/assets/colab-badge.svg\" alt=\"Open In Colab\"/></a>"
      ]
    },
    {
      "cell_type": "markdown",
      "metadata": {
        "id": "aBKGxIbYpAPs",
        "colab_type": "text"
      },
      "source": [
        "# **Intro**\n",
        "\n",
        "![alt text](https://github.com/arturomf94/pysyft-crash-course/raw/master/docs/openmined.png)"
      ]
    },
    {
      "cell_type": "code",
      "metadata": {
        "id": "U3Z5_OjIzRpL",
        "colab_type": "code",
        "colab": {}
      },
      "source": [
        "!pip install 'syft[udacity]'"
      ],
      "execution_count": 0,
      "outputs": []
    },
    {
      "cell_type": "markdown",
      "metadata": {
        "id": "cFSN4ehbpO9X",
        "colab_type": "text"
      },
      "source": [
        "## PySyft\n",
        "\n",
        "**PySyft** is a tool for privacy-preserving, decentralized deep learning. \n",
        "\n",
        "* This is a comprehensive, step-by-step guide to the basic concepts in PySyft. Most of the code here is originally from [the tutorials](https://github.com/OpenMined/PySyft/tree/master/examples/tutorials). A detailed explanation of the concepts treated here can be found there, along with extra resources.\n",
        "\n",
        "* This tutorial covers the basics of remote execution, federated learning, and SMPC."
      ]
    },
    {
      "cell_type": "markdown",
      "metadata": {
        "id": "FbwnTUelpnP2",
        "colab_type": "text"
      },
      "source": [
        "## Motivation\n",
        "\n",
        "* New regulations, such as the [GDPR](https://eugdpr.org/), imply that working with (personal) data will be increasingly hard for anyone. \n",
        "\n",
        "* **Privacy matters** - it is a fundamental value to have in a society, but lot of modern technologies disregard this. PySyft, along with many other projects, are tools that will facilitate privacy-preserving technologies."
      ]
    },
    {
      "cell_type": "markdown",
      "metadata": {
        "id": "xW0qeA5w8o-2",
        "colab_type": "text"
      },
      "source": [
        "# Basics"
      ]
    },
    {
      "cell_type": "markdown",
      "metadata": {
        "id": "y4wn95jn9D6H",
        "colab_type": "text"
      },
      "source": [
        "## Setup"
      ]
    },
    {
      "cell_type": "code",
      "metadata": {
        "id": "o5QaEBWR8oMy",
        "colab_type": "code",
        "colab": {}
      },
      "source": [
        "import sys\n",
        "import torch\n",
        "from torch.nn import Parameter\n",
        "import torch.nn as nn\n",
        "import torch.nn.functional as F\n",
        "import syft as sy\n",
        "hook = sy.TorchHook(torch)"
      ],
      "execution_count": 0,
      "outputs": []
    },
    {
      "cell_type": "code",
      "metadata": {
        "id": "chyGg_8V1yod",
        "colab_type": "code",
        "outputId": "1013cb52-8975-4e21-d2ba-0b205df01fd0",
        "colab": {
          "base_uri": "https://localhost:8080/",
          "height": 35
        }
      },
      "source": [
        "torch.tensor([1,2,3,4,5]) # A normal PyTorch tensor"
      ],
      "execution_count": 4,
      "outputs": [
        {
          "output_type": "execute_result",
          "data": {
            "text/plain": [
              "tensor([1, 2, 3, 4, 5])"
            ]
          },
          "metadata": {
            "tags": []
          },
          "execution_count": 4
        }
      ]
    },
    {
      "cell_type": "markdown",
      "metadata": {
        "id": "O1dVJSdU9RFS",
        "colab_type": "text"
      },
      "source": [
        "## Remote Tensors"
      ]
    },
    {
      "cell_type": "markdown",
      "metadata": {
        "id": "1cIxEKOG3GU-",
        "colab_type": "text"
      },
      "source": [
        "*How could we train a model with data we don't have access to?*\n",
        "\n",
        "We would need some notion of **remote execution**."
      ]
    },
    {
      "cell_type": "code",
      "metadata": {
        "id": "PWC9nREN8-Hm",
        "colab_type": "code",
        "outputId": "43125a6e-d29d-41a7-aa1a-f810f92f0ca3",
        "colab": {
          "base_uri": "https://localhost:8080/",
          "height": 35
        }
      },
      "source": [
        "# Normal operation with tensors\n",
        "x = torch.tensor([1,2,3,4,5])\n",
        "y = x + x\n",
        "print(y)"
      ],
      "execution_count": 5,
      "outputs": [
        {
          "output_type": "stream",
          "text": [
            "tensor([ 2,  4,  6,  8, 10])\n"
          ],
          "name": "stdout"
        }
      ]
    },
    {
      "cell_type": "code",
      "metadata": {
        "id": "lSY-bDbZ-GpC",
        "colab_type": "code",
        "colab": {}
      },
      "source": [
        "# We use pointers, instead of local tensors!\n",
        "bob = sy.VirtualWorker(hook, id=\"bob\")"
      ],
      "execution_count": 0,
      "outputs": []
    },
    {
      "cell_type": "code",
      "metadata": {
        "id": "r2wriO8X-Ja9",
        "colab_type": "code",
        "colab": {}
      },
      "source": [
        "# Create some data\n",
        "x = torch.tensor([1,2,3,4,5])\n",
        "y = torch.tensor([1,1,1,1,1])"
      ],
      "execution_count": 0,
      "outputs": []
    },
    {
      "cell_type": "code",
      "metadata": {
        "id": "YgK-CrxS-Jd_",
        "colab_type": "code",
        "colab": {}
      },
      "source": [
        "# Send this to Bob...\n",
        "x_ptr = x.send(bob)\n",
        "y_ptr = y.send(bob)"
      ],
      "execution_count": 0,
      "outputs": []
    },
    {
      "cell_type": "code",
      "metadata": {
        "id": "CfyzI0Na-aVE",
        "colab_type": "code",
        "outputId": "9d436b98-83e1-4fea-95c8-6bd746c35419",
        "colab": {
          "base_uri": "https://localhost:8080/",
          "height": 35
        }
      },
      "source": [
        "x_ptr"
      ],
      "execution_count": 9,
      "outputs": [
        {
          "output_type": "execute_result",
          "data": {
            "text/plain": [
              "(Wrapper)>[PointerTensor | me:16775580167 -> bob:34070221148]"
            ]
          },
          "metadata": {
            "tags": []
          },
          "execution_count": 9
        }
      ]
    },
    {
      "cell_type": "code",
      "metadata": {
        "id": "uafjOcxW-bVq",
        "colab_type": "code",
        "outputId": "2307c1af-769c-4823-c7d3-a121a7e2af59",
        "colab": {
          "base_uri": "https://localhost:8080/",
          "height": 55
        }
      },
      "source": [
        "bob._objects"
      ],
      "execution_count": 10,
      "outputs": [
        {
          "output_type": "execute_result",
          "data": {
            "text/plain": [
              "{2432983751: tensor([1, 1, 1, 1, 1]), 34070221148: tensor([1, 2, 3, 4, 5])}"
            ]
          },
          "metadata": {
            "tags": []
          },
          "execution_count": 10
        }
      ]
    },
    {
      "cell_type": "code",
      "metadata": {
        "id": "OhIIUyYC-dyh",
        "colab_type": "code",
        "colab": {}
      },
      "source": [
        "# We can also perform operations with these pointers\n",
        "z = x_ptr + x_ptr"
      ],
      "execution_count": 0,
      "outputs": []
    },
    {
      "cell_type": "code",
      "metadata": {
        "id": "9WCB4oWL-egm",
        "colab_type": "code",
        "outputId": "10a1e642-16b3-44a9-f4e4-c9b085644cef",
        "colab": {
          "base_uri": "https://localhost:8080/",
          "height": 35
        }
      },
      "source": [
        "z"
      ],
      "execution_count": 12,
      "outputs": [
        {
          "output_type": "execute_result",
          "data": {
            "text/plain": [
              "(Wrapper)>[PointerTensor | me:23622416525 -> bob:74017461552]"
            ]
          },
          "metadata": {
            "tags": []
          },
          "execution_count": 12
        }
      ]
    },
    {
      "cell_type": "code",
      "metadata": {
        "id": "WsHTnf8_-gOB",
        "colab_type": "code",
        "outputId": "32ee346e-6f6f-471b-8f47-f0b6d242527e",
        "colab": {
          "base_uri": "https://localhost:8080/",
          "height": 70
        }
      },
      "source": [
        "bob._objects # Bob has z now!"
      ],
      "execution_count": 13,
      "outputs": [
        {
          "output_type": "execute_result",
          "data": {
            "text/plain": [
              "{2432983751: tensor([1, 1, 1, 1, 1]),\n",
              " 34070221148: tensor([1, 2, 3, 4, 5]),\n",
              " 74017461552: tensor([ 2,  4,  6,  8, 10])}"
            ]
          },
          "metadata": {
            "tags": []
          },
          "execution_count": 13
        }
      ]
    },
    {
      "cell_type": "code",
      "metadata": {
        "id": "ZOqfRVp3-6GO",
        "colab_type": "code",
        "outputId": "dcf1adc1-8ae3-48cb-f95d-2fa5e078cb0e",
        "colab": {
          "base_uri": "https://localhost:8080/",
          "height": 35
        }
      },
      "source": [
        "x_ptr"
      ],
      "execution_count": 14,
      "outputs": [
        {
          "output_type": "execute_result",
          "data": {
            "text/plain": [
              "(Wrapper)>[PointerTensor | me:16775580167 -> bob:34070221148]"
            ]
          },
          "metadata": {
            "tags": []
          },
          "execution_count": 14
        }
      ]
    },
    {
      "cell_type": "markdown",
      "metadata": {
        "id": "yrwOOgVk5M7E",
        "colab_type": "text"
      },
      "source": [
        "A pointer has the following metadata: \n",
        "\n",
        "* `x_ptr.location : bob` the location of the data the pointer is pointing to.\n",
        "\n",
        "* `x_ptr.id_at_location: <random integer>` the id of the tensor.\n",
        "\n",
        "  Format: `<id_at_location>@<location>`\n",
        "\n",
        "* `x_ptr.id : <random integer>` the id of our pointer.\n",
        "* `x_ptr.owner : \"me\"` the owner of that pointer."
      ]
    },
    {
      "cell_type": "code",
      "metadata": {
        "id": "8OMKJkOa-8BZ",
        "colab_type": "code",
        "outputId": "23f0d3ee-fbae-40ec-c2cf-b645f18320f5",
        "colab": {
          "base_uri": "https://localhost:8080/",
          "height": 35
        }
      },
      "source": [
        "x_ptr.location"
      ],
      "execution_count": 15,
      "outputs": [
        {
          "output_type": "execute_result",
          "data": {
            "text/plain": [
              "<VirtualWorker id:bob #objects:3>"
            ]
          },
          "metadata": {
            "tags": []
          },
          "execution_count": 15
        }
      ]
    },
    {
      "cell_type": "code",
      "metadata": {
        "id": "jhGvp4Xu-81_",
        "colab_type": "code",
        "outputId": "9d3f0ab1-3d7f-48f6-ede1-3dda05fe532a",
        "colab": {
          "base_uri": "https://localhost:8080/",
          "height": 35
        }
      },
      "source": [
        "bob"
      ],
      "execution_count": 16,
      "outputs": [
        {
          "output_type": "execute_result",
          "data": {
            "text/plain": [
              "<VirtualWorker id:bob #objects:3>"
            ]
          },
          "metadata": {
            "tags": []
          },
          "execution_count": 16
        }
      ]
    },
    {
      "cell_type": "code",
      "metadata": {
        "id": "vx5m7XEt--m4",
        "colab_type": "code",
        "outputId": "96a58374-7b64-452b-b9ac-b1fcbbb024b5",
        "colab": {
          "base_uri": "https://localhost:8080/",
          "height": 35
        }
      },
      "source": [
        "bob == x_ptr.location"
      ],
      "execution_count": 17,
      "outputs": [
        {
          "output_type": "execute_result",
          "data": {
            "text/plain": [
              "True"
            ]
          },
          "metadata": {
            "tags": []
          },
          "execution_count": 17
        }
      ]
    },
    {
      "cell_type": "code",
      "metadata": {
        "id": "6k4Ce-Vr--py",
        "colab_type": "code",
        "outputId": "eb0f4805-be01-4656-9c51-94ca1442384e",
        "colab": {
          "base_uri": "https://localhost:8080/",
          "height": 35
        }
      },
      "source": [
        "x_ptr.id_at_location"
      ],
      "execution_count": 18,
      "outputs": [
        {
          "output_type": "execute_result",
          "data": {
            "text/plain": [
              "34070221148"
            ]
          },
          "metadata": {
            "tags": []
          },
          "execution_count": 18
        }
      ]
    },
    {
      "cell_type": "code",
      "metadata": {
        "id": "AcW2cPY---vi",
        "colab_type": "code",
        "outputId": "cc7aa6b3-a4ba-4474-bd0e-607c83878e58",
        "colab": {
          "base_uri": "https://localhost:8080/",
          "height": 35
        }
      },
      "source": [
        "x_ptr.owner"
      ],
      "execution_count": 19,
      "outputs": [
        {
          "output_type": "execute_result",
          "data": {
            "text/plain": [
              "<VirtualWorker id:me #objects:0>"
            ]
          },
          "metadata": {
            "tags": []
          },
          "execution_count": 19
        }
      ]
    },
    {
      "cell_type": "code",
      "metadata": {
        "id": "UP-8EaUj6thE",
        "colab_type": "code",
        "outputId": "022858fe-e001-4f65-b3cd-69c4be0b2292",
        "colab": {
          "base_uri": "https://localhost:8080/",
          "height": 35
        }
      },
      "source": [
        "me = sy.local_worker\n",
        "me # local worker created with sy.TorchHook()"
      ],
      "execution_count": 20,
      "outputs": [
        {
          "output_type": "execute_result",
          "data": {
            "text/plain": [
              "<VirtualWorker id:me #objects:0>"
            ]
          },
          "metadata": {
            "tags": []
          },
          "execution_count": 20
        }
      ]
    },
    {
      "cell_type": "code",
      "metadata": {
        "id": "keCVoHAl6y6g",
        "colab_type": "code",
        "outputId": "1b139496-9a74-489d-d6f2-39fbacbd0ba1",
        "colab": {
          "base_uri": "https://localhost:8080/",
          "height": 35
        }
      },
      "source": [
        "me == x_ptr.owner"
      ],
      "execution_count": 21,
      "outputs": [
        {
          "output_type": "execute_result",
          "data": {
            "text/plain": [
              "True"
            ]
          },
          "metadata": {
            "tags": []
          },
          "execution_count": 21
        }
      ]
    },
    {
      "cell_type": "code",
      "metadata": {
        "id": "Nll2RIFV_DWK",
        "colab_type": "code",
        "outputId": "5b4a9b51-30fd-4b03-a427-117203d74371",
        "colab": {
          "base_uri": "https://localhost:8080/",
          "height": 35
        }
      },
      "source": [
        "x_ptr"
      ],
      "execution_count": 22,
      "outputs": [
        {
          "output_type": "execute_result",
          "data": {
            "text/plain": [
              "(Wrapper)>[PointerTensor | me:16775580167 -> bob:34070221148]"
            ]
          },
          "metadata": {
            "tags": []
          },
          "execution_count": 22
        }
      ]
    },
    {
      "cell_type": "code",
      "metadata": {
        "id": "_8bNu78z_Ffb",
        "colab_type": "code",
        "outputId": "f158ea88-367b-4567-ae97-e0a611db191e",
        "colab": {
          "base_uri": "https://localhost:8080/",
          "height": 35
        }
      },
      "source": [
        "x_ptr.get()"
      ],
      "execution_count": 23,
      "outputs": [
        {
          "output_type": "execute_result",
          "data": {
            "text/plain": [
              "tensor([1, 2, 3, 4, 5])"
            ]
          },
          "metadata": {
            "tags": []
          },
          "execution_count": 23
        }
      ]
    },
    {
      "cell_type": "code",
      "metadata": {
        "id": "G_-5LWEH_GfA",
        "colab_type": "code",
        "outputId": "0881beaa-f179-4725-c3f8-a2dd4b74029d",
        "colab": {
          "base_uri": "https://localhost:8080/",
          "height": 35
        }
      },
      "source": [
        "y_ptr"
      ],
      "execution_count": 24,
      "outputs": [
        {
          "output_type": "execute_result",
          "data": {
            "text/plain": [
              "(Wrapper)>[PointerTensor | me:28142303267 -> bob:2432983751]"
            ]
          },
          "metadata": {
            "tags": []
          },
          "execution_count": 24
        }
      ]
    },
    {
      "cell_type": "code",
      "metadata": {
        "id": "xPbdi-BH_J2N",
        "colab_type": "code",
        "outputId": "2b8a6483-c416-4bc1-c21f-5029885bb60c",
        "colab": {
          "base_uri": "https://localhost:8080/",
          "height": 35
        }
      },
      "source": [
        "y_ptr.get()"
      ],
      "execution_count": 25,
      "outputs": [
        {
          "output_type": "execute_result",
          "data": {
            "text/plain": [
              "tensor([1, 1, 1, 1, 1])"
            ]
          },
          "metadata": {
            "tags": []
          },
          "execution_count": 25
        }
      ]
    },
    {
      "cell_type": "code",
      "metadata": {
        "id": "XUEKIYCY_LOS",
        "colab_type": "code",
        "outputId": "a91f339e-d995-4ce9-d5b2-6a46f2c8ba4e",
        "colab": {
          "base_uri": "https://localhost:8080/",
          "height": 35
        }
      },
      "source": [
        "z.get()"
      ],
      "execution_count": 26,
      "outputs": [
        {
          "output_type": "execute_result",
          "data": {
            "text/plain": [
              "tensor([ 2,  4,  6,  8, 10])"
            ]
          },
          "metadata": {
            "tags": []
          },
          "execution_count": 26
        }
      ]
    },
    {
      "cell_type": "code",
      "metadata": {
        "id": "MtRWcqCE_MtJ",
        "colab_type": "code",
        "outputId": "b7a372cc-6805-4698-b80d-2569cc6e5e9d",
        "colab": {
          "base_uri": "https://localhost:8080/",
          "height": 35
        }
      },
      "source": [
        "# The .get() operator allows us to get back our data\n",
        "bob._objects"
      ],
      "execution_count": 27,
      "outputs": [
        {
          "output_type": "execute_result",
          "data": {
            "text/plain": [
              "{}"
            ]
          },
          "metadata": {
            "tags": []
          },
          "execution_count": 27
        }
      ]
    },
    {
      "cell_type": "markdown",
      "metadata": {
        "id": "CjTSkU659TqW",
        "colab_type": "text"
      },
      "source": [
        "## Pointer Operations"
      ]
    },
    {
      "cell_type": "code",
      "metadata": {
        "id": "DARK4kTn8_P9",
        "colab_type": "code",
        "colab": {}
      },
      "source": [
        "x = torch.tensor([1,2,3,4,5]).send(bob)\n",
        "y = torch.tensor([1,1,1,1,1]).send(bob)"
      ],
      "execution_count": 0,
      "outputs": []
    },
    {
      "cell_type": "code",
      "metadata": {
        "id": "hQsTbeBa_oXu",
        "colab_type": "code",
        "colab": {}
      },
      "source": [
        "z = x + y"
      ],
      "execution_count": 0,
      "outputs": []
    },
    {
      "cell_type": "code",
      "metadata": {
        "id": "U__f15Ru_qDJ",
        "colab_type": "code",
        "outputId": "763e6b0c-47c7-478f-822b-e330b0dc6611",
        "colab": {
          "base_uri": "https://localhost:8080/",
          "height": 35
        }
      },
      "source": [
        "z"
      ],
      "execution_count": 30,
      "outputs": [
        {
          "output_type": "execute_result",
          "data": {
            "text/plain": [
              "(Wrapper)>[PointerTensor | me:64969019240 -> bob:97499167153]"
            ]
          },
          "metadata": {
            "tags": []
          },
          "execution_count": 30
        }
      ]
    },
    {
      "cell_type": "code",
      "metadata": {
        "id": "j1cWR5TH_sRQ",
        "colab_type": "code",
        "outputId": "a2833e9f-a847-4e5b-ac58-e719deb5b5b1",
        "colab": {
          "base_uri": "https://localhost:8080/",
          "height": 35
        }
      },
      "source": [
        "z.get()"
      ],
      "execution_count": 31,
      "outputs": [
        {
          "output_type": "execute_result",
          "data": {
            "text/plain": [
              "tensor([2, 3, 4, 5, 6])"
            ]
          },
          "metadata": {
            "tags": []
          },
          "execution_count": 31
        }
      ]
    },
    {
      "cell_type": "markdown",
      "metadata": {
        "id": "xN0Lb-I48ZTj",
        "colab_type": "text"
      },
      "source": [
        "We can use all of Torch's operations:"
      ]
    },
    {
      "cell_type": "code",
      "metadata": {
        "id": "dbVGhsYd_uZq",
        "colab_type": "code",
        "outputId": "3bf5c136-7aad-41d5-e004-badab25d5646",
        "colab": {
          "base_uri": "https://localhost:8080/",
          "height": 35
        }
      },
      "source": [
        "x"
      ],
      "execution_count": 32,
      "outputs": [
        {
          "output_type": "execute_result",
          "data": {
            "text/plain": [
              "(Wrapper)>[PointerTensor | me:65779606657 -> bob:83291032525]"
            ]
          },
          "metadata": {
            "tags": []
          },
          "execution_count": 32
        }
      ]
    },
    {
      "cell_type": "code",
      "metadata": {
        "id": "SJo9kCSM_vsS",
        "colab_type": "code",
        "outputId": "759f72e5-0d69-422c-d78b-ae16211970f7",
        "colab": {
          "base_uri": "https://localhost:8080/",
          "height": 35
        }
      },
      "source": [
        "y"
      ],
      "execution_count": 33,
      "outputs": [
        {
          "output_type": "execute_result",
          "data": {
            "text/plain": [
              "(Wrapper)>[PointerTensor | me:20152843349 -> bob:94670693689]"
            ]
          },
          "metadata": {
            "tags": []
          },
          "execution_count": 33
        }
      ]
    },
    {
      "cell_type": "code",
      "metadata": {
        "id": "VyZOvTuO_wgr",
        "colab_type": "code",
        "outputId": "9b6b9e51-d7ba-44ee-84dd-d87bcd3da5b3",
        "colab": {
          "base_uri": "https://localhost:8080/",
          "height": 35
        }
      },
      "source": [
        "z = torch.add(x,y); z"
      ],
      "execution_count": 34,
      "outputs": [
        {
          "output_type": "execute_result",
          "data": {
            "text/plain": [
              "(Wrapper)>[PointerTensor | me:24483564965 -> bob:97289510165]"
            ]
          },
          "metadata": {
            "tags": []
          },
          "execution_count": 34
        }
      ]
    },
    {
      "cell_type": "code",
      "metadata": {
        "id": "mG0qUF3KHqq4",
        "colab_type": "code",
        "outputId": "7210a562-3784-4ce1-f54b-2d6c830a2e47",
        "colab": {
          "base_uri": "https://localhost:8080/",
          "height": 35
        }
      },
      "source": [
        "z.get()"
      ],
      "execution_count": 35,
      "outputs": [
        {
          "output_type": "execute_result",
          "data": {
            "text/plain": [
              "tensor([2, 3, 4, 5, 6])"
            ]
          },
          "metadata": {
            "tags": []
          },
          "execution_count": 35
        }
      ]
    },
    {
      "cell_type": "code",
      "metadata": {
        "id": "W1h3c_cpHt6k",
        "colab_type": "code",
        "colab": {}
      },
      "source": [
        "x = torch.tensor([1,2,3,4,5.], requires_grad=True).send(bob)\n",
        "y = torch.tensor([1,1,1,1,1.], requires_grad=True).send(bob)"
      ],
      "execution_count": 0,
      "outputs": []
    },
    {
      "cell_type": "code",
      "metadata": {
        "id": "bZ1zwK7SHv3m",
        "colab_type": "code",
        "colab": {}
      },
      "source": [
        "z = (x + y).sum()"
      ],
      "execution_count": 0,
      "outputs": []
    },
    {
      "cell_type": "code",
      "metadata": {
        "id": "94VfBoDkHyZK",
        "colab_type": "code",
        "outputId": "8925dac4-0b86-4be9-cf1f-e52dfb32aecc",
        "colab": {
          "base_uri": "https://localhost:8080/",
          "height": 35
        }
      },
      "source": [
        "z.backward()"
      ],
      "execution_count": 38,
      "outputs": [
        {
          "output_type": "execute_result",
          "data": {
            "text/plain": [
              "(Wrapper)>[PointerTensor | me:93529277569 -> bob:84526282541]"
            ]
          },
          "metadata": {
            "tags": []
          },
          "execution_count": 38
        }
      ]
    },
    {
      "cell_type": "code",
      "metadata": {
        "id": "4mo0_SLvH0vw",
        "colab_type": "code",
        "colab": {}
      },
      "source": [
        "x = x.get()"
      ],
      "execution_count": 0,
      "outputs": []
    },
    {
      "cell_type": "code",
      "metadata": {
        "id": "NW4vmo1hH21Z",
        "colab_type": "code",
        "outputId": "2d0e7f86-bab8-4ea8-d6c1-7ea1bd1801a5",
        "colab": {
          "base_uri": "https://localhost:8080/",
          "height": 35
        }
      },
      "source": [
        "x"
      ],
      "execution_count": 40,
      "outputs": [
        {
          "output_type": "execute_result",
          "data": {
            "text/plain": [
              "tensor([1., 2., 3., 4., 5.], requires_grad=True)"
            ]
          },
          "metadata": {
            "tags": []
          },
          "execution_count": 40
        }
      ]
    },
    {
      "cell_type": "code",
      "metadata": {
        "id": "zEGtSP5zH4A_",
        "colab_type": "code",
        "outputId": "9386d381-3eb0-40d4-e4d2-099fd6e6def5",
        "colab": {
          "base_uri": "https://localhost:8080/",
          "height": 35
        }
      },
      "source": [
        "x.grad"
      ],
      "execution_count": 41,
      "outputs": [
        {
          "output_type": "execute_result",
          "data": {
            "text/plain": [
              "tensor([1., 1., 1., 1., 1.])"
            ]
          },
          "metadata": {
            "tags": []
          },
          "execution_count": 41
        }
      ]
    },
    {
      "cell_type": "code",
      "metadata": {
        "id": "q37jeugJhtGx",
        "colab_type": "code",
        "colab": {}
      },
      "source": [
        "%reset -f"
      ],
      "execution_count": 0,
      "outputs": []
    },
    {
      "cell_type": "markdown",
      "metadata": {
        "id": "XbJ5guT2IXIk",
        "colab_type": "text"
      },
      "source": [
        "# Federated Learning"
      ]
    },
    {
      "cell_type": "markdown",
      "metadata": {
        "id": "kYZvlwi8828H",
        "colab_type": "text"
      },
      "source": [
        "Remote execution is very cool and it lays the foundation for one of the most important tools for private ML: federated learning. \n",
        "\n",
        "Essentially, federated learning allows us to take the models where the data is generated instead of taking the data to a central server. This is at the heart of **decentralized AI**."
      ]
    },
    {
      "cell_type": "markdown",
      "metadata": {
        "id": "oyBPcjQE-Ks2",
        "colab_type": "text"
      },
      "source": [
        "![alt text](https://raw.githubusercontent.com/arturomf94/pysyft-crash-course/master/docs/centralized_learning.png)"
      ]
    },
    {
      "cell_type": "markdown",
      "metadata": {
        "id": "4A8VQtmr-R5O",
        "colab_type": "text"
      },
      "source": [
        "![alt text](https://raw.githubusercontent.com/arturomf94/pysyft-crash-course/master/docs/federated_learning.png)"
      ]
    },
    {
      "cell_type": "markdown",
      "metadata": {
        "id": "d8xNUqc6cTwo",
        "colab_type": "text"
      },
      "source": [
        "## Intro"
      ]
    },
    {
      "cell_type": "markdown",
      "metadata": {
        "id": "QmIeM6ygExNr",
        "colab_type": "text"
      },
      "source": [
        "First, let's outline a traditional training procedure..."
      ]
    },
    {
      "cell_type": "code",
      "metadata": {
        "id": "Aa7Rz52qb-JQ",
        "colab_type": "code",
        "colab": {}
      },
      "source": [
        "import torch\n",
        "from torch import nn\n",
        "from torch import optim"
      ],
      "execution_count": 0,
      "outputs": []
    },
    {
      "cell_type": "code",
      "metadata": {
        "id": "Bnq7a3yKb_ix",
        "colab_type": "code",
        "colab": {}
      },
      "source": [
        "# A Toy Dataset\n",
        "data = torch.tensor([[0,0],[0,1],[1,0],[1,1.]])\n",
        "target = torch.tensor([[0],[0],[1],[1.]])\n",
        "\n",
        "# A Toy Model\n",
        "model = nn.Linear(2,1)\n",
        "\n",
        "def train():\n",
        "    # Training Logic\n",
        "    opt = optim.SGD(params=model.parameters(),lr=0.1)\n",
        "    for iter in range(20):\n",
        "\n",
        "        # 1) erase previous gradients (if they exist)\n",
        "        opt.zero_grad()\n",
        "\n",
        "        # 2) make a prediction\n",
        "        pred = model(data)\n",
        "\n",
        "        # 3) calculate how much we missed\n",
        "        loss = ((pred - target)**2).sum()\n",
        "\n",
        "        # 4) figure out which weights caused us to miss\n",
        "        loss.backward()\n",
        "\n",
        "        # 5) change those weights\n",
        "        opt.step()\n",
        "\n",
        "        # 6) print our progress\n",
        "        print(loss.data)"
      ],
      "execution_count": 0,
      "outputs": []
    },
    {
      "cell_type": "code",
      "metadata": {
        "id": "HEI0gG2dcBa9",
        "colab_type": "code",
        "outputId": "b0ac36e9-2d40-4b55-b9d6-40f2fddf4106",
        "colab": {
          "base_uri": "https://localhost:8080/",
          "height": 372
        }
      },
      "source": [
        "train()"
      ],
      "execution_count": 45,
      "outputs": [
        {
          "output_type": "stream",
          "text": [
            "tensor(4.1121)\n",
            "tensor(1.7416)\n",
            "tensor(1.1922)\n",
            "tensor(0.8795)\n",
            "tensor(0.6562)\n",
            "tensor(0.4917)\n",
            "tensor(0.3695)\n",
            "tensor(0.2784)\n",
            "tensor(0.2103)\n",
            "tensor(0.1591)\n",
            "tensor(0.1206)\n",
            "tensor(0.0915)\n",
            "tensor(0.0695)\n",
            "tensor(0.0529)\n",
            "tensor(0.0403)\n",
            "tensor(0.0307)\n",
            "tensor(0.0234)\n",
            "tensor(0.0178)\n",
            "tensor(0.0136)\n",
            "tensor(0.0104)\n"
          ],
          "name": "stdout"
        }
      ]
    },
    {
      "cell_type": "markdown",
      "metadata": {
        "id": "eE38EK8EE5jj",
        "colab_type": "text"
      },
      "source": [
        "Now let's do the same but in a federated way..."
      ]
    },
    {
      "cell_type": "code",
      "metadata": {
        "id": "et3FTq2ZcGJ1",
        "colab_type": "code",
        "colab": {}
      },
      "source": [
        "import syft as sy\n",
        "hook = sy.TorchHook(torch)"
      ],
      "execution_count": 0,
      "outputs": []
    },
    {
      "cell_type": "code",
      "metadata": {
        "id": "yuDT5TdXcHx6",
        "colab_type": "code",
        "colab": {}
      },
      "source": [
        "# create a couple workers\n",
        "bob = sy.VirtualWorker(hook, id=\"bob\")\n",
        "alice = sy.VirtualWorker(hook, id=\"alice\")"
      ],
      "execution_count": 0,
      "outputs": []
    },
    {
      "cell_type": "code",
      "metadata": {
        "id": "E5yuLRoqcJFC",
        "colab_type": "code",
        "colab": {}
      },
      "source": [
        "# A Toy Dataset\n",
        "data = torch.tensor([[0,0],[0,1],[1,0],[1,1.]], requires_grad=True)\n",
        "target = torch.tensor([[0],[0],[1],[1.]], requires_grad=True)\n",
        "\n",
        "# get pointers to training data on each worker by\n",
        "# sending some training data to bob and alice\n",
        "data_bob = data[0:2]\n",
        "target_bob = target[0:2]\n",
        "\n",
        "data_alice = data[2:]\n",
        "target_alice = target[2:]\n",
        "\n",
        "# Iniitalize A Toy Model\n",
        "model = nn.Linear(2,1)\n",
        "\n",
        "data_bob = data_bob.send(bob)\n",
        "data_alice = data_alice.send(alice)\n",
        "target_bob = target_bob.send(bob)\n",
        "target_alice = target_alice.send(alice)\n",
        "\n",
        "# organize pointers into a list\n",
        "datasets = [(data_bob,target_bob),(data_alice,target_alice)]"
      ],
      "execution_count": 0,
      "outputs": []
    },
    {
      "cell_type": "code",
      "metadata": {
        "id": "7FNsmT78cMWp",
        "colab_type": "code",
        "colab": {}
      },
      "source": [
        "from syft.federated.floptimizer import Optims\n",
        "workers = ['bob', 'alice']\n",
        "optims = Optims(workers, optim=optim.Adam(params=model.parameters(),lr=0.1))"
      ],
      "execution_count": 0,
      "outputs": []
    },
    {
      "cell_type": "code",
      "metadata": {
        "id": "152oOy4AcNxo",
        "colab_type": "code",
        "colab": {}
      },
      "source": [
        "def train():\n",
        "    # Training Logic\n",
        "    for iter in range(10):\n",
        "        \n",
        "        # NEW) iterate through each worker's dataset\n",
        "        for data,target in datasets:\n",
        "            \n",
        "            # NEW) send model to correct worker\n",
        "            model.send(data.location)\n",
        "            \n",
        "            #Call the optimizer for the worker using get_optim\n",
        "            opt = optims.get_optim(data.location.id)\n",
        "            #print(data.location.id)\n",
        "\n",
        "            # 1) erase previous gradients (if they exist)\n",
        "            opt.zero_grad()\n",
        "\n",
        "            # 2) make a prediction\n",
        "            pred = model(data)\n",
        "\n",
        "            # 3) calculate how much we missed\n",
        "            loss = ((pred - target)**2).sum()\n",
        "\n",
        "            # 4) figure out which weights caused us to miss\n",
        "            loss.backward()\n",
        "\n",
        "            # 5) change those weights\n",
        "            opt.step()\n",
        "            \n",
        "            # NEW) get model (with gradients)\n",
        "            model.get()\n",
        "\n",
        "            # 6) print our progress\n",
        "            print(loss.get()) # NEW) slight edit... need to call .get() on loss\\\n",
        "    \n",
        "# federated averaging"
      ],
      "execution_count": 0,
      "outputs": []
    },
    {
      "cell_type": "code",
      "metadata": {
        "id": "OpoVbSJZcQVN",
        "colab_type": "code",
        "outputId": "5a600131-d001-45fc-df5b-d4239d452017",
        "colab": {
          "base_uri": "https://localhost:8080/",
          "height": 372
        }
      },
      "source": [
        "train()"
      ],
      "execution_count": 51,
      "outputs": [
        {
          "output_type": "stream",
          "text": [
            "tensor(1.7038, requires_grad=True)\n",
            "tensor(0.1269, requires_grad=True)\n",
            "tensor(0.7363, requires_grad=True)\n",
            "tensor(0.2842, requires_grad=True)\n",
            "tensor(0.5118, requires_grad=True)\n",
            "tensor(0.2872, requires_grad=True)\n",
            "tensor(0.4097, requires_grad=True)\n",
            "tensor(0.2263, requires_grad=True)\n",
            "tensor(0.3554, requires_grad=True)\n",
            "tensor(0.1477, requires_grad=True)\n",
            "tensor(0.3224, requires_grad=True)\n",
            "tensor(0.0776, requires_grad=True)\n",
            "tensor(0.2966, requires_grad=True)\n",
            "tensor(0.0290, requires_grad=True)\n",
            "tensor(0.2688, requires_grad=True)\n",
            "tensor(0.0050, requires_grad=True)\n",
            "tensor(0.2323, requires_grad=True)\n",
            "tensor(0.0001, requires_grad=True)\n",
            "tensor(0.1854, requires_grad=True)\n",
            "tensor(0.0044, requires_grad=True)\n"
          ],
          "name": "stdout"
        }
      ]
    },
    {
      "cell_type": "code",
      "metadata": {
        "id": "bocRNRvLhgyE",
        "colab_type": "code",
        "colab": {}
      },
      "source": [
        "%reset -f"
      ],
      "execution_count": 0,
      "outputs": []
    },
    {
      "cell_type": "markdown",
      "metadata": {
        "id": "W27S3b1MJD55",
        "colab_type": "text"
      },
      "source": [
        "## Aggregation"
      ]
    },
    {
      "cell_type": "markdown",
      "metadata": {
        "id": "tIrQYW7FMbmx",
        "colab_type": "text"
      },
      "source": [
        "In the previous example we directly got the model back from the workers at each iteration with the `get()` operator.\n",
        "\n",
        "This poses a privacy problem, since, although we don't have direct access to the data, we can learn a lot with the gradients!\n",
        "\n",
        "To solve this we could average the gradient across the workers **before** getting the model back."
      ]
    },
    {
      "cell_type": "markdown",
      "metadata": {
        "id": "swrsc9bdPM9Y",
        "colab_type": "text"
      },
      "source": [
        "### Advanced Remote Execution"
      ]
    },
    {
      "cell_type": "code",
      "metadata": {
        "id": "QU2qgjx_ePkO",
        "colab_type": "code",
        "colab": {}
      },
      "source": [
        "import torch\n",
        "import syft as sy\n",
        "hook = sy.TorchHook(torch)"
      ],
      "execution_count": 0,
      "outputs": []
    },
    {
      "cell_type": "code",
      "metadata": {
        "id": "hFB_P-C9eSD5",
        "colab_type": "code",
        "colab": {}
      },
      "source": [
        "bob = sy.VirtualWorker(hook, id='bob')\n",
        "alice = sy.VirtualWorker(hook, id='alice')"
      ],
      "execution_count": 0,
      "outputs": []
    },
    {
      "cell_type": "code",
      "metadata": {
        "id": "BsPVsss6eUBB",
        "colab_type": "code",
        "outputId": "a20e30ee-9da6-4bb8-d368-0b35c5d52b9e",
        "colab": {
          "base_uri": "https://localhost:8080/",
          "height": 35
        }
      },
      "source": [
        "# this is a local tensor\n",
        "x = torch.tensor([1,2,3,4]); x"
      ],
      "execution_count": 55,
      "outputs": [
        {
          "output_type": "execute_result",
          "data": {
            "text/plain": [
              "tensor([1, 2, 3, 4])"
            ]
          },
          "metadata": {
            "tags": []
          },
          "execution_count": 55
        }
      ]
    },
    {
      "cell_type": "code",
      "metadata": {
        "id": "IqD1IO4QeXmw",
        "colab_type": "code",
        "outputId": "4ddae07e-0e3d-4204-a16a-490c84fb4d0b",
        "colab": {
          "base_uri": "https://localhost:8080/",
          "height": 35
        }
      },
      "source": [
        "# this sends the local tensor to Bob\n",
        "x_ptr = x.send(bob)\n",
        "\n",
        "# this is now a pointer\n",
        "x_ptr"
      ],
      "execution_count": 56,
      "outputs": [
        {
          "output_type": "execute_result",
          "data": {
            "text/plain": [
              "(Wrapper)>[PointerTensor | me:57286092926 -> bob:91021715272]"
            ]
          },
          "metadata": {
            "tags": []
          },
          "execution_count": 56
        }
      ]
    },
    {
      "cell_type": "code",
      "metadata": {
        "id": "wqzKg3bwgcYt",
        "colab_type": "code",
        "outputId": "b08f0f5f-164a-4004-8dc6-ef0a37cab9e2",
        "colab": {
          "base_uri": "https://localhost:8080/",
          "height": 35
        }
      },
      "source": [
        "# now we can SEND THE POINTER to alice!!!\n",
        "pointer_to_x_ptr = x_ptr.send(alice)\n",
        "\n",
        "pointer_to_x_ptr"
      ],
      "execution_count": 57,
      "outputs": [
        {
          "output_type": "execute_result",
          "data": {
            "text/plain": [
              "(Wrapper)>[PointerTensor | me:50696024554 -> alice:57286092926]"
            ]
          },
          "metadata": {
            "tags": []
          },
          "execution_count": 57
        }
      ]
    },
    {
      "cell_type": "code",
      "metadata": {
        "id": "qUBHkIdGgeE-",
        "colab_type": "code",
        "outputId": "6d5b39df-d6b0-4806-a363-176ae9f8ec92",
        "colab": {
          "base_uri": "https://localhost:8080/",
          "height": 35
        }
      },
      "source": [
        "# As you can see above, Bob still has the actual data (data is always stored in a LocalTensor type). \n",
        "bob._objects"
      ],
      "execution_count": 58,
      "outputs": [
        {
          "output_type": "execute_result",
          "data": {
            "text/plain": [
              "{91021715272: tensor([1, 2, 3, 4])}"
            ]
          },
          "metadata": {
            "tags": []
          },
          "execution_count": 58
        }
      ]
    },
    {
      "cell_type": "code",
      "metadata": {
        "id": "a1PBTq0Jgfhm",
        "colab_type": "code",
        "outputId": "5235c31c-d25c-4887-a792-cccb089bb4a4",
        "colab": {
          "base_uri": "https://localhost:8080/",
          "height": 35
        }
      },
      "source": [
        "# and we can use .get() to get x_ptr back from Alice\n",
        "x_ptr = pointer_to_x_ptr.get()\n",
        "x_ptr"
      ],
      "execution_count": 59,
      "outputs": [
        {
          "output_type": "execute_result",
          "data": {
            "text/plain": [
              "(Wrapper)>[PointerTensor | me:57286092926 -> bob:91021715272]"
            ]
          },
          "metadata": {
            "tags": []
          },
          "execution_count": 59
        }
      ]
    },
    {
      "cell_type": "code",
      "metadata": {
        "id": "ngOkEzXagkou",
        "colab_type": "code",
        "outputId": "f910bf07-312f-4d0f-f6fd-20d3d37794e1",
        "colab": {
          "base_uri": "https://localhost:8080/",
          "height": 35
        }
      },
      "source": [
        "# and then we can use x_ptr to get x back from Bob!\n",
        "x = x_ptr.get()\n",
        "x"
      ],
      "execution_count": 60,
      "outputs": [
        {
          "output_type": "execute_result",
          "data": {
            "text/plain": [
              "tensor([1, 2, 3, 4])"
            ]
          },
          "metadata": {
            "tags": []
          },
          "execution_count": 60
        }
      ]
    },
    {
      "cell_type": "code",
      "metadata": {
        "id": "RnJK65BTh3f1",
        "colab_type": "code",
        "outputId": "bf92d5ed-825b-4e4a-e82c-87753dc86b85",
        "colab": {
          "base_uri": "https://localhost:8080/",
          "height": 35
        }
      },
      "source": [
        "bob._objects"
      ],
      "execution_count": 61,
      "outputs": [
        {
          "output_type": "execute_result",
          "data": {
            "text/plain": [
              "{}"
            ]
          },
          "metadata": {
            "tags": []
          },
          "execution_count": 61
        }
      ]
    },
    {
      "cell_type": "code",
      "metadata": {
        "id": "-U1d4evNh4r4",
        "colab_type": "code",
        "outputId": "1a2beb18-a1ae-496d-e849-1c54bb931426",
        "colab": {
          "base_uri": "https://localhost:8080/",
          "height": 35
        }
      },
      "source": [
        "alice._objects"
      ],
      "execution_count": 62,
      "outputs": [
        {
          "output_type": "execute_result",
          "data": {
            "text/plain": [
              "{}"
            ]
          },
          "metadata": {
            "tags": []
          },
          "execution_count": 62
        }
      ]
    },
    {
      "cell_type": "code",
      "metadata": {
        "id": "8P8cCANYh6SY",
        "colab_type": "code",
        "colab": {}
      },
      "source": [
        "p2p2x = torch.tensor([1,2,3,4,5]).send(bob).send(alice)\n",
        "\n",
        "y = p2p2x + p2p2x"
      ],
      "execution_count": 0,
      "outputs": []
    },
    {
      "cell_type": "code",
      "metadata": {
        "id": "Zxn-IAUPh8Cu",
        "colab_type": "code",
        "outputId": "fc7a5fc3-1b6d-4e71-cdb9-f61ca6315c0a",
        "colab": {
          "base_uri": "https://localhost:8080/",
          "height": 53
        }
      },
      "source": [
        "bob._objects"
      ],
      "execution_count": 64,
      "outputs": [
        {
          "output_type": "execute_result",
          "data": {
            "text/plain": [
              "{41015732092: tensor([ 2,  4,  6,  8, 10]),\n",
              " 89762003190: tensor([1, 2, 3, 4, 5])}"
            ]
          },
          "metadata": {
            "tags": []
          },
          "execution_count": 64
        }
      ]
    },
    {
      "cell_type": "code",
      "metadata": {
        "id": "_E23CJnRiD5y",
        "colab_type": "code",
        "outputId": "8436599a-d85d-479c-a904-182ab5e976ba",
        "colab": {
          "base_uri": "https://localhost:8080/",
          "height": 73
        }
      },
      "source": [
        "alice._objects"
      ],
      "execution_count": 65,
      "outputs": [
        {
          "output_type": "execute_result",
          "data": {
            "text/plain": [
              "{79582926382: (Wrapper)>[PointerTensor | alice:79582926382 -> bob:41015732092],\n",
              " 99812457942: (Wrapper)>[PointerTensor | alice:99812457942 -> bob:89762003190]}"
            ]
          },
          "metadata": {
            "tags": []
          },
          "execution_count": 65
        }
      ]
    },
    {
      "cell_type": "code",
      "metadata": {
        "id": "Ah-9lpbLiFMk",
        "colab_type": "code",
        "outputId": "3c984022-8336-41fd-a387-33f47340bf92",
        "colab": {
          "base_uri": "https://localhost:8080/",
          "height": 35
        }
      },
      "source": [
        "y.get().get()"
      ],
      "execution_count": 66,
      "outputs": [
        {
          "output_type": "execute_result",
          "data": {
            "text/plain": [
              "tensor([ 2,  4,  6,  8, 10])"
            ]
          },
          "metadata": {
            "tags": []
          },
          "execution_count": 66
        }
      ]
    },
    {
      "cell_type": "code",
      "metadata": {
        "id": "AA9z2mXdiGt4",
        "colab_type": "code",
        "outputId": "c4716235-d22f-4d1f-f959-48ae1c4aa51f",
        "colab": {
          "base_uri": "https://localhost:8080/",
          "height": 35
        }
      },
      "source": [
        "bob._objects"
      ],
      "execution_count": 67,
      "outputs": [
        {
          "output_type": "execute_result",
          "data": {
            "text/plain": [
              "{89762003190: tensor([1, 2, 3, 4, 5])}"
            ]
          },
          "metadata": {
            "tags": []
          },
          "execution_count": 67
        }
      ]
    },
    {
      "cell_type": "code",
      "metadata": {
        "id": "9TryjN6XiIT9",
        "colab_type": "code",
        "outputId": "ebf62ddf-3678-4a4d-e144-fd375164afe3",
        "colab": {
          "base_uri": "https://localhost:8080/",
          "height": 55
        }
      },
      "source": [
        "alice._objects"
      ],
      "execution_count": 68,
      "outputs": [
        {
          "output_type": "execute_result",
          "data": {
            "text/plain": [
              "{99812457942: (Wrapper)>[PointerTensor | alice:99812457942 -> bob:89762003190]}"
            ]
          },
          "metadata": {
            "tags": []
          },
          "execution_count": 68
        }
      ]
    },
    {
      "cell_type": "code",
      "metadata": {
        "id": "rHAnIyZAiJxP",
        "colab_type": "code",
        "outputId": "b84db30d-f2fd-43f4-cfff-e59b4de5c1c1",
        "colab": {
          "base_uri": "https://localhost:8080/",
          "height": 35
        }
      },
      "source": [
        "p2p2x.get().get()"
      ],
      "execution_count": 69,
      "outputs": [
        {
          "output_type": "execute_result",
          "data": {
            "text/plain": [
              "tensor([1, 2, 3, 4, 5])"
            ]
          },
          "metadata": {
            "tags": []
          },
          "execution_count": 69
        }
      ]
    },
    {
      "cell_type": "code",
      "metadata": {
        "id": "pp7NOmdwiMIU",
        "colab_type": "code",
        "outputId": "07e6c1b3-e48e-4de1-c158-7ac7e728becd",
        "colab": {
          "base_uri": "https://localhost:8080/",
          "height": 35
        }
      },
      "source": [
        "bob._objects"
      ],
      "execution_count": 70,
      "outputs": [
        {
          "output_type": "execute_result",
          "data": {
            "text/plain": [
              "{}"
            ]
          },
          "metadata": {
            "tags": []
          },
          "execution_count": 70
        }
      ]
    },
    {
      "cell_type": "code",
      "metadata": {
        "id": "qpi7JC2riONE",
        "colab_type": "code",
        "outputId": "b4dd2736-14bf-4bbb-d88d-28bcf09fd348",
        "colab": {
          "base_uri": "https://localhost:8080/",
          "height": 35
        }
      },
      "source": [
        "alice._objects"
      ],
      "execution_count": 71,
      "outputs": [
        {
          "output_type": "execute_result",
          "data": {
            "text/plain": [
              "{}"
            ]
          },
          "metadata": {
            "tags": []
          },
          "execution_count": 71
        }
      ]
    },
    {
      "cell_type": "code",
      "metadata": {
        "id": "b34BwiYOiQLY",
        "colab_type": "code",
        "colab": {}
      },
      "source": [
        "# x is now a pointer to the data which lives on Bob's machine\n",
        "x = torch.tensor([1,2,3,4,5]).send(bob)"
      ],
      "execution_count": 0,
      "outputs": []
    },
    {
      "cell_type": "code",
      "metadata": {
        "id": "1xJ3Ry4SiRjq",
        "colab_type": "code",
        "outputId": "c0100ced-4628-4beb-a1b7-d5eae830e2be",
        "colab": {
          "base_uri": "https://localhost:8080/",
          "height": 53
        }
      },
      "source": [
        "print('  bob:', bob._objects)\n",
        "print('alice:',alice._objects)"
      ],
      "execution_count": 73,
      "outputs": [
        {
          "output_type": "stream",
          "text": [
            "  bob: {42893084212: tensor([1, 2, 3, 4, 5])}\n",
            "alice: {}\n"
          ],
          "name": "stdout"
        }
      ]
    },
    {
      "cell_type": "code",
      "metadata": {
        "id": "FJQM0zD6iS0T",
        "colab_type": "code",
        "colab": {}
      },
      "source": [
        "x = x.move(alice)"
      ],
      "execution_count": 0,
      "outputs": []
    },
    {
      "cell_type": "code",
      "metadata": {
        "id": "Bx7k2lFFiU8A",
        "colab_type": "code",
        "outputId": "013cd57e-44f1-419c-df52-794ef40965c9",
        "colab": {
          "base_uri": "https://localhost:8080/",
          "height": 53
        }
      },
      "source": [
        "print('  bob:', bob._objects)\n",
        "print('alice:',alice._objects)"
      ],
      "execution_count": 75,
      "outputs": [
        {
          "output_type": "stream",
          "text": [
            "  bob: {}\n",
            "alice: {42893084212: tensor([1, 2, 3, 4, 5])}\n"
          ],
          "name": "stdout"
        }
      ]
    },
    {
      "cell_type": "code",
      "metadata": {
        "id": "ODsAtUOQiWKr",
        "colab_type": "code",
        "outputId": "55e7f3f4-f99b-4e12-ffb7-fc9aefcde1e5",
        "colab": {
          "base_uri": "https://localhost:8080/",
          "height": 35
        }
      },
      "source": [
        "x"
      ],
      "execution_count": 76,
      "outputs": [
        {
          "output_type": "execute_result",
          "data": {
            "text/plain": [
              "(Wrapper)>[PointerTensor | me:29578883901 -> alice:42893084212]"
            ]
          },
          "metadata": {
            "tags": []
          },
          "execution_count": 76
        }
      ]
    },
    {
      "cell_type": "code",
      "metadata": {
        "id": "RmRmaLqZhYnD",
        "colab_type": "code",
        "colab": {}
      },
      "source": [
        "%reset -f"
      ],
      "execution_count": 0,
      "outputs": []
    },
    {
      "cell_type": "markdown",
      "metadata": {
        "id": "d3zj4TQHJFCo",
        "colab_type": "text"
      },
      "source": [
        "## Trusted Aggregator"
      ]
    },
    {
      "cell_type": "markdown",
      "metadata": {
        "id": "wvphyuvbQm4l",
        "colab_type": "text"
      },
      "source": [
        "With advanced remote execution techniques we can now have a reliable / trusted third-party to aggregate the gradients before sending the model back to us.\n",
        "\n"
      ]
    },
    {
      "cell_type": "code",
      "metadata": {
        "id": "JkmKvQmQjHVt",
        "colab_type": "code",
        "colab": {}
      },
      "source": [
        "import torch\n",
        "import syft as sy\n",
        "import copy\n",
        "hook = sy.TorchHook(torch)\n",
        "from torch import nn, optim"
      ],
      "execution_count": 0,
      "outputs": []
    },
    {
      "cell_type": "code",
      "metadata": {
        "id": "hNZwgDicjJL-",
        "colab_type": "code",
        "colab": {}
      },
      "source": [
        "# create a couple workers\n",
        "\n",
        "bob = sy.VirtualWorker(hook, id=\"bob\")\n",
        "alice = sy.VirtualWorker(hook, id=\"alice\")\n",
        "secure_worker = sy.VirtualWorker(hook, id=\"secure_worker\")\n",
        "\n",
        "\n",
        "# A Toy Dataset\n",
        "data = torch.tensor([[0,0],[0,1],[1,0],[1,1.]], requires_grad=True)\n",
        "target = torch.tensor([[0],[0],[1],[1.]], requires_grad=True)\n",
        "\n",
        "# get pointers to training data on each worker by\n",
        "# sending some training data to bob and alice\n",
        "bobs_data = data[0:2].send(bob)\n",
        "bobs_target = target[0:2].send(bob)\n",
        "\n",
        "alices_data = data[2:].send(alice)\n",
        "alices_target = target[2:].send(alice)"
      ],
      "execution_count": 0,
      "outputs": []
    },
    {
      "cell_type": "code",
      "metadata": {
        "id": "ihnEuk2IjOnm",
        "colab_type": "code",
        "colab": {}
      },
      "source": [
        "# Iniitalize A Toy Model\n",
        "model = nn.Linear(2,1)"
      ],
      "execution_count": 0,
      "outputs": []
    },
    {
      "cell_type": "code",
      "metadata": {
        "id": "sa5d18-QjQWK",
        "colab_type": "code",
        "colab": {}
      },
      "source": [
        "bobs_model = model.copy().send(bob)\n",
        "alices_model = model.copy().send(alice)\n",
        "\n",
        "bobs_opt = optim.SGD(params=bobs_model.parameters(),lr=0.1)\n",
        "alices_opt = optim.SGD(params=alices_model.parameters(),lr=0.1)"
      ],
      "execution_count": 0,
      "outputs": []
    },
    {
      "cell_type": "code",
      "metadata": {
        "id": "Nmltjd4LjTW_",
        "colab_type": "code",
        "outputId": "c426ba2e-350e-4899-e610-4daf661f61bc",
        "colab": {
          "base_uri": "https://localhost:8080/",
          "height": 195
        }
      },
      "source": [
        "for i in range(10):\n",
        "\n",
        "    # Train Bob's Model\n",
        "    bobs_opt.zero_grad()\n",
        "    bobs_pred = bobs_model(bobs_data)\n",
        "    bobs_loss = ((bobs_pred - bobs_target)**2).sum()\n",
        "    bobs_loss.backward()\n",
        "\n",
        "    bobs_opt.step()\n",
        "    bobs_loss = bobs_loss.get().data\n",
        "\n",
        "    # Train Alice's Model\n",
        "    alices_opt.zero_grad()\n",
        "    alices_pred = alices_model(alices_data)\n",
        "    alices_loss = ((alices_pred - alices_target)**2).sum()\n",
        "    alices_loss.backward()\n",
        "\n",
        "    alices_opt.step()\n",
        "    alices_loss = alices_loss.get().data\n",
        "    \n",
        "    print(\"Bob:\" + str(bobs_loss) + \" Alice:\" + str(alices_loss))"
      ],
      "execution_count": 82,
      "outputs": [
        {
          "output_type": "stream",
          "text": [
            "Bob:tensor(0.8326) Alice:tensor(7.4444)\n",
            "Bob:tensor(0.2031) Alice:tensor(0.0576)\n",
            "Bob:tensor(0.0581) Alice:tensor(0.0007)\n",
            "Bob:tensor(0.0235) Alice:tensor(0.0002)\n",
            "Bob:tensor(0.0141) Alice:tensor(0.0002)\n",
            "Bob:tensor(0.0107) Alice:tensor(0.0002)\n",
            "Bob:tensor(0.0088) Alice:tensor(0.0001)\n",
            "Bob:tensor(0.0074) Alice:tensor(0.0001)\n",
            "Bob:tensor(0.0063) Alice:tensor(8.9752e-05)\n",
            "Bob:tensor(0.0054) Alice:tensor(7.4701e-05)\n"
          ],
          "name": "stdout"
        }
      ]
    },
    {
      "cell_type": "code",
      "metadata": {
        "id": "5eJ3TnRrjWhP",
        "colab_type": "code",
        "colab": {}
      },
      "source": [
        "alices_model.move(secure_worker)"
      ],
      "execution_count": 0,
      "outputs": []
    },
    {
      "cell_type": "code",
      "metadata": {
        "id": "nTLXtV5WjZbs",
        "colab_type": "code",
        "colab": {}
      },
      "source": [
        "bobs_model.move(secure_worker)"
      ],
      "execution_count": 0,
      "outputs": []
    },
    {
      "cell_type": "code",
      "metadata": {
        "id": "ftcbbmvEjb5h",
        "colab_type": "code",
        "colab": {}
      },
      "source": [
        "with torch.no_grad():\n",
        "    model.weight.set_(((alices_model.weight.data + bobs_model.weight.data) / 2).get())\n",
        "    model.bias.set_(((alices_model.bias.data + bobs_model.bias.data) / 2).get())"
      ],
      "execution_count": 0,
      "outputs": []
    },
    {
      "cell_type": "code",
      "metadata": {
        "id": "dUrU7VCWjdMc",
        "colab_type": "code",
        "outputId": "6443e4b8-aed3-460e-c1c6-5fa0bbf65625",
        "colab": {
          "base_uri": "https://localhost:8080/",
          "height": 195
        }
      },
      "source": [
        "iterations = 10\n",
        "worker_iters = 5\n",
        "\n",
        "for a_iter in range(iterations):\n",
        "    \n",
        "    bobs_model = model.copy().send(bob)\n",
        "    alices_model = model.copy().send(alice)\n",
        "\n",
        "    bobs_opt = optim.SGD(params=bobs_model.parameters(),lr=0.1)\n",
        "    alices_opt = optim.SGD(params=alices_model.parameters(),lr=0.1)\n",
        "\n",
        "    for wi in range(worker_iters):\n",
        "\n",
        "        # Train Bob's Model\n",
        "        bobs_opt.zero_grad()\n",
        "        bobs_pred = bobs_model(bobs_data)\n",
        "        bobs_loss = ((bobs_pred - bobs_target)**2).sum()\n",
        "        bobs_loss.backward()\n",
        "\n",
        "        bobs_opt.step()\n",
        "        bobs_loss = bobs_loss.get().data\n",
        "\n",
        "        # Train Alice's Model\n",
        "        alices_opt.zero_grad()\n",
        "        alices_pred = alices_model(alices_data)\n",
        "        alices_loss = ((alices_pred - alices_target)**2).sum()\n",
        "        alices_loss.backward()\n",
        "\n",
        "        alices_opt.step()\n",
        "        alices_loss = alices_loss.get().data\n",
        "    \n",
        "    alices_model.move(secure_worker)\n",
        "    bobs_model.move(secure_worker)\n",
        "    with torch.no_grad():\n",
        "        model.weight.set_(((alices_model.weight.data + bobs_model.weight.data) / 2).get())\n",
        "        model.bias.set_(((alices_model.bias.data + bobs_model.bias.data) / 2).get())\n",
        "    \n",
        "    print(\"Bob:\" + str(bobs_loss) + \" Alice:\" + str(alices_loss))"
      ],
      "execution_count": 86,
      "outputs": [
        {
          "output_type": "stream",
          "text": [
            "Bob:tensor(0.0075) Alice:tensor(0.0028)\n",
            "Bob:tensor(0.0073) Alice:tensor(0.0019)\n",
            "Bob:tensor(0.0066) Alice:tensor(0.0011)\n",
            "Bob:tensor(0.0056) Alice:tensor(0.0006)\n",
            "Bob:tensor(0.0047) Alice:tensor(0.0004)\n",
            "Bob:tensor(0.0038) Alice:tensor(0.0002)\n",
            "Bob:tensor(0.0031) Alice:tensor(0.0001)\n",
            "Bob:tensor(0.0024) Alice:tensor(9.2327e-05)\n",
            "Bob:tensor(0.0019) Alice:tensor(6.2528e-05)\n",
            "Bob:tensor(0.0015) Alice:tensor(4.3476e-05)\n"
          ],
          "name": "stdout"
        }
      ]
    },
    {
      "cell_type": "code",
      "metadata": {
        "id": "BJtAkkSejit1",
        "colab_type": "code",
        "colab": {}
      },
      "source": [
        "preds = model(data)\n",
        "loss = ((preds - target) ** 2).sum()"
      ],
      "execution_count": 0,
      "outputs": []
    },
    {
      "cell_type": "code",
      "metadata": {
        "id": "IbqsvvRUjjut",
        "colab_type": "code",
        "outputId": "1ab18f04-9be1-4377-d49d-725e3f18ca88",
        "colab": {
          "base_uri": "https://localhost:8080/",
          "height": 177
        }
      },
      "source": [
        "print(preds)\n",
        "print(target)\n",
        "print(loss.data)"
      ],
      "execution_count": 88,
      "outputs": [
        {
          "output_type": "stream",
          "text": [
            "tensor([[0.1101],\n",
            "        [0.0909],\n",
            "        [0.8853],\n",
            "        [0.8661]], grad_fn=<AddmmBackward>)\n",
            "tensor([[0.],\n",
            "        [0.],\n",
            "        [1.],\n",
            "        [1.]], requires_grad=True)\n",
            "tensor(0.0515)\n"
          ],
          "name": "stdout"
        }
      ]
    },
    {
      "cell_type": "code",
      "metadata": {
        "id": "9F0sjWelkPAB",
        "colab_type": "code",
        "colab": {}
      },
      "source": [
        "%reset -f"
      ],
      "execution_count": 0,
      "outputs": []
    },
    {
      "cell_type": "markdown",
      "metadata": {
        "id": "gYj-VM58Ieq1",
        "colab_type": "text"
      },
      "source": [
        "# Encrypted Programs"
      ]
    },
    {
      "cell_type": "markdown",
      "metadata": {
        "id": "ml4YAnRZFtNt",
        "colab_type": "text"
      },
      "source": [
        "A **trusted aggregator** is a very strong (and naive) assumption. Often times we cannot find trusted third-parties. One (almost magical) solution to this is to use Secure Multi-Party Computation (SMPC), an algorithm that let's us perform **encrypted computation**.\n",
        "\n",
        "**The idea** is that, unlike in public-key cryptography, each agent will not have a public/private key. Instead, each will have a *share* of the value to be encrypted. In a sense, each agent has **a** private key, but they all need to be used to decrypt."
      ]
    },
    {
      "cell_type": "code",
      "metadata": {
        "id": "j0DVr1QAjqCM",
        "colab_type": "code",
        "colab": {}
      },
      "source": [
        "Q = 1234567891011"
      ],
      "execution_count": 0,
      "outputs": []
    },
    {
      "cell_type": "code",
      "metadata": {
        "id": "SYatAjELjsXU",
        "colab_type": "code",
        "colab": {}
      },
      "source": [
        "x = 25"
      ],
      "execution_count": 0,
      "outputs": []
    },
    {
      "cell_type": "code",
      "metadata": {
        "id": "7ZLguCG5juKL",
        "colab_type": "code",
        "colab": {}
      },
      "source": [
        "import random\n",
        "\n",
        "def encrypt(x):\n",
        "    share_a = random.randint(-Q,Q)\n",
        "    share_b = random.randint(-Q,Q)\n",
        "    share_c = (x - share_a - share_b) % Q\n",
        "    return (share_a, share_b,  share_c)"
      ],
      "execution_count": 0,
      "outputs": []
    },
    {
      "cell_type": "code",
      "metadata": {
        "id": "cPfkSpLwjv8b",
        "colab_type": "code",
        "outputId": "7562767d-b297-4e15-9405-7be0b2bafdfc",
        "colab": {
          "base_uri": "https://localhost:8080/",
          "height": 35
        }
      },
      "source": [
        "encrypt(x)"
      ],
      "execution_count": 0,
      "outputs": [
        {
          "output_type": "execute_result",
          "data": {
            "text/plain": [
              "(-520169851765, -324163672501, 844333524291)"
            ]
          },
          "metadata": {
            "tags": []
          },
          "execution_count": 89
        }
      ]
    },
    {
      "cell_type": "code",
      "metadata": {
        "id": "NVRBLN3wjxrs",
        "colab_type": "code",
        "colab": {}
      },
      "source": [
        "def decrypt(*shares):\n",
        "    return sum(shares) % Q"
      ],
      "execution_count": 0,
      "outputs": []
    },
    {
      "cell_type": "code",
      "metadata": {
        "id": "rA-ZPM4tjzis",
        "colab_type": "code",
        "colab": {}
      },
      "source": [
        "a,b,c = encrypt(25)"
      ],
      "execution_count": 0,
      "outputs": []
    },
    {
      "cell_type": "code",
      "metadata": {
        "id": "Fu30o590j1ta",
        "colab_type": "code",
        "outputId": "2d69ecb2-1dc0-4660-8382-293379f319d1",
        "colab": {
          "base_uri": "https://localhost:8080/",
          "height": 35
        }
      },
      "source": [
        "decrypt(a, b, c)"
      ],
      "execution_count": 95,
      "outputs": [
        {
          "output_type": "execute_result",
          "data": {
            "text/plain": [
              "25"
            ]
          },
          "metadata": {
            "tags": []
          },
          "execution_count": 95
        }
      ]
    },
    {
      "cell_type": "code",
      "metadata": {
        "id": "DMPgcPi4j4Dm",
        "colab_type": "code",
        "outputId": "7d207f95-9b68-4c05-aae0-dffb73c2e39d",
        "colab": {
          "base_uri": "https://localhost:8080/",
          "height": 35
        }
      },
      "source": [
        "decrypt(a, b)"
      ],
      "execution_count": 97,
      "outputs": [
        {
          "output_type": "execute_result",
          "data": {
            "text/plain": [
              "295264354699"
            ]
          },
          "metadata": {
            "tags": []
          },
          "execution_count": 97
        }
      ]
    },
    {
      "cell_type": "markdown",
      "metadata": {
        "id": "2EeE6jk4l_dg",
        "colab_type": "text"
      },
      "source": [
        "### Basic Arithmetic:"
      ]
    },
    {
      "cell_type": "code",
      "metadata": {
        "id": "jzbuZm3gj8Ad",
        "colab_type": "code",
        "colab": {}
      },
      "source": [
        "x = encrypt(25)\n",
        "y = encrypt(5)"
      ],
      "execution_count": 0,
      "outputs": []
    },
    {
      "cell_type": "code",
      "metadata": {
        "id": "eXZWjcebj9vZ",
        "colab_type": "code",
        "colab": {}
      },
      "source": [
        "def add(x, y):\n",
        "    z = list()\n",
        "    # the first worker adds their shares together\n",
        "    z.append((x[0] + y[0]) % Q)\n",
        "    \n",
        "    # the second worker adds their shares together\n",
        "    z.append((x[1] + y[1]) % Q)\n",
        "    \n",
        "    # the third worker adds their shares together\n",
        "    z.append((x[2] + y[2]) % Q)\n",
        "    \n",
        "    return z"
      ],
      "execution_count": 0,
      "outputs": []
    },
    {
      "cell_type": "code",
      "metadata": {
        "id": "K78mdIIzj-qY",
        "colab_type": "code",
        "outputId": "f8ee07a4-7ba0-4a23-8075-a36c150368ec",
        "colab": {
          "base_uri": "https://localhost:8080/",
          "height": 35
        }
      },
      "source": [
        "decrypt(*add(x,y))"
      ],
      "execution_count": 100,
      "outputs": [
        {
          "output_type": "execute_result",
          "data": {
            "text/plain": [
              "30"
            ]
          },
          "metadata": {
            "tags": []
          },
          "execution_count": 100
        }
      ]
    },
    {
      "cell_type": "code",
      "metadata": {
        "id": "XKiAild2kBqD",
        "colab_type": "code",
        "colab": {}
      },
      "source": [
        "import torch\n",
        "import syft as sy\n",
        "hook = sy.TorchHook(torch)\n",
        "\n",
        "bob = sy.VirtualWorker(hook, id=\"bob\")\n",
        "alice = sy.VirtualWorker(hook, id=\"alice\")\n",
        "bill = sy.VirtualWorker(hook, id=\"bill\")"
      ],
      "execution_count": 0,
      "outputs": []
    },
    {
      "cell_type": "code",
      "metadata": {
        "id": "Ys8VppG4kC0U",
        "colab_type": "code",
        "colab": {}
      },
      "source": [
        "x = torch.tensor([25])"
      ],
      "execution_count": 0,
      "outputs": []
    },
    {
      "cell_type": "code",
      "metadata": {
        "id": "j8ZLW21qkFI-",
        "colab_type": "code",
        "outputId": "7b465370-5a30-4510-cb51-0092b0fb5bfc",
        "colab": {
          "base_uri": "https://localhost:8080/",
          "height": 35
        }
      },
      "source": [
        "x"
      ],
      "execution_count": 103,
      "outputs": [
        {
          "output_type": "execute_result",
          "data": {
            "text/plain": [
              "tensor([25])"
            ]
          },
          "metadata": {
            "tags": []
          },
          "execution_count": 103
        }
      ]
    },
    {
      "cell_type": "code",
      "metadata": {
        "id": "quI5-T57kHtq",
        "colab_type": "code",
        "colab": {}
      },
      "source": [
        "encrypted_x = x.share(bob, alice, bill)"
      ],
      "execution_count": 0,
      "outputs": []
    },
    {
      "cell_type": "code",
      "metadata": {
        "id": "Rx7Tg-KHkJAq",
        "colab_type": "code",
        "outputId": "277b0b87-dcde-4495-dc81-7511515e74ac",
        "colab": {
          "base_uri": "https://localhost:8080/",
          "height": 35
        }
      },
      "source": [
        "encrypted_x.get()"
      ],
      "execution_count": 105,
      "outputs": [
        {
          "output_type": "execute_result",
          "data": {
            "text/plain": [
              "tensor([25])"
            ]
          },
          "metadata": {
            "tags": []
          },
          "execution_count": 105
        }
      ]
    },
    {
      "cell_type": "code",
      "metadata": {
        "id": "HeT6ys7SkK6U",
        "colab_type": "code",
        "outputId": "153dee41-7737-4221-dd9f-cf8ffa2f5fa8",
        "colab": {
          "base_uri": "https://localhost:8080/",
          "height": 35
        }
      },
      "source": [
        "bob._objects"
      ],
      "execution_count": 106,
      "outputs": [
        {
          "output_type": "execute_result",
          "data": {
            "text/plain": [
              "{}"
            ]
          },
          "metadata": {
            "tags": []
          },
          "execution_count": 106
        }
      ]
    },
    {
      "cell_type": "code",
      "metadata": {
        "id": "B1dEk9gVkdWU",
        "colab_type": "code",
        "colab": {}
      },
      "source": [
        "x = torch.tensor([25]).share(bob, alice, bill)"
      ],
      "execution_count": 0,
      "outputs": []
    },
    {
      "cell_type": "code",
      "metadata": {
        "id": "QbrlxBnKkeyK",
        "colab_type": "code",
        "outputId": "2e0d51b9-2a73-4a2e-d1d2-fe30d303fd3e",
        "colab": {
          "base_uri": "https://localhost:8080/",
          "height": 35
        }
      },
      "source": [
        "# Bob's share\n",
        "bobs_share = list(bob._objects.values())[0]\n",
        "bobs_share"
      ],
      "execution_count": 108,
      "outputs": [
        {
          "output_type": "execute_result",
          "data": {
            "text/plain": [
              "tensor([1138234187563384712])"
            ]
          },
          "metadata": {
            "tags": []
          },
          "execution_count": 108
        }
      ]
    },
    {
      "cell_type": "code",
      "metadata": {
        "id": "3AKBKTnFkgbe",
        "colab_type": "code",
        "outputId": "6d2ec1d4-3476-4890-dc6c-5e150a22a2be",
        "colab": {
          "base_uri": "https://localhost:8080/",
          "height": 35
        }
      },
      "source": [
        "# Alice's share\n",
        "alices_share = list(alice._objects.values())[0]\n",
        "alices_share"
      ],
      "execution_count": 109,
      "outputs": [
        {
          "output_type": "execute_result",
          "data": {
            "text/plain": [
              "tensor([3250733381822143904])"
            ]
          },
          "metadata": {
            "tags": []
          },
          "execution_count": 109
        }
      ]
    },
    {
      "cell_type": "code",
      "metadata": {
        "id": "f55AmPhxkiHk",
        "colab_type": "code",
        "outputId": "156e3ca1-086f-4beb-cc50-a885032e382c",
        "colab": {
          "base_uri": "https://localhost:8080/",
          "height": 35
        }
      },
      "source": [
        "# Bill's share\n",
        "bills_share = list(bill._objects.values())[0]\n",
        "bills_share"
      ],
      "execution_count": 110,
      "outputs": [
        {
          "output_type": "execute_result",
          "data": {
            "text/plain": [
              "tensor([222718449041859313])"
            ]
          },
          "metadata": {
            "tags": []
          },
          "execution_count": 110
        }
      ]
    },
    {
      "cell_type": "code",
      "metadata": {
        "id": "xeUs2f53kjmC",
        "colab_type": "code",
        "outputId": "ed71c4eb-cff4-47ee-8835-5b94ecbe8e1b",
        "colab": {
          "base_uri": "https://localhost:8080/",
          "height": 35
        }
      },
      "source": [
        "Q = x.child.field\n",
        "\n",
        "(bobs_share + alices_share + bills_share) % Q"
      ],
      "execution_count": 111,
      "outputs": [
        {
          "output_type": "execute_result",
          "data": {
            "text/plain": [
              "tensor([25])"
            ]
          },
          "metadata": {
            "tags": []
          },
          "execution_count": 111
        }
      ]
    },
    {
      "cell_type": "code",
      "metadata": {
        "id": "DGFTm691kmFG",
        "colab_type": "code",
        "colab": {}
      },
      "source": [
        "x = torch.tensor([25]).share(bob,alice)\n",
        "y = torch.tensor([5]).share(bob,alice)"
      ],
      "execution_count": 0,
      "outputs": []
    },
    {
      "cell_type": "code",
      "metadata": {
        "id": "WDVrAj42kn00",
        "colab_type": "code",
        "outputId": "7de96c5a-ca1f-40fb-b49a-a77cb8de1ea2",
        "colab": {
          "base_uri": "https://localhost:8080/",
          "height": 35
        }
      },
      "source": [
        "z = x + y\n",
        "z.get()"
      ],
      "execution_count": 113,
      "outputs": [
        {
          "output_type": "execute_result",
          "data": {
            "text/plain": [
              "tensor([30])"
            ]
          },
          "metadata": {
            "tags": []
          },
          "execution_count": 113
        }
      ]
    },
    {
      "cell_type": "code",
      "metadata": {
        "id": "cQiZhT87kpV8",
        "colab_type": "code",
        "outputId": "abb0bb2d-eac6-42dc-9481-69e70490a067",
        "colab": {
          "base_uri": "https://localhost:8080/",
          "height": 35
        }
      },
      "source": [
        "z = x - y\n",
        "z.get()"
      ],
      "execution_count": 114,
      "outputs": [
        {
          "output_type": "execute_result",
          "data": {
            "text/plain": [
              "tensor([20])"
            ]
          },
          "metadata": {
            "tags": []
          },
          "execution_count": 114
        }
      ]
    },
    {
      "cell_type": "markdown",
      "metadata": {
        "id": "9KGmkW5xmGab",
        "colab_type": "text"
      },
      "source": [
        "### Multiplication"
      ]
    },
    {
      "cell_type": "code",
      "metadata": {
        "id": "zgdXG4BLkuAH",
        "colab_type": "code",
        "colab": {}
      },
      "source": [
        "crypto_provider = sy.VirtualWorker(hook, id=\"crypto_provider\")"
      ],
      "execution_count": 0,
      "outputs": []
    },
    {
      "cell_type": "code",
      "metadata": {
        "id": "yRAbysa8kwmL",
        "colab_type": "code",
        "colab": {}
      },
      "source": [
        "x = torch.tensor([25]).share(bob, alice, crypto_provider=crypto_provider)\n",
        "y = torch.tensor([5]).share(bob, alice, crypto_provider=crypto_provider)"
      ],
      "execution_count": 0,
      "outputs": []
    },
    {
      "cell_type": "code",
      "metadata": {
        "id": "BKOrZU91k0Hv",
        "colab_type": "code",
        "outputId": "cd70ee0b-7551-450e-df1e-cc10bb78db23",
        "colab": {
          "base_uri": "https://localhost:8080/",
          "height": 35
        }
      },
      "source": [
        "# multiplication\n",
        "\n",
        "z = x * y\n",
        "z.get()"
      ],
      "execution_count": 117,
      "outputs": [
        {
          "output_type": "execute_result",
          "data": {
            "text/plain": [
              "tensor([125])"
            ]
          },
          "metadata": {
            "tags": []
          },
          "execution_count": 117
        }
      ]
    },
    {
      "cell_type": "code",
      "metadata": {
        "id": "0aRAMbHpk3Z8",
        "colab_type": "code",
        "colab": {}
      },
      "source": [
        "x = torch.tensor([[1, 2],[3,4]]).share(bob,alice, crypto_provider=crypto_provider)\n",
        "y = torch.tensor([[2, 0],[0,2]]).share(bob,alice, crypto_provider=crypto_provider)"
      ],
      "execution_count": 0,
      "outputs": []
    },
    {
      "cell_type": "code",
      "metadata": {
        "id": "K8_JfR6Pk45n",
        "colab_type": "code",
        "outputId": "51cf4623-4f41-4505-afb0-2f631f257c66",
        "colab": {
          "base_uri": "https://localhost:8080/",
          "height": 53
        }
      },
      "source": [
        "# matrix multiplication\n",
        "\n",
        "z = x.mm(y)\n",
        "z.get()"
      ],
      "execution_count": 119,
      "outputs": [
        {
          "output_type": "execute_result",
          "data": {
            "text/plain": [
              "tensor([[2, 4],\n",
              "        [6, 8]])"
            ]
          },
          "metadata": {
            "tags": []
          },
          "execution_count": 119
        }
      ]
    },
    {
      "cell_type": "markdown",
      "metadata": {
        "id": "2VUbgKqOmK61",
        "colab_type": "text"
      },
      "source": [
        "### Comparison"
      ]
    },
    {
      "cell_type": "code",
      "metadata": {
        "id": "7oZtrmJtk_4N",
        "colab_type": "code",
        "colab": {}
      },
      "source": [
        "x = torch.tensor([25]).share(bob,alice, crypto_provider=crypto_provider)\n",
        "y = torch.tensor([5]).share(bob,alice, crypto_provider=crypto_provider)"
      ],
      "execution_count": 0,
      "outputs": []
    },
    {
      "cell_type": "code",
      "metadata": {
        "id": "gDwWx-V9lArH",
        "colab_type": "code",
        "outputId": "1f903e26-3378-42d7-f099-7536ef26c0ec",
        "colab": {
          "base_uri": "https://localhost:8080/",
          "height": 35
        }
      },
      "source": [
        "z = x > y\n",
        "z.get()"
      ],
      "execution_count": 121,
      "outputs": [
        {
          "output_type": "execute_result",
          "data": {
            "text/plain": [
              "tensor([1])"
            ]
          },
          "metadata": {
            "tags": []
          },
          "execution_count": 121
        }
      ]
    },
    {
      "cell_type": "code",
      "metadata": {
        "id": "Tlrvmr4TlCPb",
        "colab_type": "code",
        "outputId": "38c6076d-d8f8-4269-e0e6-44956a8e4f2f",
        "colab": {
          "base_uri": "https://localhost:8080/",
          "height": 35
        }
      },
      "source": [
        "z = x <= y\n",
        "z.get()"
      ],
      "execution_count": 122,
      "outputs": [
        {
          "output_type": "execute_result",
          "data": {
            "text/plain": [
              "tensor([0])"
            ]
          },
          "metadata": {
            "tags": []
          },
          "execution_count": 122
        }
      ]
    },
    {
      "cell_type": "code",
      "metadata": {
        "id": "dy-WMnuvlE0m",
        "colab_type": "code",
        "outputId": "20919d91-ebe3-4730-9c94-6e72bbb7b329",
        "colab": {
          "base_uri": "https://localhost:8080/",
          "height": 35
        }
      },
      "source": [
        "z = x == y\n",
        "z.get()"
      ],
      "execution_count": 123,
      "outputs": [
        {
          "output_type": "execute_result",
          "data": {
            "text/plain": [
              "tensor([0])"
            ]
          },
          "metadata": {
            "tags": []
          },
          "execution_count": 123
        }
      ]
    },
    {
      "cell_type": "code",
      "metadata": {
        "id": "H-oa-DQ1lGFO",
        "colab_type": "code",
        "outputId": "f8de41c6-3a89-41b7-97c4-3924c3b450e3",
        "colab": {
          "base_uri": "https://localhost:8080/",
          "height": 35
        }
      },
      "source": [
        "z = x == y + 20\n",
        "z.get()"
      ],
      "execution_count": 124,
      "outputs": [
        {
          "output_type": "execute_result",
          "data": {
            "text/plain": [
              "tensor([1])"
            ]
          },
          "metadata": {
            "tags": []
          },
          "execution_count": 124
        }
      ]
    },
    {
      "cell_type": "code",
      "metadata": {
        "id": "MvWRxxRZlHzn",
        "colab_type": "code",
        "outputId": "07d930f3-d99c-4b70-85e8-e286b2b4898b",
        "colab": {
          "base_uri": "https://localhost:8080/",
          "height": 35
        }
      },
      "source": [
        "x = torch.tensor([2, 3, 4, 1]).share(bob,alice, crypto_provider=crypto_provider)\n",
        "x.max().get()"
      ],
      "execution_count": 125,
      "outputs": [
        {
          "output_type": "execute_result",
          "data": {
            "text/plain": [
              "tensor([4])"
            ]
          },
          "metadata": {
            "tags": []
          },
          "execution_count": 125
        }
      ]
    },
    {
      "cell_type": "code",
      "metadata": {
        "id": "K2GhADGGlJDr",
        "colab_type": "code",
        "outputId": "b407c453-0d95-4032-aad5-e8c9b58eb546",
        "colab": {
          "base_uri": "https://localhost:8080/",
          "height": 35
        }
      },
      "source": [
        "x = torch.tensor([[2, 3], [4, 1]]).share(bob,alice, crypto_provider=crypto_provider)\n",
        "max_values, max_ids = x.max(dim=0)\n",
        "max_values.get()"
      ],
      "execution_count": 126,
      "outputs": [
        {
          "output_type": "execute_result",
          "data": {
            "text/plain": [
              "tensor([4, 3])"
            ]
          },
          "metadata": {
            "tags": []
          },
          "execution_count": 126
        }
      ]
    },
    {
      "cell_type": "code",
      "metadata": {
        "id": "V0yO5zfDlbfy",
        "colab_type": "code",
        "colab": {}
      },
      "source": [
        "%reset -f"
      ],
      "execution_count": 0,
      "outputs": []
    },
    {
      "cell_type": "markdown",
      "metadata": {
        "id": "i-sBRk15LkOX",
        "colab_type": "text"
      },
      "source": [
        "# Example\n",
        "\n",
        "We can now use Federated Learning + SMPC to have a privacy-preserving ML framework. The following is an example of what can be done!"
      ]
    },
    {
      "cell_type": "markdown",
      "metadata": {
        "id": "QoqFH4pawsxs",
        "colab_type": "text"
      },
      "source": [
        "## Encrypted NN on Encrypted Data\n",
        "\n",
        "![alt text](https://raw.githubusercontent.com/arturomf94/pysyft-crash-course/master/docs/mnist.png)"
      ]
    },
    {
      "cell_type": "code",
      "metadata": {
        "id": "Wmy13ZXytjtz",
        "colab_type": "code",
        "colab": {}
      },
      "source": [
        "import torch\n",
        "import torch.nn as nn\n",
        "import torch.nn.functional as F\n",
        "import torch.optim as optim\n",
        "import syft as sy"
      ],
      "execution_count": 0,
      "outputs": []
    },
    {
      "cell_type": "code",
      "metadata": {
        "id": "bTZhHNwXtlJg",
        "colab_type": "code",
        "colab": {}
      },
      "source": [
        "# Set everything up\n",
        "hook = sy.TorchHook(torch) \n",
        "\n",
        "alice = sy.VirtualWorker(id=\"alice\", hook=hook)\n",
        "bob = sy.VirtualWorker(id=\"bob\", hook=hook)\n",
        "james = sy.VirtualWorker(id=\"james\", hook=hook)"
      ],
      "execution_count": 0,
      "outputs": []
    },
    {
      "cell_type": "code",
      "metadata": {
        "id": "SqjIInbGtpog",
        "colab_type": "code",
        "colab": {}
      },
      "source": [
        "# A Toy Dataset\n",
        "data = torch.tensor([[0,0],[0,1],[1,0],[1,1.]])\n",
        "target = torch.tensor([[0],[0],[1],[1.]])\n",
        "\n",
        "# A Toy Model\n",
        "class Net(nn.Module):\n",
        "    def __init__(self):\n",
        "        super(Net, self).__init__()\n",
        "        self.fc1 = nn.Linear(2, 2)\n",
        "        self.fc2 = nn.Linear(2, 1)\n",
        "\n",
        "    def forward(self, x):\n",
        "        x = self.fc1(x)\n",
        "        x = F.relu(x)\n",
        "        x = self.fc2(x)\n",
        "        return x\n",
        "model = Net()"
      ],
      "execution_count": 0,
      "outputs": []
    },
    {
      "cell_type": "code",
      "metadata": {
        "id": "9An3tqALtr6z",
        "colab_type": "code",
        "colab": {}
      },
      "source": [
        "# We encode everything\n",
        "data = data.fix_precision().share(bob, alice, crypto_provider=james, requires_grad=True)\n",
        "target = target.fix_precision().share(bob, alice, crypto_provider=james, requires_grad=True)\n",
        "model = model.fix_precision().share(bob, alice, crypto_provider=james, requires_grad=True)"
      ],
      "execution_count": 0,
      "outputs": []
    },
    {
      "cell_type": "code",
      "metadata": {
        "id": "hA5mi96xttVw",
        "colab_type": "code",
        "outputId": "4bccbbd7-9a86-4903-b5f9-a6179523cba9",
        "colab": {
          "base_uri": "https://localhost:8080/",
          "height": 88
        }
      },
      "source": [
        "print(data)"
      ],
      "execution_count": 132,
      "outputs": [
        {
          "output_type": "stream",
          "text": [
            "(Wrapper)>AutogradTensor>FixedPrecisionTensor>[AdditiveSharingTensor]\n",
            "\t-> [PointerTensor | me:28790545884 -> bob:4820121118]\n",
            "\t-> [PointerTensor | me:33515571378 -> alice:83089053615]\n",
            "\t*crypto provider: james*\n"
          ],
          "name": "stdout"
        }
      ]
    },
    {
      "cell_type": "code",
      "metadata": {
        "id": "EyTTS3l3tvnY",
        "colab_type": "code",
        "outputId": "a32db284-9610-47b7-f972-40d138cab82a",
        "colab": {
          "base_uri": "https://localhost:8080/",
          "height": 372
        }
      },
      "source": [
        "opt = optim.SGD(params=model.parameters(),lr=0.1).fix_precision()\n",
        "\n",
        "for iter in range(20):\n",
        "    # 1) erase previous gradients (if they exist)\n",
        "    opt.zero_grad()\n",
        "\n",
        "    # 2) make a prediction\n",
        "    pred = model(data)\n",
        "\n",
        "    # 3) calculate how much we missed\n",
        "    loss = ((pred - target)**2).sum()\n",
        "\n",
        "    # 4) figure out which weights caused us to miss\n",
        "    loss.backward()\n",
        "\n",
        "    # 5) change those weights\n",
        "    opt.step()\n",
        "\n",
        "    # 6) print our progress\n",
        "    print(loss.get().float_precision())"
      ],
      "execution_count": 133,
      "outputs": [
        {
          "output_type": "stream",
          "text": [
            "tensor(1.1860)\n",
            "tensor(1.0080)\n",
            "tensor(1.0010)\n",
            "tensor(0.9990)\n",
            "tensor(0.9980)\n",
            "tensor(0.9960)\n",
            "tensor(0.9960)\n",
            "tensor(0.9950)\n",
            "tensor(0.9940)\n",
            "tensor(0.9920)\n",
            "tensor(0.9890)\n",
            "tensor(0.9870)\n",
            "tensor(0.9840)\n",
            "tensor(0.9800)\n",
            "tensor(0.9750)\n",
            "tensor(0.9720)\n",
            "tensor(0.9660)\n",
            "tensor(0.9580)\n",
            "tensor(0.9510)\n",
            "tensor(0.9420)\n"
          ],
          "name": "stdout"
        }
      ]
    },
    {
      "cell_type": "code",
      "metadata": {
        "id": "rP5VZX25wjvU",
        "colab_type": "code",
        "colab": {}
      },
      "source": [
        "%reset -f"
      ],
      "execution_count": 0,
      "outputs": []
    }
  ]
}